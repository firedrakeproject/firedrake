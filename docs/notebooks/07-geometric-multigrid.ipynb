{
 "cells": [
  {
   "cell_type": "markdown",
   "metadata": {},
   "source": [
    "# Geometric multigrid solvers\n",
    "\n",
    "In addition to the full gamut of algebraic solvers offered by PETSc, Firedrake also provides access to multilevel solvers with geometric hierarchies. In this tutorial, we will study strategies to solve the Stokes equations, demonstrating how the multigrid functionality composes with fieldsplit preconditioning.\n",
    "\n",
    "\n",
    "## Creating a geometric hierarchy\n",
    "\n",
    "Geometric multigrid requires a geometric hierarchy of meshes on which the equations will be discretised.  For now, Firedrake supports hierarchies of *regularly refined* meshes, which we create by providing a *coarse mesh* and building a `MeshHierarchy`.  This hierarchy encapsulates the relationship between coarse and fine cells."
   ]
  },
  {
   "cell_type": "code",
   "execution_count": 1,
   "metadata": {},
   "outputs": [],
   "source": [
    "# Code in this cell makes plots appear an appropriate size and resolution in the browser window\n",
    "%matplotlib widget\n",
    "%config InlineBackend.figure_format = 'svg'\n",
    "\n",
    "import matplotlib.pyplot as plt\n",
    "\n",
    "plt.rcParams['figure.figsize'] = (11, 4)"
   ]
  },
  {
   "cell_type": "code",
   "execution_count": 2,
   "metadata": {},
   "outputs": [
    {
     "name": "stderr",
     "output_type": "stream",
     "text": [
      "[IC-D46G33P392:55297] shmem: mmap: an error occurred while determining whether or not /var/folders/4g/kvmb0gkn7t59x2_pjvrrk9nh0000gp/T//ompi.IC-D46G33P392.502/jf.0/2896101376/sm_segment.IC-D46G33P392.502.ac9f0000.0 could be created.\n"
     ]
    }
   ],
   "source": [
    "from firedrake import *\n",
    "\n",
    "coarse_mesh = RectangleMesh(15, 10, 1.5, 1)"
   ]
  },
  {
   "cell_type": "markdown",
   "metadata": {},
   "source": [
    "Having made the coarse mesh, we create the hierarchy of meshes.  The second argument tells Firedrake how many levels of refinement to use.  Here we refine three times, so that in total we have four meshes."
   ]
  },
  {
   "cell_type": "code",
   "execution_count": 3,
   "metadata": {},
   "outputs": [],
   "source": [
    "hierarchy = MeshHierarchy(coarse_mesh, 3)"
   ]
  },
  {
   "cell_type": "markdown",
   "metadata": {},
   "source": [
    "The `hierarchy` object behaves like a Python *iterable*, so we can ask for its length and index it to extract meshes on a given level in the normal way:"
   ]
  },
  {
   "cell_type": "code",
   "execution_count": 4,
   "metadata": {},
   "outputs": [
    {
     "data": {
      "text/plain": [
       "4"
      ]
     },
     "execution_count": 4,
     "metadata": {},
     "output_type": "execute_result"
    }
   ],
   "source": [
    "len(hierarchy)"
   ]
  },
  {
   "cell_type": "code",
   "execution_count": 5,
   "metadata": {},
   "outputs": [],
   "source": [
    "finest_mesh = hierarchy[-1]"
   ]
  },
  {
   "cell_type": "markdown",
   "metadata": {},
   "source": [
    "### Grid transfer\n",
    "\n",
    "If you want to control all aspects of the multigrid cycle, Firedrake offers the necessary building blocks.  You just need to create the relevant objects on the levels of the mesh hierarchy, and then use provided functions to transfer information between levels.\n",
    "\n",
    "Firedrake provides the three functions, `prolong`, `restrict`, and `inject`.\n",
    "\n",
    "- `prolong` transfers primal quantities from coarse to fine meshes.\n",
    "- `restrict` transfers dual quantities (residuals) from fine to coarse meshes.  It is the dual of `prolong`.\n",
    "- `inject` transfers primal quantities from fine to coarse meshes.\n",
    "\n",
    "Most of the time, there is no need to access the interface at this level.  Instead, it suffices to define the variational problem on the finest level of a mesh hierarchy and then drive the solver using PETSc options.  This is the most flexible method, which we now demonstrate."
   ]
  },
  {
   "cell_type": "markdown",
   "metadata": {},
   "source": [
    "## Exercise\n",
    "\n",
    "Create mesh hierarchy of two levels on an interval mesh.  Create a piecewise linear function on the fine mesh and interpolate the function $f(x) = x$.  Now use the grid transfer functionality to move this function to the coarse mesh (using both `restrict` and `inject`).  Do you notice a difference between the two outcomes?\n",
    "\n",
    "- Hint 1: You will need to create a `FunctionSpace` on both the coarse and fine mesh.\n",
    "- Hint 2: use `x, = SpatialCoordinate(mesh)` to gain access to the `x` coordinate on a given mesh."
   ]
  },
  {
   "cell_type": "code",
   "execution_count": null,
   "metadata": {},
   "outputs": [],
   "source": []
  },
  {
   "cell_type": "markdown",
   "metadata": {},
   "source": [
    "## Problem setup\n",
    "\n",
    "We will solve the Stokes equations on a rectangular domain $\\Omega = [0, 1.5] \\times [0, 1]$.  With constant inflow and outflow through two \"pipes\" and no slip boundaries everywhere else.\n",
    "\n",
    "Our problem is to find $(u, p) \\in V\\times Q$ such that:\n",
    "\n",
    "$$\n",
    "\\begin{align}\n",
    "-\\nu \\nabla^2 u + \\nabla p &= 0 \\quad \\text{in $\\Omega$},\\\\\n",
    "\\nabla \\cdot u &= 0 \\quad \\text{in $\\Omega$},\\\\\n",
    "u &= u_0 \\quad \\text{on $\\Gamma_{\\text{inout}}$},\\\\\n",
    "u &= (0, 0) \\quad \\text{on $\\Gamma \\setminus \\Gamma_{\\text{inout}}$},\n",
    "\\end{align}\n",
    "$$\n",
    "where \n",
    "$$\n",
    "\\Gamma_\\text{inout}(x, y) = \\{(x, y)\\, |\\, y \\in [1/6, 1/3] \\cup [2/3, 5/6], x \\in \\{0, 1.5\\} \\}\n",
    "$$\n",
    "and\n",
    "$$\n",
    "u_0(x, y) = \\bigg\\{\\\n",
    "\\begin{split} \n",
    "1 - (12 (y - 1/4))^2 \\quad y &< 1/2, \\\\\n",
    "1 - (12 (y - 3/4))^2 \\quad y &> 1/2. \\\\\n",
    "\\end{split}\n",
    "$$\n",
    "\n",
    "We will use Taylor-Hood elements.  In the usual way, we multiply by test functions and after integrating by parts and incorporating boundary conditions, we arrive at the weak formulation, find $(u, p) \\in V \\times Q$ such that\n",
    "\n",
    "$$\n",
    "\\begin{align}\n",
    "\\int_\\Omega \\nu \\nabla u : \\nabla v - p\\nabla \\cdot v\\,\\text{d}x &= 0 \\quad \\forall v \\in V,\\\\\n",
    "\\int_\\Omega q \\nabla \\cdot u\\,\\text{d}x &= 0 \\quad \\forall q \\in Q, \\\\\n",
    "u &= (1, 0) \\quad \\text{on $\\Gamma_{\\text{inout}}$},\\\\\n",
    "u &= (0, 0) \\quad \\text{on $\\Gamma \\setminus \\Gamma_{\\text{inout}}$}.\n",
    "\\end{align}\n",
    "$$"
   ]
  },
  {
   "cell_type": "markdown",
   "metadata": {},
   "source": [
    "## Implementation\n",
    "\n",
    "To make things easier to play with, we'll wrap everything up in a function that we can call to produce a solver."
   ]
  },
  {
   "cell_type": "code",
   "execution_count": 8,
   "metadata": {},
   "outputs": [],
   "source": [
    "def create_solver(parameters=None):\n",
    "    coarse_mesh = RectangleMesh(15, 10, 1.5, 1)\n",
    "    hierarchy = MeshHierarchy(coarse_mesh, 3)\n",
    "    \n",
    "    mesh = hierarchy[-1]\n",
    "    \n",
    "    V = VectorFunctionSpace(mesh, \"Lagrange\", 2)\n",
    "    Q = FunctionSpace(mesh, \"Lagrange\", 1)\n",
    "    W = V*Q\n",
    "    \n",
    "    u, p = TrialFunctions(W)\n",
    "    v, q = TestFunctions(W)\n",
    "    \n",
    "    nu = Constant(1)\n",
    "    x, y = SpatialCoordinate(mesh)\n",
    "    \n",
    "    t = conditional(y < 0.5, y - 1/4, y - 3/4)\n",
    "    gbar = conditional(Or(And(1/6 < y,\n",
    "                              y < 1/3),\n",
    "                          And(2/3 < y,\n",
    "                              y < 5/6)),\n",
    "                       1, \n",
    "                       0)\n",
    "\n",
    "    value = as_vector([gbar*(1 - (12*t)**2), 0])\n",
    "    bcs = [DirichletBC(W.sub(0), value, (1, 2)),\n",
    "           DirichletBC(W.sub(0), zero(2), (3, 4))]\n",
    "    \n",
    "    a = (nu*inner(grad(u), grad(v)) - p*div(v) + q*div(u))*dx\n",
    "    L = inner(Constant((0, 0)), v)*dx\n",
    "    wh = Function(W)\n",
    "    problem = LinearVariationalProblem(a, L, wh, bcs=bcs)\n",
    "    solver = LinearVariationalSolver(problem, solver_parameters=parameters, appctx={\"nu\": nu})\n",
    "    return solver"
   ]
  },
  {
   "cell_type": "code",
   "execution_count": 9,
   "metadata": {},
   "outputs": [
    {
     "name": "stdout",
     "output_type": "stream",
     "text": [
      "    Residual norms for firedrake_1_ solve.\n",
      "    0 KSP Residual norm 1.021257383821e+01\n",
      "    1 KSP Residual norm 5.119018808906e-11\n"
     ]
    }
   ],
   "source": [
    "solver = create_solver({\"ksp_type\": \"preonly\",\n",
    "                        \"pc_type\": \"lu\",\n",
    "                        \"pc_factor_shift_type\": \"inblocks\",\n",
    "                        \"ksp_monitor\": None,\n",
    "                        \"pmat_type\": \"aij\"})\n",
    "solver.solve()"
   ]
  },
  {
   "cell_type": "markdown",
   "metadata": {},
   "source": [
    "We can extract the solution variable from the solver object and plot the velocity and pressure fields.\n",
    "In previous notebooks, we've seen how to create multiple subplots, arrange them within a figure, share the axes, set the aspect ratio, and add titles.\n",
    "Here we're also taking the output of each plotting function -- a set of streamlines from streamplot and a set of colored triangles from tripcolor -- and using them to add a colorbar to each subplot.\n",
    "When we create the colorbar, we also need to tell matplotlib which axis to draw it on.\n",
    "Finally, we're adjusting the size and spacing of the colorbar to make the result look nicer.\n",
    "Steps like this often require some trial and error, but they're essential for making publication-quality figures."
   ]
  },
  {
   "cell_type": "code",
   "execution_count": 10,
   "metadata": {},
   "outputs": [
    {
     "name": "stderr",
     "output_type": "stream",
     "text": [
      "/Users/dham/src/firedrake-pyadjoint/firedrake/firedrake/pyplot/mpl.py:395: RuntimeWarning: divide by zero encountered in scalar divide\n",
      "  dt = 0.5 * r / np.sqrt(np.sum(v1**2))\n",
      "/Users/dham/src/firedrake-pyadjoint/firedrake/firedrake/pyplot/mpl.py:399: RuntimeWarning: invalid value encountered in multiply\n",
      "  v2 = toreal(direction * function.at(x + dt * v1, tolerance=loc_tolerance),\n"
     ]
    },
    {
     "ename": "ValueError",
     "evalue": "Points to evaluate are inconsistent among processes.",
     "output_type": "error",
     "traceback": [
      "\u001b[31m---------------------------------------------------------------------------\u001b[39m",
      "\u001b[31mValueError\u001b[39m                                Traceback (most recent call last)",
      "\u001b[36mCell\u001b[39m\u001b[36m \u001b[39m\u001b[32mIn[10]\u001b[39m\u001b[32m, line 7\u001b[39m\n\u001b[32m      5\u001b[39m u, p = w.subfunctions\n\u001b[32m      6\u001b[39m fig, axes = plt.subplots(ncols=\u001b[32m2\u001b[39m, sharex=\u001b[38;5;28;01mTrue\u001b[39;00m, sharey=\u001b[38;5;28;01mTrue\u001b[39;00m)\n\u001b[32m----> \u001b[39m\u001b[32m7\u001b[39m streamlines = \u001b[43mstreamplot\u001b[49m\u001b[43m(\u001b[49m\u001b[43mu\u001b[49m\u001b[43m,\u001b[49m\u001b[43m \u001b[49m\u001b[43mresolution\u001b[49m\u001b[43m=\u001b[49m\u001b[32;43m1\u001b[39;49m\u001b[43m/\u001b[49m\u001b[32;43m30\u001b[39;49m\u001b[43m,\u001b[49m\u001b[43m \u001b[49m\u001b[43mseed\u001b[49m\u001b[43m=\u001b[49m\u001b[32;43m4\u001b[39;49m\u001b[43m,\u001b[49m\u001b[43m \u001b[49m\u001b[43maxes\u001b[49m\u001b[43m=\u001b[49m\u001b[43maxes\u001b[49m\u001b[43m[\u001b[49m\u001b[32;43m0\u001b[39;49m\u001b[43m]\u001b[49m\u001b[43m)\u001b[49m\n\u001b[32m      8\u001b[39m axes[\u001b[32m0\u001b[39m].set_aspect(\u001b[33m\"\u001b[39m\u001b[33mequal\u001b[39m\u001b[33m\"\u001b[39m)\n\u001b[32m      9\u001b[39m axes[\u001b[32m0\u001b[39m].set_title(\u001b[33m\"\u001b[39m\u001b[33mVelocity\u001b[39m\u001b[33m\"\u001b[39m)\n",
      "\u001b[36mFile \u001b[39m\u001b[32mpetsc4py/PETSc/Log.pyx:188\u001b[39m, in \u001b[36mpetsc4py.PETSc.Log.EventDecorator.decorator.wrapped_func\u001b[39m\u001b[34m()\u001b[39m\n",
      "\u001b[36mFile \u001b[39m\u001b[32mpetsc4py/PETSc/Log.pyx:189\u001b[39m, in \u001b[36mpetsc4py.PETSc.Log.EventDecorator.decorator.wrapped_func\u001b[39m\u001b[34m()\u001b[39m\n",
      "\u001b[36mFile \u001b[39m\u001b[32m~/src/firedrake-pyadjoint/firedrake/firedrake/pyplot/mpl.py:642\u001b[39m, in \u001b[36mstreamplot\u001b[39m\u001b[34m(function, resolution, min_length, max_time, start_width, end_width, tolerance, loc_tolerance, seed, complex_component, **kwargs)\u001b[39m\n\u001b[32m    640\u001b[39m generator = randomgen.Generator(randomgen.MT19937(seed))\n\u001b[32m    641\u001b[39m \u001b[38;5;28;01mfor\u001b[39;00m x \u001b[38;5;129;01min\u001b[39;00m generator.permutation(np.array(start_points)):\n\u001b[32m--> \u001b[39m\u001b[32m642\u001b[39m     \u001b[43mstreamplotter\u001b[49m\u001b[43m.\u001b[49m\u001b[43madd_streamline\u001b[49m\u001b[43m(\u001b[49m\u001b[43mx\u001b[49m\u001b[43m)\u001b[49m\n\u001b[32m    644\u001b[39m \u001b[38;5;66;03m# Colors are determined by the speed, thicknesses by arc length\u001b[39;00m\n\u001b[32m    645\u001b[39m speeds = []\n",
      "\u001b[36mFile \u001b[39m\u001b[32m~/src/firedrake-pyadjoint/firedrake/firedrake/pyplot/mpl.py:567\u001b[39m, in \u001b[36mStreamplotter.add_streamline\u001b[39m\u001b[34m(self, point)\u001b[39m\n\u001b[32m    563\u001b[39m     \u001b[38;5;28;01mreturn\u001b[39;00m\n\u001b[32m    565\u001b[39m \u001b[38;5;66;03m# Compute the first segments of the forward and backward chunks from\u001b[39;00m\n\u001b[32m    566\u001b[39m \u001b[38;5;66;03m# the current point\u001b[39;00m\n\u001b[32m--> \u001b[39m\u001b[32m567\u001b[39m fchunk, freason = \u001b[38;5;28;43mself\u001b[39;49m\u001b[43m.\u001b[49m\u001b[43m_compute_chunk\u001b[49m\u001b[43m(\u001b[49m\u001b[43mpoint\u001b[49m\u001b[43m,\u001b[49m\u001b[43m \u001b[49m\u001b[43mdirection\u001b[49m\u001b[43m=\u001b[49m\u001b[43m+\u001b[49m\u001b[32;43m1\u001b[39;49m\u001b[43m)\u001b[49m\n\u001b[32m    568\u001b[39m findex = \u001b[38;5;28mself\u001b[39m._index_of_first_bad_point(fchunk)\n\u001b[32m    570\u001b[39m bchunk, breason = \u001b[38;5;28mself\u001b[39m._compute_chunk(point, direction=-\u001b[32m1\u001b[39m)\n",
      "\u001b[36mFile \u001b[39m\u001b[32m~/src/firedrake-pyadjoint/firedrake/firedrake/pyplot/mpl.py:497\u001b[39m, in \u001b[36mStreamplotter._compute_chunk\u001b[39m\u001b[34m(self, start_point, direction)\u001b[39m\n\u001b[32m    495\u001b[39m T = \u001b[32m0.\u001b[39m\n\u001b[32m    496\u001b[39m reason = Reason.BOUNDARY\n\u001b[32m--> \u001b[39m\u001b[32m497\u001b[39m \u001b[43m\u001b[49m\u001b[38;5;28;43;01mfor\u001b[39;49;00m\u001b[43m \u001b[49m\u001b[43mx\u001b[49m\u001b[43m,\u001b[49m\u001b[43m \u001b[49m\u001b[43mv\u001b[49m\u001b[43m,\u001b[49m\u001b[43m \u001b[49m\u001b[43mdt\u001b[49m\u001b[43m \u001b[49m\u001b[38;5;129;43;01min\u001b[39;49;00m\u001b[43m \u001b[49m\u001b[43mstreamline\u001b[49m\u001b[43m(\u001b[49m\u001b[38;5;28;43mself\u001b[39;49m\u001b[43m.\u001b[49m\u001b[43mfunction\u001b[49m\u001b[43m,\u001b[49m\u001b[43m \u001b[49m\u001b[43mstart_point\u001b[49m\u001b[43m,\u001b[49m\u001b[43m \u001b[49m\u001b[43mdirection\u001b[49m\u001b[43m,\u001b[49m\n\u001b[32m    498\u001b[39m \u001b[43m                           \u001b[49m\u001b[38;5;28;43mself\u001b[39;49m\u001b[43m.\u001b[49m\u001b[43mtolerance\u001b[49m\u001b[43m,\u001b[49m\u001b[43m \u001b[49m\u001b[38;5;28;43mself\u001b[39;49m\u001b[43m.\u001b[49m\u001b[43mloc_tolerance\u001b[49m\u001b[43m,\u001b[49m\n\u001b[32m    499\u001b[39m \u001b[43m                           \u001b[49m\u001b[43mcomplex_component\u001b[49m\u001b[43m=\u001b[49m\u001b[38;5;28;43mself\u001b[39;49m\u001b[43m.\u001b[49m\u001b[43mcomplex_component\u001b[49m\u001b[43m)\u001b[49m\u001b[43m:\u001b[49m\n\u001b[32m    500\u001b[39m \u001b[43m    \u001b[49m\u001b[43mdelta\u001b[49m\u001b[43m \u001b[49m\u001b[43m=\u001b[49m\u001b[43m \u001b[49m\u001b[43mx\u001b[49m\u001b[43m \u001b[49m\u001b[43m-\u001b[49m\u001b[43m \u001b[49m\u001b[43ms\u001b[49m\u001b[43m[\u001b[49m\u001b[43m-\u001b[49m\u001b[32;43m1\u001b[39;49m\u001b[43m]\u001b[49m\n\u001b[32m    501\u001b[39m \u001b[43m    \u001b[49m\u001b[43ms\u001b[49m\u001b[43m.\u001b[49m\u001b[43mappend\u001b[49m\u001b[43m(\u001b[49m\u001b[43mx\u001b[49m\u001b[43m)\u001b[49m\n",
      "\u001b[36mFile \u001b[39m\u001b[32m~/src/firedrake-pyadjoint/firedrake/firedrake/pyplot/mpl.py:399\u001b[39m, in \u001b[36mstreamline\u001b[39m\u001b[34m(function, point, direction, tolerance, loc_tolerance, complex_component)\u001b[39m\n\u001b[32m    397\u001b[39m \u001b[38;5;28;01mwhile\u001b[39;00m \u001b[38;5;28;01mTrue\u001b[39;00m:\n\u001b[32m    398\u001b[39m     \u001b[38;5;28;01mtry\u001b[39;00m:\n\u001b[32m--> \u001b[39m\u001b[32m399\u001b[39m         v2 = toreal(direction * \u001b[43mfunction\u001b[49m\u001b[43m.\u001b[49m\u001b[43mat\u001b[49m\u001b[43m(\u001b[49m\u001b[43mx\u001b[49m\u001b[43m \u001b[49m\u001b[43m+\u001b[49m\u001b[43m \u001b[49m\u001b[43mdt\u001b[49m\u001b[43m \u001b[49m\u001b[43m*\u001b[49m\u001b[43m \u001b[49m\u001b[43mv1\u001b[49m\u001b[43m,\u001b[49m\u001b[43m \u001b[49m\u001b[43mtolerance\u001b[49m\u001b[43m=\u001b[49m\u001b[43mloc_tolerance\u001b[49m\u001b[43m)\u001b[49m,\n\u001b[32m    400\u001b[39m                     complex_component)\n\u001b[32m    401\u001b[39m     \u001b[38;5;28;01mexcept\u001b[39;00m PointNotInDomainError:\n\u001b[32m    402\u001b[39m         ds = _step_to_boundary(mesh, x, v1, dt, loc_tolerance)\n",
      "\u001b[36mFile \u001b[39m\u001b[32mpetsc4py/PETSc/Log.pyx:188\u001b[39m, in \u001b[36mpetsc4py.PETSc.Log.EventDecorator.decorator.wrapped_func\u001b[39m\u001b[34m()\u001b[39m\n",
      "\u001b[36mFile \u001b[39m\u001b[32mpetsc4py/PETSc/Log.pyx:189\u001b[39m, in \u001b[36mpetsc4py.PETSc.Log.EventDecorator.decorator.wrapped_func\u001b[39m\u001b[34m()\u001b[39m\n",
      "\u001b[36mFile \u001b[39m\u001b[32m~/src/firedrake-pyadjoint/firedrake/firedrake/function.py:642\u001b[39m, in \u001b[36mFunction.at\u001b[39m\u001b[34m(self, arg, *args, **kwargs)\u001b[39m\n\u001b[32m    640\u001b[39m diff_arg = \u001b[38;5;28mself\u001b[39m._comm.allreduce(\u001b[38;5;28mint\u001b[39m(\u001b[38;5;129;01mnot\u001b[39;00m same_arg), op=MPI.SUM)\n\u001b[32m    641\u001b[39m \u001b[38;5;28;01mif\u001b[39;00m diff_arg:\n\u001b[32m--> \u001b[39m\u001b[32m642\u001b[39m     \u001b[38;5;28;01mraise\u001b[39;00m \u001b[38;5;167;01mValueError\u001b[39;00m(\u001b[33m\"\u001b[39m\u001b[33mPoints to evaluate are inconsistent among processes.\u001b[39m\u001b[33m\"\u001b[39m)\n\u001b[32m    644\u001b[39m \u001b[38;5;28;01mdef\u001b[39;00m\u001b[38;5;250m \u001b[39m\u001b[34msingle_eval\u001b[39m(x, buf):\n\u001b[32m    645\u001b[39m \u001b[38;5;250m    \u001b[39m\u001b[33mr\u001b[39m\u001b[33;03m\"\"\"Helper function to evaluate at a single point.\"\"\"\u001b[39;00m\n",
      "\u001b[31mValueError\u001b[39m: Points to evaluate are inconsistent among processes."
     ]
    },
    {
     "data": {
      "application/vnd.jupyter.widget-view+json": {
       "model_id": "34d44e88ad1c4fc49a33dc5dacadb425",
       "version_major": 2,
       "version_minor": 0
      },
      "image/png": "[encoded data removed]",
      "text/html": [
       "\n",
       "            <div style=\"display: inline-block;\">\n",
       "                <div class=\"jupyter-widgets widget-label\" style=\"text-align: center;\">\n",
       "                    Figure\n",
       "                </div>\n",
       "                <img src='data:image/png;base64,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' width=1100.0/>\n",
       "            </div>\n",
       "        "
      ],
      "text/plain": [
       "Canvas(toolbar=Toolbar(toolitems=[('Home', 'Reset original view', 'home', 'home'), ('Back', 'Back to previous …"
      ]
     },
     "metadata": {},
     "output_type": "display_data"
    }
   ],
   "source": [
    "# NBVAL_IGNORE_OUTPUT\n",
    "from firedrake.pyplot import streamplot, tripcolor\n",
    "\n",
    "w = solver._problem.u\n",
    "u, p = w.subfunctions\n",
    "fig, axes = plt.subplots(ncols=2, sharex=True, sharey=True)\n",
    "streamlines = streamplot(u, resolution=1/30, seed=4, axes=axes[0])\n",
    "axes[0].set_aspect(\"equal\")\n",
    "axes[0].set_title(\"Velocity\")\n",
    "fig.colorbar(streamlines, ax=axes[0], fraction=0.032, pad=0.02)\n",
    "\n",
    "triangles = tripcolor(p, axes=axes[1], cmap='coolwarm')\n",
    "axes[1].set_aspect(\"equal\")\n",
    "axes[1].set_title(\"Pressure\")\n",
    "fig.colorbar(triangles, ax=axes[1], fraction=0.032, pad=0.02);"
   ]
  },
  {
   "cell_type": "markdown",
   "metadata": {},
   "source": [
    "This direct method is not a scalable solution technique for large problems.  Similar to our earlier example involving the mixed Poisson problem, a Schur complement method can be more efficient.  We'll use geometric multigrid to invert the elliptic velocity block, and use a viscosity-weighted pressure mass matrix to precondition the Schur complement.  This gives good results as long as viscosity contrasts are not too strong. The Python preconditioner that we use to create the mass matrix is described in more detail in the composable solvers notebook."
   ]
  },
  {
   "cell_type": "code",
   "execution_count": 9,
   "metadata": {},
   "outputs": [],
   "source": [
    "class MassMatrix(AuxiliaryOperatorPC):\n",
    "    def form(self, pc, test, trial):\n",
    "        # Grab the viscosity\n",
    "        nu = self.get_appctx(pc)[\"nu\"]\n",
    "        return (nu*test*trial*dx, None)"
   ]
  },
  {
   "cell_type": "code",
   "execution_count": 10,
   "metadata": {},
   "outputs": [
    {
     "name": "stdout",
     "output_type": "stream",
     "text": [
      "    Residual norms for firedrake_2_ solve.\n",
      "    0 KSP Residual norm 1.793015736715e+02 \n",
      "    1 KSP Residual norm 8.716276054615e+01 \n",
      "    2 KSP Residual norm 1.669109319703e+01 \n",
      "    3 KSP Residual norm 1.123132759507e+01 \n",
      "    4 KSP Residual norm 5.140215836973e+00 \n",
      "    5 KSP Residual norm 2.860823020181e+00 \n",
      "    6 KSP Residual norm 1.241682759464e+00 \n",
      "    7 KSP Residual norm 7.188188009066e-01 \n",
      "    8 KSP Residual norm 4.044004541226e-01 \n",
      "    9 KSP Residual norm 1.795717211991e-01 \n",
      "   10 KSP Residual norm 1.184207774231e-01 \n",
      "   11 KSP Residual norm 7.266399169233e-02 \n",
      "   12 KSP Residual norm 4.748358849735e-02 \n",
      "   13 KSP Residual norm 2.947011552603e-02 \n",
      "   14 KSP Residual norm 1.649709615925e-02 \n",
      "   15 KSP Residual norm 9.288959964288e-03 \n",
      "   16 KSP Residual norm 5.115169026184e-03 \n",
      "   17 KSP Residual norm 2.604131289585e-03 \n",
      "   18 KSP Residual norm 1.155550083370e-03 \n",
      "   19 KSP Residual norm 4.714818940666e-04 \n",
      "   20 KSP Residual norm 2.159213406651e-04 \n",
      "   21 KSP Residual norm 1.075446620939e-04 \n",
      "   22 KSP Residual norm 5.902061753908e-05 \n",
      "   23 KSP Residual norm 2.906398089999e-05 \n",
      "   24 KSP Residual norm 1.199566391672e-05 \n"
     ]
    }
   ],
   "source": [
    "parameters = {\n",
    "    \"ksp_type\": \"gmres\",\n",
    "    \"ksp_monitor\": None,\n",
    "    \"pc_type\": \"fieldsplit\",\n",
    "    \"pc_use_amat\": True,\n",
    "    \"pc_fieldsplit_type\": \"schur\",\n",
    "    \"pc_fieldsplit_schur_fact_type\": \"lower\",\n",
    "    \"fieldsplit_0_ksp_type\": \"preonly\",\n",
    "    \"fieldsplit_0_pc_type\": \"mg\",\n",
    "    \"fieldsplit_1_ksp_type\": \"preonly\",\n",
    "    \"fieldsplit_1_pc_type\": \"python\",\n",
    "    \"fieldsplit_1_pc_python_type\": \"__main__.MassMatrix\",\n",
    "    \"fieldsplit_1_aux_pc_type\": \"icc\",\n",
    "}\n",
    "\n",
    "solver = create_solver(parameters)\n",
    "solver.solve()"
   ]
  },
  {
   "cell_type": "markdown",
   "metadata": {},
   "source": [
    "Another option is to use a distributive smoother.  Instead of using a Schur complement on the outside and multigrid for the velocity block, we can instead use multigrid on the outside and Schur complements as a \"smoother\" on each level.  This requires more parameters, but no other change in our problem setup.\n",
    "\n",
    "Notice how we provide the `MassMatrix` Python preconditioner on each level for the Schur complement. An appropriate operator will be created on each level as necessary."
   ]
  },
  {
   "cell_type": "code",
   "execution_count": 11,
   "metadata": {},
   "outputs": [
    {
     "name": "stderr",
     "output_type": "stream",
     "text": [
      "/home/jack/Documents/firedrake/firedrake/src/firedrake/firedrake/dmhooks.py:270: RuntimeWarning: Creating new TransferManager to transfer data to coarse grids\n",
      "  warnings.warn(\"Creating new TransferManager to transfer data to coarse grids\", RuntimeWarning)\n",
      "/home/jack/Documents/firedrake/firedrake/src/firedrake/firedrake/dmhooks.py:271: RuntimeWarning: This might be slow (you probably want to save it on an appctx)\n",
      "  warnings.warn(\"This might be slow (you probably want to save it on an appctx)\", RuntimeWarning)\n"
     ]
    },
    {
     "name": "stdout",
     "output_type": "stream",
     "text": [
      "    Residual norms for firedrake_3_ solve.\n",
      "    0 KSP Residual norm 1.021257383821e+01 \n",
      "    1 KSP Residual norm 6.150697152777e+00 \n",
      "    2 KSP Residual norm 6.499187546880e-01 \n",
      "    3 KSP Residual norm 4.689516571282e-02 \n",
      "    4 KSP Residual norm 7.942948895085e-03 \n",
      "    5 KSP Residual norm 1.233190521507e-03 \n",
      "    6 KSP Residual norm 1.185329361920e-04 \n",
      "    7 KSP Residual norm 2.350517854641e-05 \n",
      "    8 KSP Residual norm 7.877964594448e-06 \n",
      "    9 KSP Residual norm 3.978917640367e-06 \n",
      "   10 KSP Residual norm 1.018158170524e-06 \n"
     ]
    }
   ],
   "source": [
    "parameters = {\n",
    "      \"ksp_type\": \"fgmres\",\n",
    "      \"ksp_monitor\": None,\n",
    "      \"mat_type\": \"nest\",\n",
    "      \"pc_type\": \"mg\",\n",
    "      \"mg_coarse_ksp_type\": \"preonly\",\n",
    "      \"mg_coarse_pc_type\": \"fieldsplit\",\n",
    "      \"mg_coarse_pc_fieldsplit_type\": \"schur\",\n",
    "      \"mg_coarse_pc_fieldsplit_schur_fact_type\": \"full\",\n",
    "      \"mg_coarse_fieldsplit_0_ksp_type\": \"preonly\",\n",
    "      \"mg_coarse_fieldsplit_0_pc_type\": \"lu\",\n",
    "      \"mg_coarse_fieldsplit_1_ksp_type\": \"richardson\",\n",
    "      \"mg_coarse_fieldsplit_1_ksp_richardson_self_scale\": True,\n",
    "      \"mg_coarse_fieldsplit_1_ksp_max_it\": 5,\n",
    "      \"mg_coarse_fieldsplit_1_pc_type\": \"none\",\n",
    "      \"mg_levels_ksp_type\": \"richardson\",\n",
    "      \"mg_levels_ksp_richardson_self_scale\": True,\n",
    "      \"mg_levels_ksp_max_it\": 1,\n",
    "      \"mg_levels_pc_type\": \"fieldsplit\",\n",
    "      \"mg_levels_pc_fieldsplit_type\": \"schur\",\n",
    "      \"mg_levels_pc_fieldsplit_schur_fact_type\": \"upper\",\n",
    "      \"mg_levels_fieldsplit_0_ksp_type\": \"preonly\",\n",
    "      \"mg_levels_fieldsplit_0_pc_type\": \"bjacobi\",\n",
    "      \"mg_levels_fieldsplit_0_sub_pc_type\": \"ilu\",\n",
    "      \"mg_levels_fieldsplit_1_ksp_type\": \"preonly\",\n",
    "      \"mg_levels_fieldsplit_1_pc_type\": \"python\",\n",
    "      \"mg_levels_fieldsplit_1_pc_python_type\": \"__main__.MassMatrix\",\n",
    "      \"mg_levels_fieldsplit_1_aux_pc_type\": \"icc\",\n",
    "}\n",
    "\n",
    "solver = create_solver(parameters)\n",
    "solver.solve()"
   ]
  },
  {
   "cell_type": "markdown",
   "metadata": {},
   "source": [
    "# Exercise\n",
    "\n",
    "In most real-world scenarios, the viscosity $\\nu$ will not be constant, but rather variable.  See what happens to the performance of the solver when you replace the constant viscosity $\\nu$ with a spatially varying one.  In particular, try:\n",
    "\n",
    "$$\n",
    "\\nu(x, y) = \\bigg\\{\\begin{split}\n",
    "&100 \\quad&\\text{if $(x - 0.5)^2 + (y - 0.5)^2 < 0.25$},\\\\\n",
    "&1 \\quad&\\text{otherwise.}\n",
    "\\end{split}\n",
    "$$\n",
    "\n",
    "- Hint 1: Use `conditional` to produce an expression that varies the viscosity spatially.\n",
    "- Hint 2: You can determine the iteration count after the solver has finished using `solver.snes.ksp.getIterationNumber()`.\n",
    "\n",
    "Here are some questions you might consider:\n",
    "\n",
    "- What happens to the iteration count when you increase the number levels in the hierarchy?\n",
    "\n",
    "- What if you change the viscosity contrast to 1000, or 10000?\n",
    "\n",
    "- Compare with algebraic multigrid to solve the velocity block (use `\"fieldsplit_0_pc_type\": \"hypre\"` instead of `\"fieldsplit_0_pc_type\": \"mg\"`).\n",
    "\n",
    "For simplicity, the relevant setup is copied below to start with:"
   ]
  },
  {
   "cell_type": "code",
   "execution_count": 12,
   "metadata": {},
   "outputs": [],
   "source": [
    "def create_solver(parameters=None):\n",
    "    coarse_mesh = RectangleMesh(15, 10, 1.5, 1)\n",
    "    hierarchy = MeshHierarchy(coarse_mesh, 3)\n",
    "    \n",
    "    mesh = hierarchy[-1]\n",
    "    \n",
    "    V = VectorFunctionSpace(mesh, \"Lagrange\", 2)\n",
    "    Q = FunctionSpace(mesh, \"Lagrange\", 1)\n",
    "    W = V*Q\n",
    "    \n",
    "    u, p = TrialFunctions(W)\n",
    "    v, q = TestFunctions(W)\n",
    "    \n",
    "    # Change me to spatially varying.\n",
    "    nu = Constant(1)\n",
    "    x, y = SpatialCoordinate(mesh)\n",
    "    \n",
    "    t = conditional(y < 0.5, y - 1/4, y - 3/4)\n",
    "    gbar = conditional(Or(And(1/6 < y,\n",
    "                              y < 1/3),\n",
    "                          And(2/3 < y,\n",
    "                              y < 5/6)),\n",
    "                       1, \n",
    "                       0)\n",
    "\n",
    "    value = as_vector([gbar*(1 - (12*t)**2), 0])\n",
    "    bcs = [DirichletBC(W.sub(0), interpolate(value, V), (1, 2)),\n",
    "           DirichletBC(W.sub(0), zero(2), (3, 4))]\n",
    "    \n",
    "    a = (nu*inner(grad(u), grad(v)) - p*div(v) + q*div(u))*dx\n",
    "    L = inner(Constant((0, 0)), v)*dx\n",
    "    \n",
    "    wh = Function(W)\n",
    "    problem = LinearVariationalProblem(a, L, wh, bcs=bcs)\n",
    "    solver = LinearVariationalSolver(problem, solver_parameters=parameters, appctx={\"nu\": nu})\n",
    "    return solver"
   ]
  },
  {
   "cell_type": "code",
   "execution_count": 13,
   "metadata": {},
   "outputs": [
    {
     "name": "stdout",
     "output_type": "stream",
     "text": [
      "    Residual norms for firedrake_4_ solve.\n",
      "    0 KSP Residual norm 1.793015736715e+02 \n",
      "    1 KSP Residual norm 8.716276054615e+01 \n",
      "    2 KSP Residual norm 1.669109319703e+01 \n",
      "    3 KSP Residual norm 1.123132759507e+01 \n",
      "    4 KSP Residual norm 5.140215836973e+00 \n",
      "    5 KSP Residual norm 2.860823020181e+00 \n",
      "    6 KSP Residual norm 1.241682759464e+00 \n",
      "    7 KSP Residual norm 7.188188009066e-01 \n",
      "    8 KSP Residual norm 4.044004541226e-01 \n",
      "    9 KSP Residual norm 1.795717211991e-01 \n",
      "   10 KSP Residual norm 1.184207774231e-01 \n",
      "   11 KSP Residual norm 7.266399169233e-02 \n",
      "   12 KSP Residual norm 4.748358849735e-02 \n",
      "   13 KSP Residual norm 2.947011552603e-02 \n",
      "   14 KSP Residual norm 1.649709615925e-02 \n",
      "   15 KSP Residual norm 9.288959964288e-03 \n",
      "   16 KSP Residual norm 5.115169026184e-03 \n",
      "   17 KSP Residual norm 2.604131289585e-03 \n",
      "   18 KSP Residual norm 1.155550083370e-03 \n",
      "   19 KSP Residual norm 4.714818940666e-04 \n",
      "   20 KSP Residual norm 2.159213406651e-04 \n",
      "   21 KSP Residual norm 1.075446620939e-04 \n",
      "   22 KSP Residual norm 5.902061753908e-05 \n",
      "   23 KSP Residual norm 2.906398089999e-05 \n",
      "   24 KSP Residual norm 1.199566391672e-05 \n"
     ]
    }
   ],
   "source": [
    "parameters = {\n",
    "    \"ksp_type\": \"gmres\",\n",
    "    \"ksp_monitor\": None,\n",
    "    \"pc_type\": \"fieldsplit\",\n",
    "    \"pc_use_amat\": True,\n",
    "    \"pc_fieldsplit_type\": \"schur\",\n",
    "    \"pc_fieldsplit_schur_fact_type\": \"lower\",\n",
    "    \"fieldsplit_0_ksp_type\": \"preonly\",\n",
    "    \"fieldsplit_0_pc_type\": \"mg\",\n",
    "    \"fieldsplit_1_ksp_type\": \"preonly\",\n",
    "    \"fieldsplit_1_pc_type\": \"python\",\n",
    "    \"fieldsplit_1_pc_python_type\": \"__main__.MassMatrix\",\n",
    "    \"fieldsplit_1_aux_pc_type\": \"icc\",\n",
    "}\n",
    "\n",
    "solver = create_solver(parameters)\n",
    "solver.solve()"
   ]
  },
  {
   "cell_type": "code",
   "execution_count": null,
   "metadata": {},
   "outputs": [],
   "source": []
  }
 ],
 "metadata": {
  "kernelspec": {
   "display_name": "Python 3 (ipykernel)",
   "language": "python",
   "name": "python3"
  },
  "language_info": {
   "codemirror_mode": {
    "name": "ipython",
    "version": 3
   },
   "file_extension": ".py",
   "mimetype": "text/x-python",
   "name": "python",
   "nbconvert_exporter": "python",
   "pygments_lexer": "ipython3",
   "version": "3.13.1"
  }
 },
 "nbformat": 4,
 "nbformat_minor": 4
}
