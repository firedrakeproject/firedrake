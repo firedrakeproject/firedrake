{
 "cells": [
  {
   "cell_type": "markdown",
   "metadata": {},
   "source": [
    "# Full-waveform inversion using automatic differentiation"
   ]
  },
  {
   "cell_type": "markdown",
   "metadata": {},
   "source": [
    "## Cost function\n",
    "In essence, full waveform inversion (FWI) consists of a local optimisation, where the objective is to minimise the difference between observed and predicted seismogram data. Following Tarantola (1984), the cost function can be measured by the $L^2$ norm, which may be written as follows, in a continuous space. \n",
    "$$\n",
    "    I (m)\\equiv \\frac{1}{2} \\int_{\\tau} \\int_{\\Omega} \\left(u(\\mathbf{m},\\mathbf{x},t)- u^{obs}(\\mathbf{m},\\mathbf{x},t)\\right)^2 \\delta(\\mathbf{x}- \\check{\\mathbf{x}})\\, \\text{d} \\mathcal{V} \\text{d} t . \n",
    "$$\n",
    "\n",
    "The data functions, $u = u(\\check{\\mathbf{x}},t)$ and $u_{obs} = u_{obs}(m,\\check{\\mathbf{x}},t)$, are respectively the predicted and observed data, both recorded at a finite set of receivers, located at the point positions $\\check{\\mathbf{x}} \\in \\Omega_{0}$, in a time interval $\\tau\\equiv[t_0, t_f]\\subset \\mathbb{R}$, where $t_0$ is the initial time and $t_f$ is the final time. The term $\\delta(\\mathbf{x}- \\check{\\mathbf{x}})$ is the delta Dirac function to model the receiver point positions. The spatial domain of interest is set as $\\Omega_{0}$."
   ]
  },
  {
   "cell_type": "markdown",
   "metadata": {},
   "source": [
    "In when computing the cost function in the discrete space and using finite elemte method, we have the following exepression for the cost function:\n",
    "\n",
    "\n",
    "Which is computed by the `cost_function` using the `firedrake` package. The function is defined as follows:"
   ]
  },
  {
   "cell_type": "code",
   "execution_count": null,
   "metadata": {},
   "outputs": [],
   "source": [
    "import firedrake as fd\n",
    "def cost_function(u, u_obs):\n",
    "    J = fd.assemble(0.5*fd.inner(u - u_obs, u - u_obs) * fd.dx)"
   ]
  },
  {
   "cell_type": "markdown",
   "metadata": {},
   "source": [
    "## Wave equation\n",
    "The predicted data, $u = u (\\mathbf{m},\\mathbf{x},t)$, is modeled here by an acoustic wave equation,\n",
    "$$\n",
    "    m(\\mathbf{x})\\frac{\\partial^2 u}{\\partial t^2}(\\mathbf{x},t)-\\frac{\\partial^2 u}{\\partial \\mathbf{x}^2} = f(\\mathbf{x},t),\n",
    "$$\n",
    "\n",
    "The variable coefficient $m(\\mathbf{x}):\\Omega_{0}\\rightarrow \\mathbb{R}$ is such that $m(\\mathbf{x})= \\displaystyle\\frac{1}{c^2(\\mathbf{x})}$, where $c(\\mathbf{x}):\\Omega_{0}\\rightarrow \\mathbb{R}$ is the pressure wave ($P$-wave) velocity, which is assumed to be piecewise-constant and positive. The external force term $f(\\mathbf{x},t):\\Omega_{0}\\rightarrow \\mathbb{R}$, models the source of waves and is usually described by a Ricker Wavelet \\citep{ricker1940form}."
   ]
  },
  {
   "cell_type": "markdown",
   "metadata": {},
   "source": [
    "The Ricker waveletet is given by the following code:\n"
   ]
  },
  {
   "cell_type": "code",
   "execution_count": null,
   "metadata": {},
   "outputs": [],
   "source": [
    "import numpy as np\n",
    "def ricker_wavelet(t, freq, amp=1.0):\n",
    "    # Shift in time so the entire wavelet is injected\n",
    "    t = t - (np.sqrt(6.0) / (np.pi * freq))\n",
    "    return amp * (\n",
    "        1.0 - (1.0 / 2.0) * (2.0 * np.pi * freq) * (2.0 * np.pi * freq) * t * t\n",
    "    )"
   ]
  },
  {
   "cell_type": "markdown",
   "metadata": {},
   "source": [
    "Before to write the acoustic wave equation, let us define the time-step, the final time, the mesh, the receivers and source positions. \n",
    "\n",
    "In this example, we consider a two dimensional domain"
   ]
  },
  {
   "cell_type": "code",
   "execution_count": null,
   "metadata": {},
   "outputs": [],
   "source": [
    "\n",
    "mesh = fd.UnitSquareMesh(50, 50)\n",
    "T = 1.0\n",
    "dt = 0.001\n",
    "t = 0\n",
    "step = 0\n",
    "freq = 7\n",
    "c = fd.Constant(1.5)\n",
    "receivers = np.linspace((-0.1, 0.2), (-0.1, 0.8), 1)"
   ]
  },
  {
   "cell_type": "code",
   "execution_count": null,
   "metadata": {},
   "outputs": [],
   "source": []
  },
  {
   "cell_type": "code",
   "execution_count": null,
   "metadata": {},
   "outputs": [],
   "source": [
    "import finat\n",
    "\n",
    "V = fd.FunctionSpace(mesh, \"KMV\", 2)\n",
    "u = fd.TrialFunction(V)\n",
    "v = fd.TestFunction(V)\n",
    "\n",
    "u_np1 = fd.Function(V)  # timestep n+1\n",
    "u_n = fd.Function(V)    # timestep n\n",
    "u_nm1 = fd.Function(V)  # timestep n-1\n",
    "quad_rule = finat.quadrature.make_quadrature(V.finat_element.cell, V.ufl_element().degree(), \"KMV\")\n",
    "dxlump=fd.dx(scheme=quad_rule)\n",
    "m = (u - 2.0 * u_n + u_nm1) / fd.Constant(dt * dt) * v * dxlump\n",
    "a = c * c * fd.dot(fd.grad(u_n), fd.grad(v)) * dxlump\n",
    "\n",
    "x, y = fd.SpatialCoordinate(mesh)\n",
    "source_pos = fd.Constant([0.5, 0.5]) # source position\n",
    "ricker = fd.Constant(0.0)\n",
    "R = fd.Function(V)\n",
    "delta = fd.exp(-2000 * ((x - source_pos[0]) ** 2 + (y - source_pos[1]) ** 2))\n",
    "f = delta * ricker * v * dxlump\n",
    "F = m + a - f\n",
    "\n",
    "lhs_ = fd.lhs(F)\n",
    "rhs_ = fd.rhs(F)\n",
    "\n",
    "lin_var = fd.LinearVariationalProblem(lhs_, rhs_, u_np1)\n",
    "solver = fd.LinearVariationalSolver(lin_var, \n",
    "                                    solver_parameters=\n",
    "                                    {\"ksp_type\": \"preonly\", \"pc_type\": \"jacobi\"})"
   ]
  },
  {
   "cell_type": "code",
   "execution_count": null,
   "metadata": {},
   "outputs": [],
   "source": [
    "P = fd.VectorFunctionSpace(receivers, \"DG\", 0)\n",
    "rec_interpolator = fd.Interpolator(u_np1, P)\n",
    "rec_data = []\n",
    "while t < T:\n",
    "    ricker.assign(RickerWavelet(t, freq))\n",
    "    # Call the solver object.\n",
    "    solver.solve()\n",
    "\n",
    "    # Exchange the solution at the two time-stepping levels.\n",
    "    u_nm1.assign(u_n)\n",
    "    u_n.assign(u_np1)\n",
    "\n",
    "    rec = fd.Function(P, name=\"rec\")\n",
    "    rec_interpolator.interpolate(output=rec)\n",
    "    rec_data.append(rec)"
   ]
  },
  {
   "cell_type": "code",
   "execution_count": null,
   "metadata": {},
   "outputs": [],
   "source": [
    "def forward_wave_equation(c):\n",
    "    V = fd.FunctionSpace(mesh, \"KMV\", 2)\n",
    "\n",
    "    u = fd.TrialFunction(V)\n",
    "    v = fd.TestFunction(V)\n",
    "\n",
    "    u_np1 = fd.Function(V)  # timestep n+1\n",
    "    u_n = fd.Function(V)    # timestep n\n",
    "    u_nm1 = fd.Function(V)  # timestep n-1\n",
    "    quad_rule = finat.quadrature.make_quadrature(V.finat_element.cell, V.ufl_element().degree(), \"KMV\")\n",
    "    dxlump=fd.dx(scheme=quad_rule)\n",
    "    m = (u - 2.0 * u_n + u_nm1) / fd.Constant(dt * dt) * v * dxlump\n",
    "    a = c * c * fd.dot(fd.grad(u_n), fd.grad(v)) * dxlump\n",
    "\n",
    "    x, y = fd.SpatialCoordinate(mesh)\n",
    "    source_pos = fd.Constant([0.5, 0.5]) # source position\n",
    "    ricker = fd.Constant(0.0)\n",
    "    delta = fd.exp(-2000 * ((x - source_pos[0]) ** 2 + (y - source_pos[1]) ** 2))\n",
    "    f = delta * ricker * v * dxlump\n",
    "    F = m + a - f\n",
    "\n",
    "    lhs_ = fd.lhs(F)\n",
    "    rhs_ = fd.rhs(F)\n",
    "\n",
    "    lin_var = fd.LinearVariationalProblem(lhs_, rhs_, u_np1)\n",
    "    solver = fd.LinearVariationalSolver(lin_var, \n",
    "                                        solver_parameters=\n",
    "                                        {\"ksp_type\": \"preonly\", \"pc_type\": \"jacobi\"})\n",
    "\n",
    "    return solver, u_n, u_nm1, u_np1, ricker"
   ]
  },
  {
   "cell_type": "code",
   "execution_count": null,
   "metadata": {},
   "outputs": [],
   "source": [
    "def true_data(c):\n",
    "    solver, u_n, u_nm1, u_np1, ricker = forward_wave_equation(c)\n",
    "    step = 0\n",
    "    rec_data = []\n",
    "    P = fd.VectorFunctionSpace(receivers, \"DG\", 0)\n",
    "    rec_interpolator = fd.Interpolator(u_np1, P)\n",
    "    while t < T:\n",
    "        ricker.assign(RickerWavelet(t, freq))\n",
    "        # Call the solver object.\n",
    "        solver.solve()\n",
    "\n",
    "        # Exchange the solution at the two time-stepping levels.\n",
    "        u_nm1.assign(u_n)\n",
    "        u_n.assign(u_np1)\n",
    "\n",
    "        rec = fd.Function(P, name=\"rec\")\n",
    "        rec_interpolator.interpolate(output=rec)\n",
    "        rec_data.append(rec)\n",
    "        \n",
    "        # Increment the time and print the elapsed time every 10 steps.\n",
    "        t += dt\n",
    "        step += 1\n",
    "        if step % 10 == 0:\n",
    "            print(\"Elapsed time is: \"+str(t))\n",
    "        \n",
    "    return rec_data\n",
    "\n",
    "true_rec_data = true_data(c)"
   ]
  },
  {
   "cell_type": "markdown",
   "metadata": {},
   "source": [
    "## Constraint optimisation\n",
    "\n",
    "As mentioned in the first part of this section, in FWI the goal is to minimize the misfit function, which can be measured by eq.~\\eqref{objFunc1}. Typically, this minimization is carried out by employing a local optimisation method. Thus, it is necessary to obtain the gradient, $\\nabla_{m} I(m)$, which may be computed efficiently by the adjoint method \\citep{Plessix:2006}. "
   ]
  },
  {
   "cell_type": "code",
   "execution_count": null,
   "metadata": {},
   "outputs": [],
   "source": [
    "import firedrake.adjoint as adj\n",
    "\n",
    "\n",
    "adj.continue_annotation()\n",
    "solver, u_n, u_nm1, u_np1, ricker = forward_wave_equation(c)\n",
    "P = fd.VectorFunctionSpace(receivers, \"DG\", 0)\n",
    "rec_interpolator = fd.Interpolator(u_np1, P)\n",
    "\n",
    "step = 0\n",
    "J = 0.0\n",
    "rec_diff = []\n",
    "while t < T:\n",
    "    ricker.assign(RickerWavelet(t, freq))\n",
    "    # Call the solver object.\n",
    "    solver.solve()\n",
    "\n",
    "    # Exchange the solution at the two time-stepping levels.\n",
    "    u_nm1.assign(u_n)\n",
    "    u_n.assign(u_np1)\n",
    "    \n",
    "    guess_rec = fd.Function(P, name=\"rec\")\n",
    "    rec_interpolator.interpolate(output=guess_rec)\n",
    "    rec_dif_t = guess_rec - true_rec_data[t]\n",
    "    rec_diff.append(guess_rec - true_rec_data[t])\n",
    "    J += cost_function(guess_rec, guess_rec[t])\n",
    "\n",
    "    # Increment the time and print the elapsed time every 10 steps.\n",
    "    t += dt\n",
    "    if step % 10 == 0:\n",
    "        print(\"Elapsed time is: \"+str(t))\n",
    "    step += 1\n",
    "\n",
    "adj.Control(c)\n",
    "Jhat = adj.ReducedFunctional(J, c)"
   ]
  }
 ],
 "metadata": {
  "kernelspec": {
   "display_name": "Python 3 (ipykernel)",
   "language": "python",
   "name": "python3"
  },
  "language_info": {
   "codemirror_mode": {
    "name": "ipython",
    "version": 3
   },
   "file_extension": ".py",
   "mimetype": "text/x-python",
   "name": "python",
   "nbconvert_exporter": "python",
   "pygments_lexer": "ipython3",
   "version": "3.11.2"
  }
 },
 "nbformat": 4,
 "nbformat_minor": 2
}
