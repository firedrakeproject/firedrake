{
 "cells": [
  {
   "cell_type": "markdown",
   "metadata": {},
   "source": [
    "# Full-waveform inversion (FWI) with automated adjoint and checkpointing\n",
    "\n",
    "Full-waveform inversion (FWI) is a technique in general employed to estimate the physical parameters in a subsurface region. It is a wave-equation-based seeking an optimal match between observed and computed data. The former is recorded by receivers in a real case. The latter consists of a computed data, which is obtained by solving numerically a wave equation with an forcing term representing a source of wave emission. \n",
    "\n",
    "## Functional to be minimised\n",
    "A tradicional form to measure the difference between the observed and computed data is given by the functional (Tarantola, 1984): \n",
    "$$\n",
    "    I(u, u^{obs}) = \\sum_{r=0}^{N-1} \\int_\\Omega \\left(u(c,\\mathbf{x},t)- u^{obs}(c, \\mathbf{x},t)\\right)^2 \\delta(x - x_r) \\, dx\n",
    "$$\n",
    "where $u = u(c, \\mathbf{x},t)$ and $u_{obs} = u_{obs}(c,\\mathbf{x},t)$, are respectively the computed and observed data, both recorded at a finite number of receivers ($N_r$), located at the point positions $\\check{\\mathbf{x}} \\in \\Omega_{0}$, in a time interval $\\tau\\equiv[t_0, t_f]\\subset \\mathbb{R}$, where $t_0$ is the initial time and $t_f$ is the final time. The spatial domain of interest is set as $\\Omega_{0}$.\n",
    "\n",
    "An FWI problem consists in finding an optimal parameter $c$ that minimizes the functional $I(u, u^{obs})$."
   ]
  },
  {
   "cell_type": "markdown",
   "metadata": {},
   "source": [
    "## Wave equation\n",
    "To have the computed data, we need first solve a wave equation. In this example, we consider the scalar acoustic wave equation using a damping term to attenate the reflections originated by the boundaries of the domain.\n",
    "$$\n",
    "    \\frac{\\partial^2 u}{\\partial t^2}(\\mathbf{x},t)- c^2\\frac{\\partial^2 u}{\\partial \\mathbf{x}^2} = f(\\mathbf{x}_s,t) \\tag{2}\n",
    "$$\n",
    "where $c(\\mathbf{x}):\\Omega_{0}\\rightarrow \\mathbb{R}$ is the pressure wave velocity, which is assumed here a piecewise-constant and positive. The source term $f(\\mathbf{x}_s,t)$ represents a point of wave source.\n",
    "The wave equation (2) satisfies the boundary conditions:\n",
    "$$\n",
    "    u(\\mathbf{x},t) = 0, \\quad \\mathbf{x} \\in \\partial\\Omega_{0}, \\quad t\\in\\tau\n",
    "$$\n",
    "The acoustic wave equation should satisfy the initial conditions $u(\\mathbf{x}, 0)  = 0 = u_t(\\mathbf{x}, 0) = 0$.\n",
    "\n",
    "To solve the wave equation, we consider the following weak form over the domain $\\Omega_{0}$:\n",
    "$$\n",
    "    \\int_{\\Omega_{0}} \\left(\\frac{\\partial^2 u}{\\partial t^2}v + c^2\\nabla u \\cdot \\nabla v\\right) \\, dx = \\int_{\\Omega_{0}} f v \\, dx,\n",
    "$$\n",
    "for an arbitrary test function $v\\in V$, where $V$ is a function space. The implementation of the weak form is given by the following Firedrake code:"
   ]
  },
  {
   "cell_type": "code",
   "execution_count": 1,
   "metadata": {},
   "outputs": [],
   "source": [
    "import finat\n",
    "import os\n",
    "import warnings\n",
    "warnings.filterwarnings(\"ignore\")\n",
    "os.environ[\"OMP_NUM_THREADS\"] = \"1\"\n",
    "os.environ[\"PETSC_DIR\"] = \"/opt/petsc/firedrake\"\n",
    "os.environ[\"PETSC_ARCH\"] = \"full-opt\"\n",
    "os.environ[\"HDF5_DIR\"] = \"/opt/petsc/firedrake/packages\"\n",
    "\n",
    "from firedrake import *\n",
    "\n",
    "\n",
    "def wave_equation_solver(c, source_function, dt, V):\n",
    "    \"\"\"Solves the acoustic wave equation in 2D.\n",
    "\n",
    "    Parameters\n",
    "    ----------\n",
    "    c : velocity field\n",
    "        The velocity field.\n",
    "    source_function : firedrake.Function\n",
    "        The function that models the source of the wave.\n",
    "    dt : float\n",
    "        The time step.\n",
    "    V : firedrake.FunctionSpace\n",
    "        The function space where the solution lives.\n",
    "\n",
    "    Returns\n",
    "    -------\n",
    "    firedrake.LinearVariationalSolver, firedrake.Function, firedrake.Function, firedrake.Function\n",
    "        Return the linear variational solver and the functions for the solution at time `n+1`, `n` and `n-1`.\n",
    "        These outputs are going to be used in a time loop.\n",
    "    \n",
    "    Notes\n",
    "    -----\n",
    "    Additional information about this wave equation solver, including the discretisation and the\n",
    "    linear variational problem, please refer this \n",
    "    `documentation link <https://www.firedrakeproject.org/demos/higher_order_mass_lumping.py.html>`_.\n",
    "    \"\"\"\n",
    "    u = TrialFunction(V)\n",
    "    v = TestFunction(V)\n",
    "\n",
    "    u_np1 = Function(V) # timestep n+1\n",
    "    u_n = Function(V) # timestep n\n",
    "    u_nm1 = Function(V) # timestep n-1\n",
    "\n",
    "    # quadrature rule for lumped mass matrix\n",
    "    quad_rule = finat.quadrature.make_quadrature(V.finat_element.cell, V.ufl_element().degree(), \"KMV\")\n",
    "    dudt2 =  (1 / (c * c)) * (u - 2.0 * u_n + u_nm1) / Constant(dt**2) * v * dx(scheme=quad_rule)\n",
    "    nf =  (1 / c) * ((u_n - u_nm1) / dt) * v * ds\n",
    "    a = dot(grad(u_n), grad(v)) * dx(scheme=quad_rule)\n",
    "    F = dudt2 + a + nf - source_function * v * dx(scheme=quad_rule)\n",
    "    lhs_ = lhs(F)\n",
    "    rhs_ = rhs(F)\n",
    "    lin_var = LinearVariationalProblem(lhs_, rhs_, u_np1)\n",
    "    solver = LinearVariationalSolver(lin_var, solver_parameters={\"ksp_type\": \"preonly\", \"pc_type\": \"jacobi\"})\n",
    "    return solver, u_np1, u_n, u_nm1"
   ]
  },
  {
   "cell_type": "markdown",
   "metadata": {},
   "source": [
    "The wave euqation forcing $f = f(\\mathbf{x}_s, t)$ represents a time-dependent wave source locate at the position $\\mathbf{x}_s$, being written of the form:\n",
    "$$\n",
    "    f(\\mathbf{x}_s,t) = r(t) \\delta(\\mathbf{x} - \\mathbf{x}_s)\n",
    "$$\n",
    "where $r(t)$ is the [Ricker wavelet](https://wiki.seg.org/wiki/Dictionary:Ricker_wavelet), and $\\delta(\\mathbf{x} - \\mathbf{x}_s)$ is the Dirac delta function. This forcing term is implemented in Firedrake as follows:"
   ]
  },
  {
   "cell_type": "code",
   "execution_count": 2,
   "metadata": {},
   "outputs": [],
   "source": [
    "import numpy as np\n",
    "from firedrake.__future__ import Interpolator\n",
    "\n",
    "def forcing(parent_mesh, delta_loc, V):\n",
    "    vom_mesh = VertexOnlyMesh(parent_mesh, [delta_loc])\n",
    "    vom_space = FunctionSpace(vom_mesh, \"DG\", 0)\n",
    "    forcing_point = assemble(Constant(1.0)*TestFunction(vom_space)*dx)\n",
    "    interp = Interpolator(TestFunction(V), vom_space)\n",
    "    return interp, forcing_point"
   ]
  },
  {
   "cell_type": "markdown",
   "metadata": {},
   "source": [
    "The implementation of [Ricker wavelet](https://wiki.seg.org/wiki/Dictionary:Ricker_wavelet) is given by the following Firedrake code:"
   ]
  },
  {
   "cell_type": "code",
   "execution_count": 3,
   "metadata": {},
   "outputs": [],
   "source": [
    "def ricker_wavelet(t, fs, amp=1.0):\n",
    "    \"\"\"Ricker wavelet.\n",
    "\n",
    "    Parameters\n",
    "    ----------\n",
    "    t : float\n",
    "        Time.\n",
    "    fs : float\n",
    "        Frequency.\n",
    "    amp : float, optional\n",
    "        Amplitude of the wavelet.\n",
    "\n",
    "    Returns\n",
    "    -------\n",
    "    float\n",
    "        The value of the wavelet at time `t`.\n",
    "    \"\"\"\n",
    "    ts = 1.5\n",
    "    t0 = t - ts * np.sqrt(6.0) / (np.pi * fs)\n",
    "    return (amp * (1.0 - (1.0 / 2.0) * (2.0 * np.pi * fs) * (2.0 * np.pi * fs) * t0 * t0)\n",
    "            * np.exp(\n",
    "                (-1.0 / 4.0) * (2.0 * np.pi * fs) * (2.0 * np.pi * fs) * t0 * t0\n",
    "            )\n",
    "        )"
   ]
  },
  {
   "cell_type": "markdown",
   "metadata": {},
   "source": [
    "## FWI execution\n",
    "In this example, we consider a two dimensional domain where we want to estimate the parameter $c$ in a physical domain with the lenght of $1$ km ($L_x = 1km$) and the depth of $1$ km ($L_z = 1km$).\n",
    "\n",
    "Below we create a dictionary containing the parameters necessary to solve the wave equation. The `model` dictionary contains the keys containing the basic setup to execute the acoust wave equation, and the FWI.\n",
    "\n",
    "In addition, we create a `plot_function` used to plot the solutions and the parameter $c$ in the nexts code cells."
   ]
  },
  {
   "cell_type": "code",
   "execution_count": 4,
   "metadata": {},
   "outputs": [],
   "source": [
    "%matplotlib inline\n",
    "from firedrake.pyplot import tricontourf\n",
    "import matplotlib.pyplot as plt\n",
    "Lx, Lz = 1, 1\n",
    "num_receivers = 10\n",
    "num_sources = 3\n",
    "model = {\n",
    "    \"source_locations\": np.linspace((0.3, 0.15), (0.7, 0.15), num_sources),\n",
    "    \"receiver_locations\": np.linspace((0.2, 0.8), (0.8, 0.8), num_receivers),\n",
    "    \"mesh\": UnitSquareMesh(60, 60),\n",
    "    \"dt\": 0.002,  # time step\n",
    "    \"final_time\": 0.8,  # final time\n",
    "    \"functional\": None,  # The functional to be used in the inversion. Must be a callable.\n",
    "    \"syntetic_receiver_data\": None,  # The syntetic receiver data to be used in the inversion.\n",
    "    \"frequency_peak\": 7.0,  # The dominant frequency of the source.\n",
    "}\n",
    "\n",
    "def plot_function(function):\n",
    "    # NBVAL_IGNORE_OUTPUT\n",
    "    fig, axes = plt.subplots()\n",
    "    contours = tricontourf(function, 10, axes=axes)\n",
    "    fig.colorbar(contours, ax=axes, fraction=0.01, cmap=\"seismic\")\n",
    "    plt.gca().invert_yaxis()\n",
    "    axes.set_aspect(\"equal\")\n",
    "    "
   ]
  },
  {
   "cell_type": "markdown",
   "metadata": {},
   "source": [
    "As we mentioed before, an FWI problem consists in finding an optimal parameter $c$ that minimises the functional $I(u, u^{obs})$, where $u^{obs}$ is the observed data. In this example, we consider this observed data as a synthetic data, which is obtained by solving the wave equation with a known parameter $c_{true}$. For the sake of simplicity, we consider the velocity model consisting of a circle in the center of the domain as shown in the next code cell."
   ]
  },
  {
   "cell_type": "code",
   "execution_count": 5,
   "metadata": {},
   "outputs": [
    {
     "data": {
      "image/png": "[encoded data removed]",
      "text/plain": [
       "<Figure size 640x480 with 2 Axes>"
      ]
     },
     "metadata": {},
     "output_type": "display_data"
    }
   ],
   "source": [
    "V = FunctionSpace(model[\"mesh\"], \"KMV\", 1)\n",
    "x, z = SpatialCoordinate(model[\"mesh\"])\n",
    "c_true = Function(V).interpolate(2.5 + 1 * tanh(200 * (0.125 - sqrt((x - 0.5) ** 2 + (z - 0.5) ** 2))))\n",
    "plot_function(c_true)"
   ]
  },
  {
   "cell_type": "markdown",
   "metadata": {},
   "source": [
    "Next, we get the synthetic data recorded on the receivers by executing the wave equation with the true syntetic $c_{true}$."
   ]
  },
  {
   "cell_type": "code",
   "execution_count": 6,
   "metadata": {},
   "outputs": [
    {
     "name": "stdout",
     "output_type": "stream",
     "text": [
      "Computing syntetic receiver data for source 1 of 3\n",
      "Computing syntetic receiver data for source 2 of 3\n",
      "Computing syntetic receiver data for source 3 of 3\n"
     ]
    }
   ],
   "source": [
    "def true_receiver_data(syntetic_pressure, receiver_locations, source_locations, receiver_mesh):\n",
    "    \"\"\"Compute the syntetic receiver data.\n",
    "\n",
    "    Parameters\n",
    "    ----------\n",
    "    syntetic_pressure : Function\n",
    "        The syntetic pressure field.\n",
    "    receiver_locations : array_like\n",
    "        The receiver locations.\n",
    "    \n",
    "    receiver_mesh : firedrake.VertexOnlyMesh\n",
    "        The receiver mesh.\n",
    "    \n",
    "\n",
    "    Returns\n",
    "    -------\n",
    "    list\n",
    "        The syntetic receiver data for all time steps.\n",
    "    \"\"\"\n",
    "    element = FiniteElement(\"KMV\", model[\"mesh\"].ufl_cell(), degree=1, variant=\"KMV\")\n",
    "    V = FunctionSpace(model[\"mesh\"], element)\n",
    "    source_function = Function(V)\n",
    "    solver, u_np1, u_n, u_nm1 = wave_equation_solver(c_true, source_function, model[\"dt\"], V)\n",
    "    interpolator_sources, forcing_point = forcing(model[\"mesh\"], source_locations, V)\n",
    "    P0DG = FunctionSpace(receiver_mesh, \"DG\", 0)\n",
    "    interpolator_receivers = Interpolator(u_np1, P0DG)\n",
    "    u_sol_receivers = []\n",
    "    for t in np.arange(0, model[\"final_time\"] + model[\"dt\"], model[\"dt\"]):\n",
    "        forcing_point.dat.data[:] = ricker_wavelet(t, model[\"frequency_peak\"])\n",
    "        source_function.assign(\n",
    "            1000*assemble(\n",
    "            interpolator_sources.interpolate(forcing_point, transpose=True)\n",
    "            ).riesz_representation(riesz_map='l2')\n",
    "        )\n",
    "        # Call the solver object.\n",
    "        solver.solve()\n",
    "        # Interpolate the solution at the receiver locations and store the result.\n",
    "        # This data will be used in the inversion to compute the functional.\n",
    "        u_sol_receivers.append(assemble(interpolator_receivers.interpolate()))\n",
    "        # Update the solution at the previous time steps.\n",
    "        u_nm1.assign(u_n)\n",
    "        u_n.assign(u_np1)\n",
    "    return u_sol_receivers\n",
    "\n",
    "receiver_mesh =  VertexOnlyMesh(model[\"mesh\"], model[\"receiver_locations\"])\n",
    "u_sol_sources = []\n",
    "num_sources = model[\"source_locations\"].shape[0]\n",
    "for sn in range(num_sources):\n",
    "    print(f\"Computing syntetic receiver data for source {sn+1} of {num_sources}\")\n",
    "    u_sol_sources.append(true_receiver_data(c_true, model[\"receiver_locations\"], model[\"source_locations\"][sn], receiver_mesh))"
   ]
  },
  {
   "cell_type": "markdown",
   "metadata": {},
   "source": [
    "We now seeks to run a FWI problem, which involves the following steps:\n",
    "1. Set the initial guess for the parameter $c$;\n",
    "2. Solve the wave equation with the initial guess for the parameter $c$;\n",
    "3. Compute the functional $I(u, u^{obs})$;\n",
    "4. Compute the gradient of the functional $I(u, u^{obs})$ with respect to the parameter $c$;\n",
    "5. Update the parameter $c$ using a gradient-based optimization method;\n",
    "\n",
    "The gradient is computed automatically using the algorithmic differentiation (AD) pyadjoint. To have the automated gradient computation, we need to tape the forward solver associate to the paremeter $c$, which minimises the functional $I(u, u^{obs})$. Taping the forward solver starts when we set `continue_annotation()`."
   ]
  },
  {
   "cell_type": "markdown",
   "metadata": {},
   "source": [
    "FWI has extensive memory usage. To mitigate this issue, we can use the checkpointing technique. An FWI solver in firedrake is enabled to use the checkpointing technique by setting:\n",
    "```python\n",
    "    tape = get_working_tape()\n",
    "    tape.enable_checkpointing(schedule)\n",
    "```\n",
    "where `schedule` is a checkpointing schedule.\n",
    "\n",
    "The code cell below shows the definition of the checkpointing schedule and the command to enable the checkpointing technique. In the current example we are using the `Revolve` checkpoint schedule from the `checkpoint_schedule` package.\n",
    "\n",
    "We set a progress bar to monitor the FWI run in time. "
   ]
  },
  {
   "cell_type": "markdown",
   "metadata": {},
   "source": [
    "<div class=\"alert alert-block alert-info\">\n",
    "<b>Note:</b> If you do not want to use checkpointing, you can skip the cell below.\n",
    "</div>"
   ]
  },
  {
   "cell_type": "markdown",
   "metadata": {},
   "source": [
    "The code cell below is forward solver for the guess parameter $c_{guess}$. This foward solver will tape by the algorithmic differentiation to compute the gradient of the functional $I(u, u^{obs})$."
   ]
  },
  {
   "cell_type": "code",
   "execution_count": 7,
   "metadata": {},
   "outputs": [],
   "source": [
    "from checkpoint_schedules import Revolve\n",
    "from firedrake.adjoint import *\n",
    "\n",
    "def J(c, true_receiver, source_location):\n",
    "    continue_annotation()\n",
    "    total_steps = int(model[\"final_time\"] / model[\"dt\"]) + 1\n",
    "    tape = get_working_tape()\n",
    "    tape.progress_bar = ProgressBar\n",
    "    tape.enable_checkpointing(Revolve(total_steps, total_steps//10))\n",
    "    element = FiniteElement(\"KMV\", model[\"mesh\"].ufl_cell(), degree=1, variant=\"KMV\")\n",
    "    V = FunctionSpace(model[\"mesh\"], element)\n",
    "    source_function = Function(V)\n",
    "    solver, u_np1, u_n, u_nm1 = wave_equation_solver(c, source_function, model[\"dt\"], V)\n",
    "    interpolator_sources, forcing_point = forcing(model[\"mesh\"], source_location, V)\n",
    "    P0DG = FunctionSpace(receiver_mesh, \"DG\", 0)\n",
    "    interpolator_receivers = Interpolator(u_np1, P0DG)\n",
    "    J_val = 0.0\n",
    "    for t in tape.timestepper(iter(range(total_steps))):\n",
    "        forcing_point.dat.data[:] = ricker_wavelet(model[\"dt\"] * t, model[\"frequency_peak\"])\n",
    "        source_function.assign(\n",
    "            1000*assemble(\n",
    "            interpolator_sources.interpolate(forcing_point, transpose=True)\n",
    "            ).riesz_representation(riesz_map='l2')\n",
    "        )\n",
    "        solver.solve()\n",
    "        u_nm1.assign(u_n)\n",
    "        u_n.assign(u_np1)\n",
    "        guess_receiver = assemble(interpolator_receivers.interpolate())\n",
    "        J_val += 0.5 * assemble(\n",
    "            inner(guess_receiver - true_receiver[t], guess_receiver - true_receiver[t]) * dx\n",
    "            )\n",
    "    return J_val"
   ]
  },
  {
   "cell_type": "code",
   "execution_count": 8,
   "metadata": {},
   "outputs": [
    {
     "name": "stdout",
     "output_type": "stream",
     "text": [
      "Running source 1 of 3\n"
     ]
    },
    {
     "name": "stderr",
     "output_type": "stream",
     "text": [
      "Taping forward ▣▣▣▣▣▣▣▣▣▣▣▣▣▣▣▣▣▣▣▣▣▣▣▣▣▣▣▣▣▣▣▣▣▣▣▣▣▣▣▣▣▣▣▣▣▣▣▣▣▣ 401/100 [0:00:03]\n",
      "Evaluating Adjoint ▣▣▣▣▣▣▣▣▣▣▣▣▣▣▣▣▣▣▣▣▣▣▣▣▣▣▣▣▣▣▣▣▣▣▣▣▣▣▣▣▣▣▣▣▣▣▣▣▣▣ 401/401 [0:00:22]\n",
      "\u001b[?25h"
     ]
    },
    {
     "name": "stdout",
     "output_type": "stream",
     "text": [
      "Running source 2 of 3\n"
     ]
    },
    {
     "name": "stderr",
     "output_type": "stream",
     "text": [
      "Taping forward ▣▣▣▣▣▣▣▣▣▣▣▣▣▣▣▣▣▣▣▣▣▣▣▣▣▣▣▣▣▣▣▣▣▣▣▣▣▣▣▣▣▣▣▣▣▣▣▣▣▣ 401/100 [0:00:03]\n",
      "Evaluating Adjoint ▣▣▣▣▣▣▣▣▣▣▣▣▣▣▣▣▣▣▣▣▣▣▣▣▣▣▣▣▣▣▣▣▣▣▣▣▣▣▣▣▣▣▣▣▣▣▣▣▣▣ 401/401 [0:00:22]\n",
      "\u001b[?25h"
     ]
    },
    {
     "name": "stdout",
     "output_type": "stream",
     "text": [
      "Running source 3 of 3\n"
     ]
    },
    {
     "name": "stderr",
     "output_type": "stream",
     "text": [
      "Taping forward ▣▣▣▣▣▣▣▣▣▣▣▣▣▣▣▣▣▣▣▣▣▣▣▣▣▣▣▣▣▣▣▣▣▣▣▣▣▣▣▣▣▣▣▣▣▣▣▣▣▣ 401/100 [0:00:03]\n",
      "Evaluating Adjoint ▣▣▣▣▣▣▣▣▣▣▣▣▣▣▣▣▣▣▣▣▣▣▣▣▣▣▣▣▣▣▣▣▣▣▣▣▣▣▣▣▣▣▣▣▣▣▣▣▣▣ 401/401 [0:00:21]\n",
      "Evaluating Functional ▣▣▣▢▢▢▢▢▢▢▢▢▢▢▢▢▢▢▢▢▢▢▢▢▢▢▢▢▢▢▢▢▢▢▢▢▢▢▢▢▢▢▢▢▢▢▢▢▢▢ 28/401 [0:00:00]"
     ]
    },
    {
     "name": "stdout",
     "output_type": "stream",
     "text": [
      "Running source 1 of 3\n",
      "RUNNING THE L-BFGS-B CODE\n",
      "\n",
      "           * * *\n",
      "\n",
      "Machine precision = 2.220D-16\n",
      " N =         3721     M =           10\n",
      "\n",
      "At X0      3721 variables are exactly at the bounds\n",
      "\n",
      "At iterate    0    f=  3.44508D-02    |proj g|=  3.73518D-03\n"
     ]
    },
    {
     "name": "stderr",
     "output_type": "stream",
     "text": [
      "Evaluating Functional ▣▣▣▣▣▣▣▣▣▣▣▣▣▣▣▣▣▣▣▣▣▣▣▣▣▣▣▣▣▣▣▣▣▣▣▣▣▣▣▣▣▣▣▣▣▣▣▣▣▣ 401/401 [0:00:02]\n",
      "Evaluating Adjoint ▣▣▣▣▣▣▣▣▣▣▣▣▣▣▣▣▣▣▣▣▣▣▣▣▣▣▣▣▣▣▣▣▣▣▣▣▣▣▣▣▣▣▣▣▣▣▣▣▣▣ 401/401 [0:00:22]\n",
      "Evaluating Functional ▣▣▣▢▢▢▢▢▢▢▢▢▢▢▢▢▢▢▢▢▢▢▢▢▢▢▢▢▢▢▢▢▢▢▢▢▢▢▢▢▢▢▢▢▢▢▢▢▢▢ 29/401 [0:00:00]"
     ]
    },
    {
     "name": "stdout",
     "output_type": "stream",
     "text": [
      "Running source 2 of 3\n"
     ]
    },
    {
     "name": "stderr",
     "output_type": "stream",
     "text": [
      "Evaluating Functional ▣▣▣▣▣▣▣▣▣▣▣▣▣▣▣▣▣▣▣▣▣▣▣▣▣▣▣▣▣▣▣▣▣▣▣▣▣▣▣▣▣▣▣▣▣▣▣▣▣▣ 401/401 [0:00:02]\n",
      "Evaluating Adjoint ▣▣▣▣▣▣▣▣▣▣▣▣▣▣▣▣▣▣▣▣▣▣▣▣▣▣▣▣▣▣▣▣▣▣▣▣▣▣▣▣▣▣▣▣▣▣▣▣▣▣ 401/401 [0:00:21]\n",
      "Evaluating Functional ▣▣▣▢▢▢▢▢▢▢▢▢▢▢▢▢▢▢▢▢▢▢▢▢▢▢▢▢▢▢▢▢▢▢▢▢▢▢▢▢▢▢▢▢▢▢▢▢▢▢ 27/401 [0:00:00]"
     ]
    },
    {
     "name": "stdout",
     "output_type": "stream",
     "text": [
      "Running source 3 of 3\n"
     ]
    },
    {
     "name": "stderr",
     "output_type": "stream",
     "text": [
      "Evaluating Functional ▣▣▣▣▣▣▣▣▣▣▣▣▣▣▣▣▣▣▣▣▣▣▣▣▣▣▣▣▣▣▣▣▣▣▣▣▣▣▣▣▣▣▣▣▣▣▣▣▣▣ 401/401 [0:00:03]\n",
      "Evaluating Adjoint ▣▣▣▣▣▣▣▣▣▣▣▣▣▣▣▣▣▣▣▣▣▣▣▣▣▣▣▣▣▣▣▣▣▣▣▣▣▣▣▣▣▣▣▣▣▣▣▣▣▣ 401/401 [0:00:22]\n",
      "Evaluating Functional ▣▣▣▢▢▢▢▢▢▢▢▢▢▢▢▢▢▢▢▢▢▢▢▢▢▢▢▢▢▢▢▢▢▢▢▢▢▢▢▢▢▢▢▢▢▢▢▢▢▢ 27/401 [0:00:00]"
     ]
    },
    {
     "name": "stdout",
     "output_type": "stream",
     "text": [
      "\n",
      "At iterate    1    f=  3.42918D-02    |proj g|=  3.68781D-03\n",
      "Running source 1 of 3\n"
     ]
    },
    {
     "name": "stderr",
     "output_type": "stream",
     "text": [
      "Evaluating Functional ▣▣▣▣▣▣▣▣▣▣▣▣▣▣▣▣▣▣▣▣▣▣▣▣▣▣▣▣▣▣▣▣▣▣▣▣▣▣▣▣▣▣▣▣▣▣▣▣▣▣ 401/401 [0:00:03]\n",
      "Evaluating Adjoint ▣▣▣▣▣▣▣▣▣▣▣▣▣▣▣▣▣▣▣▣▣▣▣▣▣▣▣▣▣▣▣▣▣▣▣▣▣▣▣▣▣▣▣▣▣▣▣▣▣▣ 401/401 [0:00:21]\n",
      "Evaluating Functional ▣▣▣▢▢▢▢▢▢▢▢▢▢▢▢▢▢▢▢▢▢▢▢▢▢▢▢▢▢▢▢▢▢▢▢▢▢▢▢▢▢▢▢▢▢▢▢▢▢▢ 27/401 [0:00:00]"
     ]
    },
    {
     "name": "stdout",
     "output_type": "stream",
     "text": [
      "Running source 2 of 3\n"
     ]
    },
    {
     "name": "stderr",
     "output_type": "stream",
     "text": [
      "Evaluating Functional ▣▣▣▣▣▣▣▣▣▣▣▣▣▣▣▣▣▣▣▣▣▣▣▣▣▣▣▣▣▣▣▣▣▣▣▣▣▣▣▣▣▣▣▣▣▣▣▣▣▣ 401/401 [0:00:03]\n",
      "Evaluating Adjoint ▣▣▣▣▣▣▣▣▣▣▣▣▣▣▣▣▣▣▣▣▣▣▣▣▣▣▣▣▣▣▣▣▣▣▣▣▣▣▣▣▣▣▣▣▣▣▣▣▣▣ 401/401 [0:00:22]\n",
      "Evaluating Functional ▣▣▣▢▢▢▢▢▢▢▢▢▢▢▢▢▢▢▢▢▢▢▢▢▢▢▢▢▢▢▢▢▢▢▢▢▢▢▢▢▢▢▢▢▢▢▢▢▢▢ 28/401 [0:00:00]"
     ]
    },
    {
     "name": "stdout",
     "output_type": "stream",
     "text": [
      "Running source 3 of 3\n"
     ]
    },
    {
     "name": "stderr",
     "output_type": "stream",
     "text": [
      "Evaluating Functional ▣▣▣▣▣▣▣▣▣▣▣▣▣▣▣▣▣▣▣▣▣▣▣▣▣▣▣▣▣▣▣▣▣▣▣▣▣▣▣▣▣▣▣▣▣▣▣▣▣▣ 401/401 [0:00:03]\n",
      "Evaluating Adjoint ▣▣▣▣▣▣▣▣▣▣▣▣▣▣▣▣▣▣▣▣▣▣▣▣▣▣▣▣▣▣▣▣▣▣▣▣▣▣▣▣▣▣▣▣▣▣▣▣▣▣ 401/401 [0:00:22]\n",
      "Evaluating Functional ▣▣▣▢▢▢▢▢▢▢▢▢▢▢▢▢▢▢▢▢▢▢▢▢▢▢▢▢▢▢▢▢▢▢▢▢▢▢▢▢▢▢▢▢▢▢▢▢▢▢ 27/401 [0:00:00]"
     ]
    },
    {
     "name": "stdout",
     "output_type": "stream",
     "text": [
      "\n",
      "At iterate    2    f=  2.25942D-02    |proj g|=  1.19531D-03\n",
      "Running source 1 of 3\n"
     ]
    },
    {
     "name": "stderr",
     "output_type": "stream",
     "text": [
      "Evaluating Functional ▣▣▣▣▣▣▣▣▣▣▣▣▣▣▣▣▣▣▣▣▣▣▣▣▣▣▣▣▣▣▣▣▣▣▣▣▣▣▣▣▣▣▣▣▣▣▣▣▣▣ 401/401 [0:00:02]\n",
      "Evaluating Adjoint ▣▣▣▣▣▣▣▣▣▣▣▣▣▣▣▣▣▣▣▣▣▣▣▣▣▣▣▣▣▣▣▣▣▣▣▣▣▣▣▣▣▣▣▣▣▣▣▣▣▣ 401/401 [0:00:22]\n",
      "Evaluating Functional ▣▣▣▢▢▢▢▢▢▢▢▢▢▢▢▢▢▢▢▢▢▢▢▢▢▢▢▢▢▢▢▢▢▢▢▢▢▢▢▢▢▢▢▢▢▢▢▢▢▢ 28/401 [0:00:00]"
     ]
    },
    {
     "name": "stdout",
     "output_type": "stream",
     "text": [
      "Running source 2 of 3\n"
     ]
    },
    {
     "name": "stderr",
     "output_type": "stream",
     "text": [
      "Evaluating Functional ▣▣▣▣▣▣▣▣▣▣▣▣▣▣▣▣▣▣▣▣▣▣▣▣▣▣▣▣▣▣▣▣▣▣▣▣▣▣▣▣▣▣▣▣▣▣▣▣▣▣ 401/401 [0:00:02]\n",
      "Evaluating Adjoint ▣▣▣▣▣▣▣▣▣▣▣▣▣▣▣▣▣▣▣▣▣▣▣▣▣▣▣▣▣▣▣▣▣▣▣▣▣▣▣▣▣▣▣▣▣▢▢▢▢▢ 368/401 [0:00:21]"
     ]
    }
   ],
   "source": [
    "from scipy.optimize import minimize as scipy_minimize\n",
    "\n",
    "\n",
    "def recompute_functional(reduced_functional):\n",
    "    tape = reduced_functional.tape\n",
    "    tape.reset_blocks()\n",
    "    blocks = tape.get_blocks()\n",
    "    with reduced_functional.marked_controls():\n",
    "        if tape._checkpoint_manager:\n",
    "            tape._checkpoint_manager.recompute(reduced_functional.functional)\n",
    "        else:\n",
    "            for i in tape._bar(\"Evaluating functional\").iter(\n",
    "                range(len(blocks))\n",
    "            ):\n",
    "                blocks[i].recompute()\n",
    "    return reduced_functional.functional.block_variable.saved_output\n",
    "\n",
    "J_hat_sources =[]\n",
    "def run_fwi(c_guess):\n",
    "    global iteration\n",
    "    J_total = 0.0\n",
    "    dJ_total = Function(V)\n",
    "    num_sources = len(model[\"source_locations\"])\n",
    "    for sn in range(num_sources):\n",
    "        print(f\"Running source {sn + 1} of {len(model['source_locations'])}\")\n",
    "        if iteration == 0:\n",
    "            vp_guess = Function(V)\n",
    "            vp_guess.dat.data_wo[:] = c_guess\n",
    "            Js = J(vp_guess, u_sol_sources[sn], model[\"source_locations\"][sn])\n",
    "            J_hat_sources.append(ReducedFunctional(Js, Control(vp_guess)))\n",
    "            set_working_tape(Tape())\n",
    "        else:\n",
    "            with stop_annotating():\n",
    "                J_hat_sources[sn].controls[0].update_numpy(c_guess, 0)\n",
    "                Js = recompute_functional(J_hat_sources[sn])\n",
    "        with stop_annotating():\n",
    "            J_total += Js\n",
    "            dJ_total += J_hat_sources[sn].derivative()\n",
    "    iteration += 1     \n",
    "    return J_total, dJ_total.dat.data[:]\n",
    "\n",
    "iteration = 0\n",
    "c = Function(V).interpolate(1.5)\n",
    "bounds = [(1.5, 3.5)] * len(c.dat.data)\n",
    "result_data = scipy_minimize(run_fwi, c.dat.data[:], method='L-BFGS-B',\n",
    "                             jac=True, tol=1e-15, bounds=bounds,\n",
    "                             options={\"disp\": True, \"eps\": 1e-15,\n",
    "                                      \"gtol\": 1e-15, \"maxiter\": 10})\n",
    "vp_end = Function(V)\n",
    "vp_end.dat.data[:] = result_data.x\n",
    "plot_function(vp_end)"
   ]
  }
 ],
 "metadata": {
  "kernelspec": {
   "display_name": "Python 3 (ipykernel)",
   "language": "python",
   "name": "python3"
  },
  "language_info": {
   "codemirror_mode": {
    "name": "ipython",
    "version": 3
   },
   "file_extension": ".py",
   "mimetype": "text/x-python",
   "name": "python",
   "nbconvert_exporter": "python",
   "pygments_lexer": "ipython3",
   "version": "3.11.2"
  }
 },
 "nbformat": 4,
 "nbformat_minor": 2
}
