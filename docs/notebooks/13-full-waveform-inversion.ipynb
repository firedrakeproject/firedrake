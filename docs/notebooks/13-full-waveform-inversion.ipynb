{
 "cells": [
  {
   "cell_type": "markdown",
   "metadata": {},
   "source": [
    "# Full-waveform inversion (FWI) with automated adjoint and checkpointing\n",
    "\n",
    "Full-waveform inversion (FWI) is a technique in general employed to estimate the physical parameters in a subsurface region. It is a wave-equation-based seeking an optimal match between observed and computed data. The former is recorded by receivers in a real case. The latter consists of a computed data, which is obtained by solving numerically a wave equation with an forcing term representing a source of wave emission. \n",
    "\n",
    "## Functional to be minimised\n",
    "A tradicional form to measure the difference between the observed and computed data is given by the functional (Tarantola, 1984): \n",
    "$$\n",
    "    I(u, u^{obs}) = \\sum_{r=0}^{N-1} \\int_\\Omega \\left(u(c,\\mathbf{x},t)- u^{obs}(c, \\mathbf{x},t)\\right)^2 \\delta(x - x_r) \\, dx\n",
    "$$\n",
    "where $u = u(c, \\mathbf{x},t)$ and $u_{obs} = u_{obs}(c,\\mathbf{x},t)$, are respectively the computed and observed data, both recorded at a finite number of receivers ($N_r$), located at the point positions $\\check{\\mathbf{x}} \\in \\Omega_{0}$, in a time interval $\\tau\\equiv[t_0, t_f]\\subset \\mathbb{R}$, where $t_0$ is the initial time and $t_f$ is the final time. The spatial domain of interest is set as $\\Omega_{0}$.\n",
    "\n",
    "An FWI problem consists in finding an optimal parameter $c$ that minimizes the functional $I(u, u^{obs})$."
   ]
  },
  {
   "cell_type": "markdown",
   "metadata": {},
   "source": [
    "## Wave equation\n",
    "To have the computed data, we need first solve a wave equation. In this example, we consider the scalar acoustic wave equation using a damping term to attenate the reflections originated by the boundaries of the domain.\n",
    "$$\n",
    "    \\frac{\\partial^2 u}{\\partial t^2}(\\mathbf{x},t)- c^2\\frac{\\partial^2 u}{\\partial \\mathbf{x}^2} = f(\\mathbf{x}_s,t) \\tag{2}\n",
    "$$\n",
    "where $c(\\mathbf{x}):\\Omega_{0}\\rightarrow \\mathbb{R}$ is the pressure wave velocity, which is assumed here a piecewise-constant and positive. The source term $f(\\mathbf{x}_s,t)$ represents a point of wave source.\n",
    "The wave equation (2) satisfies the boundary conditions:\n",
    "$$\n",
    "    u(\\mathbf{x},t) = 0, \\quad \\mathbf{x} \\in \\partial\\Omega_{0}, \\quad t\\in\\tau\n",
    "$$\n",
    "The acoustic wave equation should satisfy the initial conditions $u(\\mathbf{x}, 0)  = 0 = u_t(\\mathbf{x}, 0) = 0$. The domain $\\Omega_{0}$ is illustrated at Figure. The boundaries $\\partial\\Omega_{i}$ with $i = 1,2,3$ are here referred to as truncated boundaries, and satisfy a null-Dirichlet boundary condition $u(\\mathbf{x},t) = 0$. The boundary $\\Omega_{4}$ satisfies the null-Neumann $\\nabla u(\\mathbf{x},t) \\cdot \\mathbf{n} = 0$ (free surface) boundary condition, where $\\mathbf{n}$ represents the outward normal (with respect to $\\partial \\Omega_4$) unit vector.\n",
    "\n",
    "To solve the wave equation, we consider the following weak form over the domain $\\Omega_{0}$:\n",
    "$$\n",
    "    \\int_{\\Omega_{0}} \\left(\\frac{\\partial^2 u}{\\partial t^2}v + c^2\\nabla u \\cdot \\nabla v\\right) \\, dx = \\int_{\\Omega_{0}} f v \\, dx,\n",
    "$$\n",
    "for an arbitrary test function $v\\in V$, where $V$ is a function space. The implementation of the weak form is given by the following Firedrake code:"
   ]
  },
  {
   "cell_type": "code",
   "execution_count": 1,
   "metadata": {},
   "outputs": [
    {
     "name": "stderr",
     "output_type": "stream",
     "text": [
      "firedrake:WARNING OMP_NUM_THREADS is not set or is set to a value greater than 1, we suggest setting OMP_NUM_THREADS=1 to improve performance\n"
     ]
    }
   ],
   "source": [
    "import finat\n",
    "import os\n",
    "# os.environ[\"OMP_NUM_THREADS\"] = \"1\"\n",
    "# os.environ[\"PETSC_DIR\"] = \"/opt/petsc/firedrake\"\n",
    "# os.environ[\"PETSC_ARCH\"] = \"full-opt\"\n",
    "# os.environ[\"HDF5_DIR\"] = \"/opt/petsc/firedrake/packages\"\n",
    "from firedrake import *\n",
    "def wave_equation_solver(c, source_function, dt, V):\n",
    "    \"\"\"Solves the acoustic wave equation in 2D.\n",
    "\n",
    "    Parameters\n",
    "    ----------\n",
    "    c : velocity field\n",
    "        The velocity field.\n",
    "    source_function : firedrake.Function\n",
    "        The function that models the source of the wave.\n",
    "    dt : float\n",
    "        The time step.\n",
    "    V : firedrake.FunctionSpace\n",
    "        The function space where the solution lives.\n",
    "\n",
    "    Returns\n",
    "    -------\n",
    "    firedrake.LinearVariationalSolver, firedrake.Function, firedrake.Function, firedrake.Function\n",
    "        Return the linear variational solver and the functions for the solution at time `n+1`, `n` and `n-1`.\n",
    "        These outputs are going to be used in a time loop.\n",
    "    \n",
    "    Notes\n",
    "    -----\n",
    "    Additional information about this wave equation solver, including the discretisation and the\n",
    "    linear variational problem, please refer this \n",
    "    `documentation link <https://www.firedrakeproject.org/demos/higher_order_mass_lumping.py.html>`_.\n",
    "    \"\"\"\n",
    "    u = TrialFunction(V)\n",
    "    v = TestFunction(V)\n",
    "\n",
    "    u_np1 = Function(V) # timestep n+1\n",
    "    u_n = Function(V) # timestep n\n",
    "    u_nm1 = Function(V) # timestep n-1\n",
    "\n",
    "    # quadrature rule for lumped mass matrix\n",
    "    quad_rule = finat.quadrature.make_quadrature(V.finat_element.cell, V.ufl_element().degree(), \"KMV\")\n",
    "    # time discretisation/mass matrix\n",
    "    m =  (u - 2.0 * u_n + u_nm1) / Constant(dt * dt) * v * dx(scheme=quad_rule)\n",
    "    # stiffness matrix\n",
    "    a = c * c * dot(grad(u_n), grad(v)) * dx\n",
    "    # wave source\n",
    "    f = source_function * v * dx(scheme=quad_rule)\n",
    "    F = m + a - f\n",
    "    lhs_ = lhs(F)\n",
    "    rhs_ = rhs(F)\n",
    "\n",
    "    lin_var = LinearVariationalProblem(lhs_, rhs_, u_np1)\n",
    "    solver = LinearVariationalSolver(lin_var, solver_parameters={\"ksp_type\": \"preonly\", \"pc_type\": \"jacobi\"})\n",
    "    return solver, u_np1, u_n, u_nm1"
   ]
  },
  {
   "cell_type": "markdown",
   "metadata": {},
   "source": [
    "The wave euqation forcing $f = f(\\mathbf{x}_s, t)$ represents a time-dependent wave source locate at the position $\\mathbf{x}_s$, being written of the form:\n",
    "$$\n",
    "    f(\\mathbf{x}_s,t) = r(t) \\delta(\\mathbf{x} - \\mathbf{x}_s)\n",
    "$$\n",
    "where $r(t)$ is the Ricker wavelet, and $\\delta(\\mathbf{x} - \\mathbf{x}_s)$ is the Dirac delta function. This forcing term is implemented in Firedrake as follows:"
   ]
  },
  {
   "cell_type": "code",
   "execution_count": 2,
   "metadata": {},
   "outputs": [],
   "source": [
    "import numpy as np\n",
    "from firedrake.__future__ import interpolate\n",
    "def forcing(mesh, source_location, V):\n",
    "    x, z = SpatialCoordinate(mesh)\n",
    "    x_0 = source_location[0]\n",
    "    delta = exp(-5000 * ((z - source_location[0]) ** 2 + (x - source_location[1]) ** 2))\n",
    "    return assemble(interpolate(delta, V))"
   ]
  },
  {
   "cell_type": "markdown",
   "metadata": {},
   "source": [
    "The Ricker wavelet is given by:\n",
    "$$\n",
    "    r(t) = (1-2\\pi^2f_s^2(t-t_s)^2)e^{-\\pi^2f_s^2(t-t_s)^2}\n",
    "$$\n",
    "where $f_s$ is the dominant frequency of the wavelet, and $t_s$ is the time shift. The Ricker wavelet is implemented as follows:"
   ]
  },
  {
   "cell_type": "code",
   "execution_count": 3,
   "metadata": {},
   "outputs": [],
   "source": [
    "def ricker_wavelet(t, fs, amp=1.0):\n",
    "    ts = 1.5\n",
    "    t0 = t - ts * np.sqrt(6.0) / (np.pi * fs)\n",
    "    rw = (amp * (1.0 - (1.0 / 2.0) * (2.0 * np.pi * fs) * (2.0 * np.pi * fs) * t0 * t0)\n",
    "            * np.exp(\n",
    "                (-1.0 / 4.0) * (2.0 * np.pi * fs) * (2.0 * np.pi * fs) * t0 * t0\n",
    "            )\n",
    "        )\n",
    "    return rw"
   ]
  },
  {
   "cell_type": "markdown",
   "metadata": {},
   "source": [
    "## FWI execution\n",
    "In this example, we consider a two dimensional domain where we want to estimate the parameter $c$ in a physical domain with the lenght of $1$ km ($L_x = 1km$) and the depth of $1$ km ($L_z = 1km$).\n",
    "\n",
    "Below we create a dictionary containing the parameters necessary to solve the wave equation. The `model` dictionary contains contains the keys containing the basic setup to execute the acoust wave equation, and the FWI.\n",
    "\n",
    "In addition, we create a `plot_function` used to plot the solutions and the parameter $c$ in the nexts code cells."
   ]
  },
  {
   "cell_type": "code",
   "execution_count": 4,
   "metadata": {},
   "outputs": [],
   "source": [
    "import numpy as np\n",
    "%matplotlib inline\n",
    "from firedrake.pyplot import tricontourf, tripcolor\n",
    "import matplotlib.pyplot as plt\n",
    "Lx, Lz = 1, 1\n",
    "num_receivers = 10\n",
    "num_sources = 1\n",
    "model = {\n",
    "    \"source_locations\": np.linspace((0.1, 0.4), (0.1, 0.6), num_sources),\n",
    "    \"receiver_locations\": np.linspace((0.3, 0.1), (0.9, 0.1), num_receivers),\n",
    "    \"mesh\": UnitSquareMesh(25, 25),\n",
    "    \"dt\": 0.001,  # time step\n",
    "    \"final_time\": 0.01,\n",
    "    \"functional\": None,  # The functional to be used in the inversion. Must be a callable.\n",
    "    \"syntetic_receiver_data\": None,  # The syntetic receiver data to be used in the inversion.\n",
    "    \"frequency_peak\": 7.0,  # The dominant frequency of the source.\n",
    "    \"element_model\": {\"method\": \"KMV\", \"degree\": 4, \"quadrature\": \"KMV\"},\n",
    "}\n",
    "\n",
    "def plot_function(function):\n",
    "    # NBVAL_IGNORE_OUTPUT\n",
    "    fig, axes = plt.subplots()\n",
    "    contours = tricontourf(function, 10, axes=axes)\n",
    "    fig.colorbar(contours, ax=axes, fraction=0.046, cmap=\"seismic\")\n",
    "    plt.gca().invert_yaxis()\n",
    "    axes.set_aspect(\"equal\")\n",
    "    "
   ]
  },
  {
   "cell_type": "markdown",
   "metadata": {},
   "source": [
    "As we mentioed above, the FWI problem consists in finding an optimal parameter $c$ that minimizes the functional $I(u, u^{obs})$, where $u^{obs}$ is the observed data. In this example, we consider this observed data as a synthetic data, which is obtained by solving the wave equation with a known parameter $c_{true}$. For the sake of simplicity, we consider the velocity model consisting of a circle in the center of the domain as shown in the next code cell."
   ]
  },
  {
   "cell_type": "code",
   "execution_count": 5,
   "metadata": {},
   "outputs": [
    {
     "data": {
      "image/png": "[encoded data removed]",
      "text/plain": [
       "<Figure size 640x480 with 2 Axes>"
      ]
     },
     "metadata": {},
     "output_type": "display_data"
    }
   ],
   "source": [
    "V = FunctionSpace(model[\"mesh\"], model[\"element_model\"][\"method\"], model[\"element_model\"][\"degree\"])\n",
    "x, z = SpatialCoordinate(model[\"mesh\"])\n",
    "c_true = Function(V).interpolate(2.5 + 1 * tanh(200 * (0.125 - sqrt((x - 0.5) ** 2 + (z - 0.5) ** 2))))\n",
    "plot_function(c_true)"
   ]
  },
  {
   "cell_type": "markdown",
   "metadata": {},
   "source": [
    "Next, we have the synthetic data recorded by the receivers on executing the wave equation with the true parameter $c_{true}$."
   ]
  },
  {
   "cell_type": "code",
   "execution_count": 6,
   "metadata": {},
   "outputs": [
    {
     "name": "stderr",
     "output_type": "stream",
     "text": [
      "/Users/ddolci/tes_fire_install/firedrake/src/ufl/ufl/utils/sorting.py:84: UserWarning: Applying str() to a metadata value of type QuadratureRule, don't know if this is safe.\n",
      "  warnings.warn(f\"Applying str() to a metadata value of type {type(value).__name__}, \"\n",
      "/Users/ddolci/tes_fire_install/firedrake/src/ufl/ufl/utils/sorting.py:84: UserWarning: Applying str() to a metadata value of type QuadratureRule, don't know if this is safe.\n",
      "  warnings.warn(f\"Applying str() to a metadata value of type {type(value).__name__}, \"\n"
     ]
    }
   ],
   "source": [
    "V = FunctionSpace(model[\"mesh\"], model[\"element_model\"][\"method\"], model[\"element_model\"][\"degree\"])\n",
    "source_function = Function(V)\n",
    "solver, u_np1, u_n, u_nm1 = wave_equation_solver(c_true, source_function, model[\"dt\"], V)\n",
    "g = forcing(model[\"mesh\"], model[\"source_locations\"][0], V)\n",
    "for t in np.arange(0, model[\"final_time\"], model[\"dt\"]):\n",
    "    source_function.assign(g * ricker_wavelet(t, model[\"frequency_peak\"]))\n",
    "    # Call the solver object.\n",
    "    solver.solve()\n",
    "    # Exchange the solution at the two time-stepping levels.\n",
    "    u_nm1.assign(u_n)\n",
    "    u_n.assign(u_np1)\n",
    "syntetic_pressure = u_np1"
   ]
  },
  {
   "cell_type": "markdown",
   "metadata": {},
   "source": []
  },
  {
   "cell_type": "code",
   "execution_count": 7,
   "metadata": {},
   "outputs": [],
   "source": [
    "receiver_mesh = VertexOnlyMesh(model[\"mesh\"], model[\"receiver_locations\"])\n",
    "P0DG = FunctionSpace(receiver_mesh, \"DG\", 0)\n",
    "syntetic_receiver_data = assemble(interpolate(syntetic_pressure, P0DG))\n",
    "model[\"syntetic_receiver_data\"] = syntetic_receiver_data"
   ]
  },
  {
   "cell_type": "markdown",
   "metadata": {},
   "source": [
    "Before starting the FWI, we implement the functional $I(u, u^{obs})$...."
   ]
  },
  {
   "cell_type": "code",
   "execution_count": 8,
   "metadata": {},
   "outputs": [],
   "source": [
    "def functional(u):\n",
    "    # \"\"\"Compute the functional.\"\"\"\n",
    "    # if model[\"syntetic_receiver_data\"] and isinstance(model[\"syntetic_receiver_data\"], Function):\n",
    "    syntetic_receiver = model[\"syntetic_receiver_data\"]\n",
    "    # else:\n",
    "    #     raise ValueError(\"syntetic_receiver_data must be a Firedrake Function.\")\n",
    "    guess_receiver = assemble(interpolate(u, P0DG))\n",
    "    return 0.5 * assemble(inner(guess_receiver - syntetic_receiver, guess_receiver - syntetic_receiver) * dx)\n",
    "\n",
    "model[\"functional\"] = functional\n"
   ]
  },
  {
   "cell_type": "markdown",
   "metadata": {},
   "source": [
    "We then start inform the algorithmic differentiation to tape the foward solver associate to the paremeter $c$, which minimises the functional $I(u, u^{obs})$. Taping the forward solver starts when we set `continue_annotation()`."
   ]
  },
  {
   "cell_type": "code",
   "execution_count": 9,
   "metadata": {},
   "outputs": [
    {
     "data": {
      "text/plain": [
       "True"
      ]
     },
     "execution_count": 9,
     "metadata": {},
     "output_type": "execute_result"
    }
   ],
   "source": [
    "from firedrake.adjoint import continue_annotation\n",
    "continue_annotation()"
   ]
  },
  {
   "cell_type": "markdown",
   "metadata": {},
   "source": [
    "<div class=\"alert alert-block alert-info\">\n",
    "<b>Note:</b> If you do not want to use checkpointing in your FWI, you can skip the cell below.\n",
    "</div>"
   ]
  },
  {
   "cell_type": "code",
   "execution_count": 10,
   "metadata": {},
   "outputs": [
    {
     "name": "stdout",
     "output_type": "stream",
     "text": [
      "Total steps: 10\n"
     ]
    }
   ],
   "source": [
    "from checkpoint_schedules import Revolve\n",
    "from firedrake.adjoint import get_working_tape\n",
    "total_steps = int(model[\"final_time\"] / model[\"dt\"])\n",
    "print(f\"Total steps: {total_steps}\")\n",
    "tape = get_working_tape()\n",
    "tape.enable_checkpointing(Revolve(total_steps -1, 7))"
   ]
  },
  {
   "cell_type": "markdown",
   "metadata": {},
   "source": [
    "The initial guess for the parameter $c$ is set as a constant field as shown below."
   ]
  },
  {
   "cell_type": "code",
   "execution_count": 11,
   "metadata": {},
   "outputs": [
    {
     "data": {
      "image/png": "[encoded data removed]",
      "text/plain": [
       "<Figure size 640x480 with 2 Axes>"
      ]
     },
     "metadata": {},
     "output_type": "display_data"
    }
   ],
   "source": [
    "c = Function(V).interpolate(1.5 + 0.0 * x)\n",
    "plot_function(c)"
   ]
  },
  {
   "cell_type": "code",
   "execution_count": 12,
   "metadata": {},
   "outputs": [],
   "source": [
    "def J(c):\n",
    "    V = FunctionSpace(model[\"mesh\"], model[\"element_model\"][\"method\"], model[\"element_model\"][\"degree\"])\n",
    "    source_function = Function(V)\n",
    "    solver, u_np1, u_n, u_nm1 = wave_equation_solver(c, source_function, model[\"dt\"], V)\n",
    "    time_interval = np.arange(0, model[\"final_time\"], model[\"dt\"])\n",
    "    g = forcing(model[\"mesh\"], model[\"source_locations\"][0], V)\n",
    "    J_val = 0.0\n",
    "    for t in tape.timestepper(iter(time_interval)):\n",
    "        source_function.assign(g * ricker_wavelet(t, model[\"frequency_peak\"]))\n",
    "        # Call the solver object.\n",
    "        solver.solve()\n",
    "        # Exchange the solution at the two time-stepping levels.\n",
    "        u_nm1.assign(u_n)\n",
    "        u_n.assign(u_np1)\n",
    "        # functional must be callable.\n",
    "        functional = model[\"functional\"]\n",
    "        J_val += functional(u_n)\n",
    "    return J_val\n"
   ]
  },
  {
   "cell_type": "code",
   "execution_count": 14,
   "metadata": {},
   "outputs": [
    {
     "name": "stderr",
     "output_type": "stream",
     "text": [
      "Taping forward ▢▢▢▢▢▢▢▢▢▢▢▢▢▢▢▢▢▢▢▢▢▢▢▢▢▢▢▢▢▢▢▢▢▢▢▢▢▢▢▢▢▢▢▢▢▢▢▢▢▢ 0/100 [0:00:00]/Users/ddolci/tes_fire_install/firedrake/src/ufl/ufl/utils/sorting.py:84: UserWarning: Applying str() to a metadata value of type QuadratureRule, don't know if this is safe.\n",
      "  warnings.warn(f\"Applying str() to a metadata value of type {type(value).__name__}, \"\n",
      "Taping forward ▣▣▣▣▣▢▢▢▢▢▢▢▢▢▢▢▢▢▢▢▢▢▢▢▢▢▢▢▢▢▢▢▢▢▢▢▢▢▢▢▢▢▢▢▢▢▢▢▢▢ 10/100 [0:00:17]\n",
      "\u001b[?25h"
     ]
    }
   ],
   "source": [
    "tape.clear_tape()\n",
    "tape.progress_bar = ProgressBar\n",
    "guess_pressure = J(c)\n",
    "tape.clear_tape()"
   ]
  }
 ],
 "metadata": {
  "kernelspec": {
   "display_name": "Python 3 (ipykernel)",
   "language": "python",
   "name": "python3"
  },
  "language_info": {
   "codemirror_mode": {
    "name": "ipython",
    "version": 3
   },
   "file_extension": ".py",
   "mimetype": "text/x-python",
   "name": "python",
   "nbconvert_exporter": "python",
   "pygments_lexer": "ipython3",
   "version": "3.11.2"
  }
 },
 "nbformat": 4,
 "nbformat_minor": 2
}
