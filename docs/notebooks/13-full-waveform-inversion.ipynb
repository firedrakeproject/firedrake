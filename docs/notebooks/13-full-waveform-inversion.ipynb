{
 "cells": [
  {
   "cell_type": "markdown",
   "metadata": {},
   "source": [
    "# Full-waveform inversion (FWI) solver using automated differentiation\n",
    "\n",
    "Full-waveform inversion (FWI) is a technique in general employed to estimate the physical parameters in a subsurface region. It is a wave-equation-based seeking an optimal match between observed and computed data. The former is recorded by receivers in a real case. The latter consists of a computed data, which is obtained by solving numerically a wave equation with an forcing term representing a source of wave emission. \n",
    "\n",
    "## Functional to be minimised\n",
    "A tradicional form to measure the difference between the observed and computed data is given by the functional (Tarantola, 1984): \n",
    "$$\n",
    "    I(u, u^{obs}) = \\sum_{r=0}^{N-1} \\int_\\Omega \\left(u(c,\\mathbf{x},t)- u^{obs}(c, \\mathbf{x},t)\\right)^2 \\delta(x - x_r) \\, dx\n",
    "$$\n",
    "where $u = u(c, \\mathbf{x},t)$ and $u_{obs} = u_{obs}(c,\\mathbf{x},t)$, are respectively the computed and observed data, both recorded at a finite number of receivers ($N_r$), located at the point positions $\\check{\\mathbf{x}} \\in \\Omega_{0}$, in a time interval $\\tau\\equiv[t_0, t_f]\\subset \\mathbb{R}$, where $t_0$ is the initial time and $t_f$ is the final time. The spatial domain of interest is set as $\\Omega_{0}$.\n",
    "\n",
    "An FWI problem consists in finding an optimal parameter $c$ that minimizes the functional $I(u, u^{obs})$.\n",
    "\n",
    "### Functional implementation\n",
    "In Firedrake, the functional $I(u, u^{obs})$  is implemented as follows:"
   ]
  },
  {
   "cell_type": "code",
   "execution_count": 87,
   "metadata": {},
   "outputs": [],
   "source": [
    "from firedrake import *\n",
    "def functional(self, u_obs, u_computed):\n",
    "    \"\"\"Computes the functional J(u) = 0.5 * ||u - u_obs||^2.\n",
    "\n",
    "    Parameters\n",
    "    ----------\n",
    "    u_obs : firedrake.Function\n",
    "        The observed data at the receivers.\n",
    "    u_computed : firedrake.Function\n",
    "        The computed data at the receivers.\n",
    "\n",
    "    Returns\n",
    "    -------\n",
    "    float\n",
    "        The value of the functional.\n",
    "    \"\"\"\n",
    "    return 0.5 * assemble(inner(u_computed - u_obs, u_computed - u_obs) * dx)\n",
    "    "
   ]
  },
  {
   "cell_type": "markdown",
   "metadata": {},
   "source": [
    "## Wave equation\n",
    "To have the computed data, we need first solve a wave equation. In this example, we consider the scalar acoustic wave equation using a damping term to attenate the reflections originated by the boundaries of the domain.\n",
    "$$\n",
    "    \\frac{\\partial^2 u}{\\partial t^2}(\\mathbf{x},t)- c^2\\frac{\\partial^2 u}{\\partial \\mathbf{x}^2} = f(\\mathbf{x}_s,t) \\tag{2}\n",
    "$$\n",
    "where $c(\\mathbf{x}):\\Omega_{0}\\rightarrow \\mathbb{R}$ is the pressure wave ($P$-wave) velocity, which is assumed here a piecewise-constant and positive function. The source term $f(\\mathbf{x}_s,t)$ is a function that represents the wave emission. Here, the source of waves is a Ricker wavelet, which is a function of time. \n",
    "\n",
    "The wave equation (2) satisfies the boundary conditions:\n",
    "$$\n",
    "    u(\\mathbf{x},t) = 0, \\quad \\mathbf{x} \\in \\partial\\Omega_{0}, \\quad t\\in\\tau\n",
    "$$\n",
    "The acoustic wave equation should satisfy the initial conditions $u(\\mathbf{x}, 0)  = 0 = u_t(\\mathbf{x}, 0) = 0$. The domain $\\Omega_{0}$ is illustrated at Figure. The boundaries $\\partial\\Omega_{i}$ with $i = 1,2,3$ are here referred to as truncated boundaries, and satisfy a null-Dirichlet boundary condition $u(\\mathbf{x},t) = 0$. The boundary $\\Omega_{4}$ satisfies the null-Neumann $\\nabla u(\\mathbf{x},t) \\cdot \\mathbf{n} = 0$ (free surface) boundary condition, where $\\mathbf{n}$ represents the outward normal (with respect to $\\partial \\Omega_4$) unit vector.\n",
    "\n",
    "To solve the wave equation, we consider the following weak form over the domain $\\Omega_{0}$:\n",
    "$$\n",
    "    \\int_{\\Omega_{0}} \\left(\\frac{\\partial^2 u}{\\partial t^2}v + c^2\\nabla u \\cdot \\nabla v\\right) \\, dx = \\int_{\\Omega_{0}} f v \\, dx,\n",
    "$$\n",
    "for an arbitrary test function $v\\in V$, where $V$ is a function space. The implementation of the weak form is given by the following Firedrake code:"
   ]
  },
  {
   "cell_type": "code",
   "execution_count": 88,
   "metadata": {},
   "outputs": [],
   "source": [
    "import finat\n",
    "def wave_equation_solver(c, source_function, dt, V):\n",
    "    \"\"\"Solves the acoustic wave equation in 2D.\n",
    "\n",
    "    Parameters\n",
    "    ----------\n",
    "    c : velocity field\n",
    "        The velocity field.\n",
    "    source_function : firedrake.Function\n",
    "        The function that models the source of the wave.\n",
    "    dt : float\n",
    "        The time step.\n",
    "    V : firedrake.FunctionSpace\n",
    "        The function space where the solution lives.\n",
    "\n",
    "    Returns\n",
    "    -------\n",
    "    firedrake.LinearVariationalSolver, firedrake.Function, firedrake.Function, firedrake.Function\n",
    "        Return the linear variational solver and the functions for the solution at time `n+1`, `n` and `n-1`.\n",
    "        These outputs are going to be used in a time loop.\n",
    "    \"\"\"\n",
    "    u = TrialFunction(V)\n",
    "    v = TestFunction(V)\n",
    "\n",
    "    u_np1 = Function(V) # timestep n+1\n",
    "    u_n = Function(V) # timestep n\n",
    "    u_nm1 = Function(V) # timestep n-1\n",
    "\n",
    "    # quadrature rule for lumped mass matrix\n",
    "    quad_rule = finat.quadrature.make_quadrature(V.finat_element.cell, V.ufl_element().degree(), \"KMV\")\n",
    "    # time discretisation/mass matrix\n",
    "    m =  (u - 2.0 * u_n + u_nm1) / Constant(dt * dt) * v * dx(scheme=quad_rule)\n",
    "    # stiffness matrix\n",
    "    a = c * c * dot(grad(u_n), grad(v)) * dx\n",
    "    # wave source\n",
    "    f = source_function * v * dx(scheme=quad_rule)\n",
    "    F = m + a - f\n",
    "    lhs_ = lhs(F)\n",
    "    rhs_ = rhs(F)\n",
    "\n",
    "    lin_var = LinearVariationalProblem(lhs_, rhs_, u_np1)\n",
    "    solver = LinearVariationalSolver(lin_var, solver_parameters={\"ksp_type\": \"preonly\", \"pc_type\": \"jacobi\"})\n",
    "    return solver, u_np1, u_n, u_nm1"
   ]
  },
  {
   "cell_type": "markdown",
   "metadata": {},
   "source": []
  },
  {
   "cell_type": "code",
   "execution_count": 96,
   "metadata": {},
   "outputs": [
    {
     "name": "stderr",
     "output_type": "stream",
     "text": [
      "ERROR: Index_Intersects_id failed in libspatialindex!ERROR: Index_Intersects_id failed in libspatialindex!ERROR: Index_Intersects_id failed in libspatialindex!ERROR: Index_Intersects_id failed in libspatialindex!ERROR: Index_Intersects_id failed in libspatialindex!ERROR: Index_Intersects_id failed in libspatialindex!ERROR: Index_Intersects_id failed in libspatialindex!ERROR: Index_Intersects_id failed in libspatialindex!"
     ]
    },
    {
     "ename": "VertexOnlyMeshMissingPointsError",
     "evalue": "8 vertices are outside the mesh and have been removed from the VertexOnlyMesh.",
     "output_type": "error",
     "traceback": [
      "\u001b[0;31m---------------------------------------------------------------------------\u001b[0m",
      "\u001b[0;31mVertexOnlyMeshMissingPointsError\u001b[0m          Traceback (most recent call last)",
      "Cell \u001b[0;32mIn[96], line 44\u001b[0m\n\u001b[1;32m     40\u001b[0m m \u001b[38;5;241m=\u001b[39m UnitSquareMesh(\u001b[38;5;241m2\u001b[39m, \u001b[38;5;241m2\u001b[39m)\n\u001b[1;32m     42\u001b[0m \u001b[38;5;66;03m# Input the data using a vertex-only mesh, using the input_ordering property\u001b[39;00m\n\u001b[1;32m     43\u001b[0m \u001b[38;5;66;03m# to ensure we respect the mesh parallel decomposition\u001b[39;00m\n\u001b[0;32m---> 44\u001b[0m vm \u001b[38;5;241m=\u001b[39m \u001b[43mVertexOnlyMesh\u001b[49m\u001b[43m(\u001b[49m\u001b[43mm\u001b[49m\u001b[43m,\u001b[49m\u001b[43m \u001b[49m\u001b[43mdata_coords\u001b[49m\u001b[43m,\u001b[49m\u001b[43m \u001b[49m\u001b[43mredundant\u001b[49m\u001b[38;5;241;43m=\u001b[39;49m\u001b[38;5;28;43;01mFalse\u001b[39;49;00m\u001b[43m)\u001b[49m\n\u001b[1;32m     45\u001b[0m \u001b[38;5;66;03m# P0DG = FunctionSpace(vm, \"DG\", 0)\u001b[39;00m\n\u001b[1;32m     46\u001b[0m \u001b[38;5;66;03m# P0DG_input_ordering = FunctionSpace(vm.input_ordering, \"DG\", 0)\u001b[39;00m\n\u001b[1;32m     47\u001b[0m \u001b[38;5;66;03m# f_point_data_input_ordering = Function(P0DG_input_ordering)\u001b[39;00m\n\u001b[1;32m     48\u001b[0m \u001b[38;5;66;03m# f_point_data_input_ordering.dat.data_wo[:] = data_vals  # This is now safe to do\u001b[39;00m\n\u001b[1;32m     49\u001b[0m \u001b[38;5;66;03m# f_point_data = interpolate(f_point_data_input_ordering, P0DG)\u001b[39;00m\n",
      "File \u001b[0;32mpetsc4py/PETSc/Log.pyx:188\u001b[0m, in \u001b[0;36mpetsc4py.PETSc.Log.EventDecorator.decorator.wrapped_func\u001b[0;34m()\u001b[0m\n",
      "File \u001b[0;32mpetsc4py/PETSc/Log.pyx:189\u001b[0m, in \u001b[0;36mpetsc4py.PETSc.Log.EventDecorator.decorator.wrapped_func\u001b[0;34m()\u001b[0m\n",
      "File \u001b[0;32m~/work/firedrake/src/firedrake/firedrake/mesh.py:3004\u001b[0m, in \u001b[0;36mVertexOnlyMesh\u001b[0;34m(mesh, vertexcoords, reorder, missing_points_behaviour, tolerance, redundant, name)\u001b[0m\n\u001b[1;32m   3002\u001b[0m error \u001b[38;5;241m=\u001b[39m VertexOnlyMeshMissingPointsError(n_missing_points)\n\u001b[1;32m   3003\u001b[0m \u001b[38;5;28;01mif\u001b[39;00m missing_points_behaviour \u001b[38;5;241m==\u001b[39m MissingPointsBehaviour\u001b[38;5;241m.\u001b[39mERROR:\n\u001b[0;32m-> 3004\u001b[0m     \u001b[38;5;28;01mraise\u001b[39;00m error\n\u001b[1;32m   3005\u001b[0m \u001b[38;5;28;01melif\u001b[39;00m missing_points_behaviour \u001b[38;5;241m==\u001b[39m MissingPointsBehaviour\u001b[38;5;241m.\u001b[39mWARN:\n\u001b[1;32m   3006\u001b[0m     \u001b[38;5;28;01mfrom\u001b[39;00m \u001b[38;5;21;01mwarnings\u001b[39;00m \u001b[38;5;28;01mimport\u001b[39;00m warn\n",
      "\u001b[0;31mVertexOnlyMeshMissingPointsError\u001b[0m: 8 vertices are outside the mesh and have been removed from the VertexOnlyMesh."
     ]
    }
   ],
   "source": [
    "def source_interpolator(parent_mesh, source_location, function_space):\n",
    "    \"\"\"Create an interpolator object.\n",
    "\n",
    "    Parameters\n",
    "    ----------\n",
    "    parent_mesh : firedrake.Mesh\n",
    "        The parent mesh where the source is going to be interpolated.\n",
    "    source_location : array_like\n",
    "        The location of the source.\n",
    "    function_space : firedrake.FunctionSpace\n",
    "        The function space where the source is going to be interpolated.\n",
    "\n",
    "    Returns\n",
    "    -------\n",
    "    firedrake.Interpolator\n",
    "        The interpolator object.\n",
    "    \"\"\"\n",
    "    source_mesh = VertexOnlyMesh(parent_mesh, [source_location], redundant=False)\n",
    "    P0DG = FunctionSpace(source_mesh, \"DG\", 0)\n",
    "    P0DG_input_ordering = FunctionSpace(source_mesh.input_ordering, \"DG\", 0)\n",
    "    point_data_input_ordering = Function(P0DG_input_ordering)\n",
    "    point_data_input_ordering.dat.data_wo[:] = 1.0\n",
    "    f_source = interpolate(point_data_input_ordering, P0DG)\n",
    "    return Interpolator(TestFunction(function_space), P0DG), f_source\n",
    "\n",
    "data_coords = np.array(\n",
    "        [\n",
    "            [0.0, 0.0],\n",
    "            [0.0, 0.5],\n",
    "            [0.0, 1.0],\n",
    "            [0.5, 0.0],\n",
    "            [0.5, 0.5],\n",
    "            [0.5, 1.0],\n",
    "            [1.0, 0.0],\n",
    "            [1.0, 0.5],\n",
    "        ]\n",
    "    )\n",
    "def test_vertex_only_mesh_manual_example():\n",
    "    parent_mesh = UnitSquareMesh(10, 10)\n",
    "\n",
    "    V = FunctionSpace(parent_mesh, \"CG\", 2)\n",
    "\n",
    "    # Create a function f on the parent mesh to point evaluate\n",
    "    x, y = SpatialCoordinate(parent_mesh)\n",
    "    f = Function(V).interpolate(x**2 + y**2)\n",
    "\n",
    "    # 3 points (i.e. vertices) at which to point evaluate f\n",
    "    points = [[0.1, 0.1], [0.2, 0.2], [0.3, 0.3]]\n",
    "\n",
    "    vom = VertexOnlyMesh(parent_mesh, points)\n",
    "\n",
    "    # P0DG is the only function space you can make on a vertex-only mesh\n",
    "    P0DG = FunctionSpace(vom, \"DG\", 0)\n",
    "\n",
    "    # Interpolation performs point evaluation\n",
    "    f_at_points = assemble(interpolate(f, P0DG))\n",
    "\n",
    "test_vertex_only_mesh_manual_example()"
   ]
  },
  {
   "cell_type": "code",
   "execution_count": 90,
   "metadata": {},
   "outputs": [],
   "source": [
    "def ricker_wavelet(time_interval, frequency):\n",
    "    import numpy as np\n",
    "    def ricker(time_interval, f):\n",
    "        return (1.0 - 2.0 * np.pi ** 2 * f ** 2 * (time_interval - 1.0 / (2.0 * f)) ** 2) * np.exp(-np.pi ** 2 * f ** 2 * (time_interval - 1.0 / (2.0 * f)) ** 2)\n",
    "    return ricker"
   ]
  },
  {
   "cell_type": "markdown",
   "metadata": {},
   "source": [
    "## Executing an wave equation solver\n",
    "In this example, we consider a two dimensional domain where we want to estimate the parameter $c$ in a physical domain with the lenght of $1$ km ($L_x = 1km$) and the depth of $1$ km ($L_z = 1km$).\n",
    "\n",
    "Below we create a dictionary containing the parameters necessary to solve the wave equation."
   ]
  },
  {
   "cell_type": "code",
   "execution_count": 91,
   "metadata": {},
   "outputs": [],
   "source": [
    "import numpy as np\n",
    "Lx, Lz = 1, 1\n",
    "num_receivers = 10\n",
    "num_sources = 1\n",
    "model = {\n",
    "    \"source_locations\": np.linspace((0.1, 0.4), (0.1, 0.6), num_sources),\n",
    "    \"receiver_locations\": np.linspace((0.3, 0.1), (0.9, 0.1), num_receivers),\n",
    "    \"mesh\": UnitSquareMesh(50, 50),\n",
    "    \"dt\": 0.001,\n",
    "    \"final_time\": 1.0,\n",
    "    \"frequency_peak\": 7.0,\n",
    "    \"element_model\": {\"method\": \"CG\", \"degree\": 1, \"quadrature\": \"CG\"},\n",
    "}"
   ]
  },
  {
   "cell_type": "code",
   "execution_count": 92,
   "metadata": {},
   "outputs": [
    {
     "data": {
      "image/png": "[encoded data removed]",
      "text/plain": [
       "<Figure size 640x480 with 2 Axes>"
      ]
     },
     "metadata": {},
     "output_type": "display_data"
    }
   ],
   "source": [
    "from firedrake.pyplot import tricontourf, tripcolor\n",
    "import matplotlib.pyplot as plt\n",
    "def velocity_model(c_computed=False, plot_c=False):\n",
    "    \"\"\"Acoustic velocity model\"\"\"\n",
    "    V = FunctionSpace(model[\"mesh\"], model[\"element_model\"][\"method\"], model[\"element_model\"][\"degree\"])\n",
    "    x, z = SpatialCoordinate(model[\"mesh\"])\n",
    "    if c_computed:\n",
    "        c = Function(V).interpolate(1.5 + 0.0 * x)\n",
    "    else:\n",
    "        c = Function(V).interpolate(2.5 + 1 * tanh(200 * (0.125 - sqrt((x - 0.5) ** 2 + (z - 0.5) ** 2))))\n",
    "    if plot_c:\n",
    "        fig, axes = plt.subplots()\n",
    "        levels = np.linspace(min(c.dat.data_ro), max(c.dat.data_ro), 2)\n",
    "        contours = tripcolor(c, axes=axes, cmap=\"seismic\")\n",
    "        axes.set_aspect(\"equal\")\n",
    "        fig.colorbar(contours)\n",
    "    return c\n",
    "\n",
    "c = velocity_model(plot_c=True)"
   ]
  },
  {
   "cell_type": "markdown",
   "metadata": {},
   "source": [
    "We then simulate the wave equation using the parameters defined in the dictionary as follows:"
   ]
  },
  {
   "cell_type": "code",
   "execution_count": 95,
   "metadata": {},
   "outputs": [
    {
     "name": "stderr",
     "output_type": "stream",
     "text": [
      "ERROR: Index_Intersects_id failed in libspatialindex!ERROR: Index_Intersects_id failed in libspatialindex!"
     ]
    },
    {
     "ename": "ValueError",
     "evalue": "too many values to unpack (expected 2)",
     "output_type": "error",
     "traceback": [
      "\u001b[0;31m---------------------------------------------------------------------------\u001b[0m",
      "\u001b[0;31mValueError\u001b[0m                                Traceback (most recent call last)",
      "Cell \u001b[0;32mIn[95], line 6\u001b[0m\n\u001b[1;32m      4\u001b[0m time_interval \u001b[38;5;241m=\u001b[39m np\u001b[38;5;241m.\u001b[39marange(\u001b[38;5;241m0\u001b[39m, model[\u001b[38;5;124m\"\u001b[39m\u001b[38;5;124mfinal_time\u001b[39m\u001b[38;5;124m\"\u001b[39m], model[\u001b[38;5;124m\"\u001b[39m\u001b[38;5;124mdt\u001b[39m\u001b[38;5;124m\"\u001b[39m])\n\u001b[1;32m      5\u001b[0m wavelet \u001b[38;5;241m=\u001b[39m ricker_wavelet(time_interval, model[\u001b[38;5;124m\"\u001b[39m\u001b[38;5;124mfrequency_peak\u001b[39m\u001b[38;5;124m\"\u001b[39m])\n\u001b[0;32m----> 6\u001b[0m s_interpolator, f_source \u001b[38;5;241m=\u001b[39m \u001b[43msource_interpolator\u001b[49m\u001b[43m(\u001b[49m\u001b[43mmodel\u001b[49m\u001b[43m[\u001b[49m\u001b[38;5;124;43m\"\u001b[39;49m\u001b[38;5;124;43mmesh\u001b[39;49m\u001b[38;5;124;43m\"\u001b[39;49m\u001b[43m]\u001b[49m\u001b[43m,\u001b[49m\u001b[43m \u001b[49m\u001b[43mmodel\u001b[49m\u001b[43m[\u001b[49m\u001b[38;5;124;43m\"\u001b[39;49m\u001b[38;5;124;43msource_locations\u001b[39;49m\u001b[38;5;124;43m\"\u001b[39;49m\u001b[43m]\u001b[49m\u001b[43m,\u001b[49m\u001b[43m \u001b[49m\u001b[43mV\u001b[49m\u001b[43m)\u001b[49m\n\u001b[1;32m      7\u001b[0m interpolator_wavelet \u001b[38;5;241m=\u001b[39m Interpolator(f_source, V)\n\u001b[1;32m      8\u001b[0m \u001b[38;5;28;01mfor\u001b[39;00m t \u001b[38;5;129;01min\u001b[39;00m time_interval:\n",
      "Cell \u001b[0;32mIn[89], line 18\u001b[0m, in \u001b[0;36msource_interpolator\u001b[0;34m(parent_mesh, source_location, function_space)\u001b[0m\n\u001b[1;32m      1\u001b[0m \u001b[38;5;28;01mdef\u001b[39;00m \u001b[38;5;21msource_interpolator\u001b[39m(parent_mesh, source_location, function_space):\n\u001b[1;32m      2\u001b[0m \u001b[38;5;250m    \u001b[39m\u001b[38;5;124;03m\"\"\"Create an interpolator object.\u001b[39;00m\n\u001b[1;32m      3\u001b[0m \n\u001b[1;32m      4\u001b[0m \u001b[38;5;124;03m    Parameters\u001b[39;00m\n\u001b[0;32m   (...)\u001b[0m\n\u001b[1;32m     16\u001b[0m \u001b[38;5;124;03m        The interpolator object.\u001b[39;00m\n\u001b[1;32m     17\u001b[0m \u001b[38;5;124;03m    \"\"\"\u001b[39;00m\n\u001b[0;32m---> 18\u001b[0m     source_mesh \u001b[38;5;241m=\u001b[39m \u001b[43mVertexOnlyMesh\u001b[49m\u001b[43m(\u001b[49m\u001b[43mparent_mesh\u001b[49m\u001b[43m,\u001b[49m\u001b[43m \u001b[49m\u001b[43m[\u001b[49m\u001b[43msource_location\u001b[49m\u001b[43m]\u001b[49m\u001b[43m,\u001b[49m\u001b[43m \u001b[49m\u001b[43mredundant\u001b[49m\u001b[38;5;241;43m=\u001b[39;49m\u001b[38;5;28;43;01mFalse\u001b[39;49;00m\u001b[43m)\u001b[49m\n\u001b[1;32m     19\u001b[0m     P0DG \u001b[38;5;241m=\u001b[39m FunctionSpace(source_mesh, \u001b[38;5;124m\"\u001b[39m\u001b[38;5;124mDG\u001b[39m\u001b[38;5;124m\"\u001b[39m, \u001b[38;5;241m0\u001b[39m)\n\u001b[1;32m     20\u001b[0m     P0DG_input_ordering \u001b[38;5;241m=\u001b[39m FunctionSpace(source_mesh\u001b[38;5;241m.\u001b[39minput_ordering, \u001b[38;5;124m\"\u001b[39m\u001b[38;5;124mDG\u001b[39m\u001b[38;5;124m\"\u001b[39m, \u001b[38;5;241m0\u001b[39m)\n",
      "File \u001b[0;32mpetsc4py/PETSc/Log.pyx:188\u001b[0m, in \u001b[0;36mpetsc4py.PETSc.Log.EventDecorator.decorator.wrapped_func\u001b[0;34m()\u001b[0m\n",
      "File \u001b[0;32mpetsc4py/PETSc/Log.pyx:189\u001b[0m, in \u001b[0;36mpetsc4py.PETSc.Log.EventDecorator.decorator.wrapped_func\u001b[0;34m()\u001b[0m\n",
      "File \u001b[0;32m~/work/firedrake/src/firedrake/firedrake/mesh.py:2977\u001b[0m, in \u001b[0;36mVertexOnlyMesh\u001b[0;34m(mesh, vertexcoords, reorder, missing_points_behaviour, tolerance, redundant, name)\u001b[0m\n\u001b[1;32m   2975\u001b[0m     reorder \u001b[38;5;241m=\u001b[39m parameters[\u001b[38;5;124m\"\u001b[39m\u001b[38;5;124mreorder_meshes\u001b[39m\u001b[38;5;124m\"\u001b[39m]\n\u001b[1;32m   2976\u001b[0m gdim \u001b[38;5;241m=\u001b[39m mesh\u001b[38;5;241m.\u001b[39mgeometric_dimension()\n\u001b[0;32m-> 2977\u001b[0m _, pdim \u001b[38;5;241m=\u001b[39m vertexcoords\u001b[38;5;241m.\u001b[39mshape\n\u001b[1;32m   2978\u001b[0m \u001b[38;5;28;01mif\u001b[39;00m \u001b[38;5;129;01mnot\u001b[39;00m np\u001b[38;5;241m.\u001b[39misclose(np\u001b[38;5;241m.\u001b[39msum(\u001b[38;5;28mabs\u001b[39m(vertexcoords\u001b[38;5;241m.\u001b[39mimag)), \u001b[38;5;241m0\u001b[39m):\n\u001b[1;32m   2979\u001b[0m     \u001b[38;5;28;01mraise\u001b[39;00m \u001b[38;5;167;01mValueError\u001b[39;00m(\u001b[38;5;124m\"\u001b[39m\u001b[38;5;124mPoint coordinates must have zero imaginary part\u001b[39m\u001b[38;5;124m\"\u001b[39m)\n",
      "\u001b[0;31mValueError\u001b[0m: too many values to unpack (expected 2)"
     ]
    }
   ],
   "source": [
    "V = FunctionSpace(model[\"mesh\"], model[\"element_model\"][\"method\"], model[\"element_model\"][\"degree\"])\n",
    "source_function = Function(V)\n",
    "solver, u_np1, u_n, u_nm1 = wave_equation_solver(c, source_function, model[\"dt\"], V)\n",
    "time_interval = np.arange(0, model[\"final_time\"], model[\"dt\"])\n",
    "wavelet = ricker_wavelet(time_interval, model[\"frequency_peak\"])\n",
    "s_interpolator, f_source = source_interpolator(model[\"mesh\"], model[\"source_locations\"], V)\n",
    "interpolator_wavelet = Interpolator(f_source, V)\n",
    "for t in time_interval:\n",
    "    f_source.dat.data_ro[:] = wavelet(t)\n",
    "    s_interpolator.interpolate(f_source, transpose=True)\n",
    "    interpolator_wavelet.interpolate(f_source)\n",
    "    # Call the solver object.\n",
    "    solver.solve()\n",
    "    # Exchange the solution at the two time-stepping levels.\n",
    "    u_nm1.assign(u_n)\n",
    "    u_n.assign(u_np1)"
   ]
  }
 ],
 "metadata": {
  "kernelspec": {
   "display_name": "Python 3 (ipykernel)",
   "language": "python",
   "name": "python3"
  },
  "language_info": {
   "codemirror_mode": {
    "name": "ipython",
    "version": 3
   },
   "file_extension": ".py",
   "mimetype": "text/x-python",
   "name": "python",
   "nbconvert_exporter": "python",
   "pygments_lexer": "ipython3",
   "version": "3.11.7"
  }
 },
 "nbformat": 4,
 "nbformat_minor": 2
}
