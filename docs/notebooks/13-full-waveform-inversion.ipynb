{
 "cells": [
  {
   "cell_type": "markdown",
   "metadata": {},
   "source": [
    "# Full-waveform inversion (FWI) solver using automated differentiation\n",
    "\n",
    "Full-waveform inversion (FWI) is a technique in general employed to estimate the physical parameters in a subsurface region. It is a wave-equation-based seeking an optimal match between observed and computed data. The former is recorded by receivers in a real case. The latter consists of a computed data, which is obtained by solving numerically a wave equation with an forcing term representing a source of wave emission. \n",
    "\n",
    "## Functional to be minimised\n",
    "A tradicional form to measure the difference between the observed and computed data is given by the functional (Tarantola, 1984): \n",
    "$$\n",
    "    I(u, u^{obs}) = \\sum_{r=0}^{N-1} \\int_\\Omega \\left(u(c,\\mathbf{x},t)- u^{obs}(c, \\mathbf{x},t)\\right)^2 \\delta(x - x_r) \\, dx\n",
    "$$\n",
    "where $u = u(c, \\mathbf{x},t)$ and $u_{obs} = u_{obs}(c,\\mathbf{x},t)$, are respectively the computed and observed data, both recorded at a finite number of receivers ($N_r$), located at the point positions $\\check{\\mathbf{x}} \\in \\Omega_{0}$, in a time interval $\\tau\\equiv[t_0, t_f]\\subset \\mathbb{R}$, where $t_0$ is the initial time and $t_f$ is the final time. The spatial domain of interest is set as $\\Omega_{0}$.\n",
    "\n",
    "An FWI problem consists in finding an optimal parameter $c$ that minimizes the functional $I(u, u^{obs})$.\n",
    "\n",
    "### Functional implementation\n",
    "In Firedrake, the functional $I(u, u^{obs})$  is implemented as follows:"
   ]
  },
  {
   "cell_type": "code",
   "execution_count": null,
   "metadata": {},
   "outputs": [],
   "source": [
    "from firedrake import *\n",
    "def functional(self, u_obs, u_computed):\n",
    "    \"\"\"Computes the functional J(u) = 0.5 * ||u - u_obs||^2.\n",
    "\n",
    "    Parameters\n",
    "    ----------\n",
    "    u_obs : firedrake.Function\n",
    "        The observed data at the receivers.\n",
    "    u_computed : firedrake.Function\n",
    "        The computed data at the receivers.\n",
    "\n",
    "    Returns\n",
    "    -------\n",
    "    float\n",
    "        The value of the functional.\n",
    "    \"\"\"\n",
    "    return 0.5 * assemble(inner(u_computed - u_obs, u_computed - u_obs) * dx)\n",
    "    "
   ]
  },
  {
   "cell_type": "markdown",
   "metadata": {},
   "source": [
    "## Wave equation\n",
    "To have the computed data, we need first solve a wave equation. In this example, we consider the scalar acoustic wave equation using a damping term to attenate the reflections originated by the boundaries of the domain.\n",
    "$$\n",
    "    \\frac{\\partial^2 u}{\\partial t^2}(\\mathbf{x},t)- c^2\\frac{\\partial^2 u}{\\partial \\mathbf{x}^2} = f(\\mathbf{x}_s,t) \\tag{2}\n",
    "$$\n",
    "where $c(\\mathbf{x}):\\Omega_{0}\\rightarrow \\mathbb{R}$ is the pressure wave ($P$-wave) velocity, which is assumed here a piecewise-constant and positive function. The source term $f(\\mathbf{x}_s,t)$ is a function that represents the wave emission. Here, the source of waves is a Ricker wavelet, which is a function of time. \n",
    "\n",
    "The wave equation (2) satisfies the boundary conditions:\n",
    "$$\n",
    "    u(\\mathbf{x},t) = 0, \\quad \\mathbf{x} \\in \\partial\\Omega_{0}, \\quad t\\in\\tau\n",
    "$$\n",
    "The acoustic wave equation should satisfy the initial conditions $u(\\mathbf{x}, 0)  = 0 = u_t(\\mathbf{x}, 0) = 0$. The domain $\\Omega_{0}$ is illustrated at Figure. The boundaries $\\partial\\Omega_{i}$ with $i = 1,2,3$ are here referred to as truncated boundaries, and satisfy a null-Dirichlet boundary condition $u(\\mathbf{x},t) = 0$. The boundary $\\Omega_{4}$ satisfies the null-Neumann $\\nabla u(\\mathbf{x},t) \\cdot \\mathbf{n} = 0$ (free surface) boundary condition, where $\\mathbf{n}$ represents the outward normal (with respect to $\\partial \\Omega_4$) unit vector.\n",
    "\n",
    "To solve the wave equation, we consider the following weak form over the domain $\\Omega_{0}$:\n",
    "$$\n",
    "    \\int_{\\Omega_{0}} \\left(\\frac{\\partial^2 u}{\\partial t^2}v + c^2\\nabla u \\cdot \\nabla v\\right) \\, dx = \\int_{\\Omega_{0}} f v \\, dx,\n",
    "$$\n",
    "for an arbitrary test function $v\\in V$, where $V$ is a function space. The implementation of the weak form is given by the following Firedrake code:"
   ]
  },
  {
   "cell_type": "code",
   "execution_count": null,
   "metadata": {},
   "outputs": [],
   "source": [
    "import finat\n",
    "def wave_equation_solver(c, source_function, dt, mesh):\n",
    "    V = FunctionSpace(mesh, \"KMV\", 3)\n",
    "    u = TrialFunction(V)\n",
    "    v = TestFunction(V)\n",
    "\n",
    "    u_np1 = Function(V) # timestep n+1\n",
    "    u_n = Function(V) # timestep n\n",
    "    u_nm1 = Function(V) # timestep n-1\n",
    "\n",
    "    # quadrature rule for lumped mass matrix\n",
    "    quad_rule = finat.quadrature.make_quadrature(V.finat_element.cell, V.ufl_element().degree(), \"KMV\")\n",
    "    # time discretisation/mass matrix\n",
    "    m =  (u - 2.0 * u_n + u_nm1) / Constant(dt * dt) * v * dx(scheme=quad_rule)\n",
    "    # stiffness matrix\n",
    "    a = c * c * dot(grad(u_n), grad(v)) * dx\n",
    "    # wave source\n",
    "    f = source_function * v * dx(scheme=quad_rule)\n",
    "    F = m + a - f\n",
    "    lhs_ = lhs(F)\n",
    "    rhs_ = rhs(F)\n",
    "\n",
    "    lin_var = LinearVariationalProblem(lhs_, rhs_, u_np1)\n",
    "    solver = LinearVariationalSolver(lin_var, solver_parameters={\"ksp_type\": \"preonly\", \"pc_type\": \"jacobi\"})\n",
    "    return solver, u_np1, u_n, u_nm1"
   ]
  },
  {
   "cell_type": "markdown",
   "metadata": {},
   "source": []
  },
  {
   "cell_type": "code",
   "execution_count": null,
   "metadata": {},
   "outputs": [],
   "source": [
    "def source_interpolator(mesh, wavelet, source_location, function_space):\n",
    "    vom = VertexOnlyMesh(mesh, source_location, redundant=False)\n",
    "    f_vom = FunctionSpace(vom, \"DG\", 0)\n",
    "    f_vom_input_ordering = FunctionSpace(vom.input_ordering, \"DG\", 0)\n",
    "    f_point_data_input_ordering = Function(f_vom_input_ordering)\n",
    "    f_point_data_input_ordering.dat.data_wo[:] = wavelet\n",
    "    f_vom_wavelet = interpolate(f_point_data_input_ordering, f_vom)\n",
    "    return Interpolator(TestFunction(function_space, f_vom))"
   ]
  },
  {
   "cell_type": "code",
   "execution_count": null,
   "metadata": {},
   "outputs": [],
   "source": []
  },
  {
   "cell_type": "markdown",
   "metadata": {},
   "source": [
    "## Executing an wave equation solver\n",
    "In this example, we consider a two dimensional domain where we want to estimate the parameter $c$ in a physical domain with the lenght of $1$ km ($L_x = 1km$) and the depth of $1$ km ($L_z = 1km$).\n",
    "\n",
    "Below we create a dictionary containing the parameters necessary to solve the wave equation."
   ]
  },
  {
   "cell_type": "code",
   "execution_count": null,
   "metadata": {},
   "outputs": [],
   "source": [
    "import numpy as np\n",
    "Lx, Lz = 1.0, 1.0\n",
    "num_receivers = 10\n",
    "model = {\n",
    "    \"source_location\": [0.5, 0.5],\n",
    "    \"receiver_locations\": np.linspace((0.3, 0.1), (0.9, 0.1), num_receivers),\n",
    "    \"mesh\": SquareMesh(Lx, Lz, 50, 50),\n",
    "    \"dt\": 0.001,\n",
    "    \"final_time\": 1.0,\n",
    "    \"frequency_peak\": 7.0,\n",
    "    \"element_model\": {\"method\": \"KMV\", \"degree\": 3, \"quadrature\": \"KMV\"},\n",
    "}"
   ]
  },
  {
   "cell_type": "code",
   "execution_count": null,
   "metadata": {},
   "outputs": [],
   "source": [
    "from firedrake.pyplot import tricontourf\n",
    "import matplotlib.pyplot as plt\n",
    "def velocity_model(c_computed=False, plot_c=False):\n",
    "    \"\"\"Acoustic velocity model\"\"\"\n",
    "    V = FunctionSpace(model[\"mesh\"], model[\"element_model\"][\"method\"], model[\"element_model\"][\"degree\"])\n",
    "    x, z = SpatialCoordinate(model[\"mesh\"])\n",
    "    if c_computed:\n",
    "        c = Function(V).interpolate(1.5 + 0.0 * x)\n",
    "    else:\n",
    "        c = Function(V).interpolate(2.5 + 1 * tanh(100 * (0.125 - sqrt((x - 0.5) ** 2 + (z - 0.5) ** 2))))\n",
    "    if plot_c:\n",
    "        fig, axes = plt.subplots()\n",
    "        levels = np.linspace(0, 1, 51)\n",
    "        contours = tricontourf(c, levels=levels, axes=axes, cmap=\"inferno\")\n",
    "        axes.set_aspect(\"equal\")\n",
    "        fig.colorbar(contours)\n",
    "        fig.show()\n",
    "    return c\n",
    "\n",
    "c = velocity_model(plot_c=True)"
   ]
  },
  {
   "cell_type": "markdown",
   "metadata": {},
   "source": [
    "We then simulate the wave equation using the parameters defined in the dictionary as follows:"
   ]
  },
  {
   "cell_type": "code",
   "execution_count": null,
   "metadata": {},
   "outputs": [],
   "source": [
    "solver, u_np1, u_n, u_nm1 = wave_equation_solver(c, model[\"source_location\"], model[\"dt\"], model[\"mesh\"])\n",
    "t = 0\n",
    "while t < model[\"final_time\"]:\n",
    "    f = source(ricker, t)\n",
    "    # Call the solver object.\n",
    "    solver.solve()\n",
    "\n",
    "    # Exchange the solution at the two time-stepping levels.\n",
    "    u_nm1.assign(u_n)\n",
    "    u_n.assign(u_np1)"
   ]
  },
  {
   "cell_type": "code",
   "execution_count": null,
   "metadata": {},
   "outputs": [],
   "source": [
    "rec_data = []\n",
    "solver, u_np1, u_n, u_nm1 = wave_eq_solver(c, source)\n",
    "P, rec_interpolator = p0dg_interpolation(u_np1)\n",
    "t = 0\n",
    "while t < T:\n",
    "    f = source(ricker, t)\n",
    "    # Call the solver object.\n",
    "    solver.solve()\n",
    "\n",
    "    # Exchange the solution at the two time-stepping levels.\n",
    "    u_nm1.assign(u_n)\n",
    "    u_n.assign(u_np1)\n",
    "\n",
    "    rec = fd.Function(P, name=\"rec\")\n",
    "    rec_interpolator.interpolate(output=rec)\n",
    "    rec_data.append(rec)\n"
   ]
  }
 ],
 "metadata": {
  "kernelspec": {
   "display_name": "Python 3 (ipykernel)",
   "language": "python",
   "name": "python3"
  },
  "language_info": {
   "codemirror_mode": {
    "name": "ipython",
    "version": 3
   },
   "file_extension": ".py",
   "mimetype": "text/x-python",
   "name": "python",
   "nbconvert_exporter": "python",
   "pygments_lexer": "ipython3",
   "version": "3.11.2"
  }
 },
 "nbformat": 4,
 "nbformat_minor": 2
}
