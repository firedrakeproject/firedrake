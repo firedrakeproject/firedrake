{
 "cells": [
  {
   "cell_type": "markdown",
   "metadata": {},
   "source": [
    "# Full-waveform inversion with automated gradient and checkpointing\n",
    "\n",
    "Full-waveform inversion (FWI) is a technique in general employed to estimate the physical parameters in a subsurface region. It is a wave-equation-based seeking an optimal match between observed and computed data. The former is recorded by a set of receivers in a real case. The latter consists of a computed data, which is obtained by solving numerically a wave equation with an forcing term representing a source of wave emission. \n",
    "\n",
    "## Cost function\n",
    "In essence, FWI consists of a local optimisation, where the goal is to minimise the misfit between observed and predicted seismogram data. Following Tarantola (1984) [1], the misfit function can be measured by the $L^2$ norm, which can written as follows, in a continuous space: \n",
    "$$\n",
    "    I(u, u^{obs}) = \\sum_{r=0}^{N-1} \\int_\\Omega \\left(u(c,\\mathbf{x},t)- u^{obs}(c, \\mathbf{x},t)\\right)^2 \\delta(x - x_r) \\, dx\n",
    "$$\n",
    "where $u = u(c, \\mathbf{x},t)$ and $u_{obs} = u_{obs}(c,\\mathbf{x},t)$, are respectively the computed and observed data, both recorded at a finite number of receivers ($N_r$), located at the point positions $\\check{\\mathbf{x}} \\in \\Omega_{0}$, in a time interval $\\tau\\equiv[t_0, t_f]\\subset \\mathbb{R}$, where $t_0$ is the initial time and $t_f$ is the final time. The spatial domain of interest is set as $\\Omega_{0}$."
   ]
  },
  {
   "cell_type": "markdown",
   "metadata": {},
   "source": [
    "The predicted data is modeled here by an acoustic wave equation,\n",
    "$$\n",
    "    \\frac{\\partial^2 u}{\\partial t^2}- c^2\\frac{\\partial^2 u}{\\partial \\mathbf{x}^2} = f(\\mathbf{x}_s,t) \\tag{2}\n",
    "$$\n",
    "where $c(\\mathbf{x}):\\Omega_{0}\\rightarrow \\mathbb{R}$ is the pressure wave velocity, which is assumed here a piecewise-constant and positive. The external force term $f(\\mathbf{x},t):\\Omega_{0}\\rightarrow \\mathbb{R}$, models the source of waves and is usually described by a [Ricker Wavelet](https://wiki.seg.org/wiki/Dictionary:Ricker_wavelet). \n",
    "The acoustic wave equation should satisfy the initial conditions $u(\\mathbf{x}, 0)  = 0 = u_t(\\mathbf{x}, 0) = 0$.\n",
    "\n",
    "To solve the wave equation, we consider the following weak form over the domain $\\Omega$:\n",
    "$$\n",
    "    \\int_{\\Omega} \\left(\\frac{\\partial^2 u}{\\partial t^2}v + c^2\\nabla u \\cdot \\nabla v\\right) \\, dx = \\int_{\\Omega} f v \\, dx,\n",
    "$$\n",
    "for an arbitrary test function $v\\in V$, where $V$ is a function space. The implementation of the weak form is given by the following code on top of the Firedrake."
   ]
  },
  {
   "cell_type": "code",
   "execution_count": 1,
   "metadata": {},
   "outputs": [],
   "source": [
    "import finat\n",
    "import warnings\n",
    "warnings.filterwarnings(\"ignore\")\n",
    "import os\n",
    "os.environ[\"OMP_NUM_THREADS\"] = \"1\"\n",
    "os.environ[\"PETSC_DIR\"] = \"/opt/petsc/firedrake\"\n",
    "os.environ[\"PETSC_ARCH\"] = \"full-opt\"\n",
    "os.environ[\"HDF5_DIR\"] = \"/opt/petsc/firedrake/packages\"\n",
    "from firedrake import *\n",
    "\n",
    "def wave_equation_solver(c, source_function, dt, V):\n",
    "    \"\"\"Solve the acoustic wave equation in 2D.\n",
    "\n",
    "    Parameters\n",
    "    ----------\n",
    "    c : firedrake.Function\n",
    "        The pressure wave velocity\n",
    "    source_function : firedrake.Function\n",
    "        A function modelling the source wave.\n",
    "    dt : float\n",
    "        The time step.\n",
    "    V : firedrake.FunctionSpace\n",
    "        The function space where the solution lives.\n",
    "\n",
    "    Returns\n",
    "    -------\n",
    "    firedrake.LinearVariationalSolver, firedrake.Function, firedrake.Function, firedrake.Function\n",
    "        Return the linear variational solver and the functions for the solution at time `n+1`, `n` and `n-1`.\n",
    "        These outputs are going to be used in a time loop.\n",
    "    \n",
    "    Notes\n",
    "    -----\n",
    "    Additional details about this wave equation solver, including the discretisation and the\n",
    "    linear variational problem, please refer this \n",
    "    `documentation link <https://www.firedrakeproject.org/demos/higher_order_mass_lumping.py.html>`_.\n",
    "    \"\"\"\n",
    "    u = TrialFunction(V)\n",
    "    v = TestFunction(V)\n",
    "\n",
    "    u_np1 = Function(V) # timestep n+1\n",
    "    u_n = Function(V) # timestep n\n",
    "    u_nm1 = Function(V) # timestep n-1\n",
    "\n",
    "    # quadrature rule for lumped mass matrix\n",
    "    quad_rule = finat.quadrature.make_quadrature(V.finat_element.cell, V.ufl_element().degree(), \"KMV\")\n",
    "    dudt2 =  (1 / (c * c)) * (u - 2.0 * u_n + u_nm1) / Constant(dt**2) * v * dx(scheme=quad_rule)\n",
    "    nf =  (1 / c) * ((u_n - u_nm1) / dt) * v * ds\n",
    "    a = dot(grad(u_n), grad(v)) * dx(scheme=quad_rule)\n",
    "    F = dudt2 + a + nf - source_function * v * dx(scheme=quad_rule)\n",
    "    lhs_ = lhs(F)\n",
    "    rhs_ = rhs(F)\n",
    "    lin_var = LinearVariationalProblem(lhs_, rhs_, u_np1)\n",
    "    solver = LinearVariationalSolver(lin_var, solver_parameters={\"ksp_type\": \"preonly\", \"pc_type\": \"jacobi\"})\n",
    "    return solver, u_np1, u_n, u_nm1"
   ]
  },
  {
   "cell_type": "markdown",
   "metadata": {},
   "source": [
    "The wave equation forcing $f = f(\\mathbf{x}_s, t)$ represents a time-dependent wave source locate at the position $\\mathbf{x}_s$, and it is given by:\n",
    "$$\n",
    "    f(\\mathbf{x}_s,t) = r(t) \\delta(\\mathbf{x} - \\mathbf{x}_s)\n",
    "$$\n",
    "where $r(t)$ is the [Ricker wavelet](https://wiki.seg.org/wiki/Dictionary:Ricker_wavelet), and $\\delta(\\mathbf{x} - \\mathbf{x}_s)$ is the Dirac delta function. This forcing term is implemented in Firedrake as follows:"
   ]
  },
  {
   "cell_type": "code",
   "execution_count": 2,
   "metadata": {},
   "outputs": [],
   "source": [
    "import numpy as np\n",
    "from firedrake.__future__ import Interpolator\n",
    "\n",
    "def forcing(parent_mesh, delta_loc, V):\n",
    "    \"\"\"Build a forcing term for the wave equation.\n",
    "\n",
    "    Parameters\n",
    "    ----------\n",
    "    parent_mesh : firedrake.Mesh\n",
    "        The mesh where the forcing term is defined.\n",
    "    delta_loc : tuple\n",
    "        The location of the forcing term.\n",
    "    V : firedrake.FunctionSpace\n",
    "        The function space where the forcing term lives.\n",
    "\n",
    "    Returns\n",
    "    -------\n",
    "    firedrake.Interpolator, firedrake.Function\n",
    "        Return the interpolator and the source wave function.\n",
    "\n",
    "    Notes\n",
    "    -----\n",
    "    Additional details :func:`~.VertexOnlyMesh` as feature for pointing evaluation are found in the Firedrake documentation.\n",
    "    \"\"\"\n",
    "    vom_mesh = VertexOnlyMesh(parent_mesh, delta_loc)\n",
    "    vom_space = FunctionSpace(vom_mesh, \"DG\", 0)\n",
    "    forcing_point = assemble(Constant(1.0)*TestFunction(vom_space)*dx)\n",
    "    interp = Interpolator(TestFunction(V), vom_space)\n",
    "    return interp, forcing_point"
   ]
  },
  {
   "cell_type": "markdown",
   "metadata": {},
   "source": [
    "The implementation of [Ricker wavelet](https://wiki.seg.org/wiki/Dictionary:Ricker_wavelet) is given by the following code:"
   ]
  },
  {
   "cell_type": "code",
   "execution_count": 3,
   "metadata": {},
   "outputs": [],
   "source": [
    "def ricker_wavelet(t, fs, amp=1.0):\n",
    "    \"\"\"Ricker wavelet.\n",
    "\n",
    "    Parameters\n",
    "    ----------\n",
    "    t : float\n",
    "        Time.\n",
    "    fs : float\n",
    "        Frequency peak of the wavelet.\n",
    "    amp : float, optional\n",
    "        Amplitude of the wavelet.\n",
    "\n",
    "    Returns\n",
    "    -------\n",
    "    float\n",
    "        The value of the wavelet at time `t`.\n",
    "    \"\"\"\n",
    "    ts = 1.5\n",
    "    t0 = t - ts * np.sqrt(6.0) / (np.pi * fs)\n",
    "    return (amp * (1.0 - (1.0 / 2.0) * (2.0 * np.pi * fs) * (2.0 * np.pi * fs) * t0 * t0)\n",
    "            * np.exp(\n",
    "                (-1.0 / 4.0) * (2.0 * np.pi * fs) * (2.0 * np.pi * fs) * t0 * t0\n",
    "            )\n",
    "        )"
   ]
  },
  {
   "cell_type": "markdown",
   "metadata": {},
   "source": [
    "In this example, we consider a two dimensional square domain with side length 1.0 km. The wave sources and receivers are located on top and bottom of the domain, respectively\n",
    "\n",
    "We create a `model` dictionary containing the parameters necessary to solve the wave equation. The `model` dictionary contains the basic setup to execute the acoust wave equation, and the FWI."
   ]
  },
  {
   "cell_type": "code",
   "execution_count": 4,
   "metadata": {},
   "outputs": [],
   "source": [
    "%matplotlib inline\n",
    "from firedrake.pyplot import tricontourf\n",
    "import matplotlib.pyplot as plt\n",
    "Lx, Lz = 1, 1\n",
    "num_receivers = 10\n",
    "num_sources = 3\n",
    "model = {\n",
    "    \"source_locations\": np.linspace((0.3, 0.15), (0.7, 0.15), num_sources),\n",
    "    \"receiver_locations\": np.linspace((0.2, 0.8), (0.8, 0.8), num_receivers),\n",
    "    \"mesh\": UnitSquareMesh(80, 80),\n",
    "    \"dt\": 0.001,  # time step\n",
    "    \"final_time\": 0.8,  # final time\n",
    "    \"syntetic_receiver_data\": None,  # The syntetic receiver data to be used in the inversion.\n",
    "    \"frequency_peak\": 7.0,  # The dominant frequency of the source.\n",
    "}\n",
    "\n",
    "def plot_function(function):\n",
    "    # NBVAL_IGNORE_OUTPUT\n",
    "    fig, axes = plt.subplots()\n",
    "    contours = tricontourf(function, 10, axes=axes)\n",
    "    fig.colorbar(contours, ax=axes, fraction=0.01, cmap=\"seismic\")\n",
    "    plt.gca().invert_yaxis()\n",
    "    axes.set_aspect(\"equal\")\n",
    "    "
   ]
  },
  {
   "cell_type": "markdown",
   "metadata": {},
   "source": [
    "A synthetic pressure wave velocity is used here to emulate a true pressure velocity model, $c_{true}$. For the sake of simplicity, we consider $c_{true}$ consisting of a circle in the center of the domain as shown in the next code cell."
   ]
  },
  {
   "cell_type": "code",
   "execution_count": 5,
   "metadata": {},
   "outputs": [
    {
     "data": {
      "image/png": "[encoded data removed]",
      "text/plain": [
       "<Figure size 640x480 with 2 Axes>"
      ]
     },
     "metadata": {},
     "output_type": "display_data"
    }
   ],
   "source": [
    "V = FunctionSpace(model[\"mesh\"], \"KMV\", 1)\n",
    "x, z = SpatialCoordinate(model[\"mesh\"])\n",
    "c_true = Function(V).interpolate(2.5 + 1 * tanh(200 * (0.125 - sqrt((x - 0.5) ** 2 + (z - 0.5) ** 2))))\n",
    "plot_function(c_true)"
   ]
  },
  {
   "cell_type": "markdown",
   "metadata": {},
   "source": [
    "We now get the synthetic data recorded on the receivers by executing the acoustic wave equation."
   ]
  },
  {
   "cell_type": "code",
   "execution_count": 6,
   "metadata": {},
   "outputs": [
    {
     "name": "stdout",
     "output_type": "stream",
     "text": [
      "Computing syntetic receiver data for source 1 of 3\n",
      "Computing syntetic receiver data for source 2 of 3\n",
      "Computing syntetic receiver data for source 3 of 3\n"
     ]
    }
   ],
   "source": [
    "receiver_mesh =  VertexOnlyMesh(model[\"mesh\"], model[\"receiver_locations\"])\n",
    "P0DG = FunctionSpace(receiver_mesh, \"DG\", 0)\n",
    "num_sources = model[\"source_locations\"].shape[0]\n",
    "source_function = Function(V)\n",
    "solver, u_np1, u_n, u_nm1 = wave_equation_solver(c_true, source_function, model[\"dt\"], V)\n",
    "interpolator_receivers = Interpolator(u_np1, P0DG)\n",
    "u_sol_sources = []\n",
    "\n",
    "for sn in range(num_sources):\n",
    "    print(f\"Computing syntetic receiver data for source {sn+1} of {num_sources}\")\n",
    "    interpolator_sources, forcing_point = forcing(model[\"mesh\"], [model[\"source_locations\"][sn]], V)\n",
    "    u_sol_receivers = []\n",
    "    for t in range(int(model[\"final_time\"] / model[\"dt\"]) + 1):\n",
    "        forcing_point.dat.data_wo[:] = ricker_wavelet(t * model[\"dt\"], model[\"frequency_peak\"])\n",
    "        # Improve this forcing function.\n",
    "        source_function.assign(1000 *\n",
    "            assemble(\n",
    "            interpolator_sources.interpolate(forcing_point, transpose=True)\n",
    "            ).riesz_representation(riesz_map='l2')\n",
    "        )\n",
    "        solver.solve()\n",
    "        u_nm1.assign(u_n)\n",
    "        u_n.assign(u_np1)\n",
    "\n",
    "        # Interpolate the solution at the receiver locations and store the result.\n",
    "        # This data will be used in the inversion to compute the functional.\n",
    "        u_sol_receivers.append(assemble(interpolator_receivers.interpolate()))\n",
    "    u_sol_sources.append(u_sol_receivers)\n"
   ]
  },
  {
   "cell_type": "markdown",
   "metadata": {},
   "source": [
    "We now seeks to run a FWI problem, which involves the following steps:\n",
    "1. Set the initial guess for the parameter $c$;\n",
    "2. Solve the wave equation with the initial guess for the parameter $c$;\n",
    "3. Compute the functional $I(u, u^{obs})$;\n",
    "4. Compute the gradient of the functional $I(u, u^{obs})$ with respect to the parameter $c$;\n",
    "5. Update the parameter $c$ using a gradient-based optimization method;\n",
    "6. Repeat steps 2-5 until the stopping criterion is satisfied.\n",
    "\n",
    "The gradient is computed automatically using the algorithmic differentiation (AD), pyadjoint. "
   ]
  },
  {
   "cell_type": "markdown",
   "metadata": {},
   "source": [
    "The initial guess for the parameter $c$ is set as a constant field with a value of 1.5 km/s."
   ]
  },
  {
   "cell_type": "code",
   "execution_count": 7,
   "metadata": {},
   "outputs": [
    {
     "data": {
      "image/png": "[encoded data removed]",
      "text/plain": [
       "<Figure size 640x480 with 2 Axes>"
      ]
     },
     "metadata": {},
     "output_type": "display_data"
    }
   ],
   "source": [
    "c_guess = Function(V).interpolate(1.5)\n",
    "plot_function(c_guess)"
   ]
  },
  {
   "cell_type": "markdown",
   "metadata": {},
   "source": [
    "The function `J` computes the functional $I(u, u^{obs})$ by solving the wave equation using the guess pressure wave velocity `c_guess`. \n",
    "\n",
    "Checkpointing can be employed when setting `checkpointing=True`."
   ]
  },
  {
   "cell_type": "code",
   "execution_count": 8,
   "metadata": {},
   "outputs": [],
   "source": [
    "from checkpoint_schedules import Revolve\n",
    "from firedrake.adjoint import *\n",
    "\n",
    "def J(c_guess, true_receiver, source_location, checkpointing=False):\n",
    "    \"\"\"Functional to be minimised.\n",
    "\n",
    "    Parameters\n",
    "    ----------\n",
    "    c_guess : firedrake.Function\n",
    "        The guess of the wave velocity.\n",
    "    true_receiver : list\n",
    "        The true receiver data.\n",
    "    source_location : list\n",
    "        The source location.\n",
    "    checkpointing : bool, optional\n",
    "        If True, enable checkpointing.\n",
    "\n",
    "    Returns\n",
    "    -------\n",
    "    float, numpy.ndarray\n",
    "        The value of the functional and the gradient of the functional with\n",
    "        respect to the wave velocity `c_guess`.\n",
    "    \"\"\"\n",
    "    continue_annotation()\n",
    "    tape = get_working_tape()\n",
    "    tape.progress_bar = ProgressBar\n",
    "    total_steps = int(model[\"final_time\"] / model[\"dt\"]) + 1\n",
    "\n",
    "    if checkpointing:\n",
    "        # Enable checkpointing with a revolve schedule.\n",
    "        tape.enable_checkpointing(Revolve(total_steps, checkpoint_in_memory))\n",
    "    V = FunctionSpace(model[\"mesh\"], \"KMV\", 1)\n",
    "    source_function = Function(V)\n",
    "    solver, u_np1, u_n, u_nm1 = wave_equation_solver(c_guess, source_function, model[\"dt\"], V)\n",
    "    interpolator_sources, forcing_point = forcing(model[\"mesh\"], source_location, V)\n",
    "    P0DG = FunctionSpace(receiver_mesh, \"DG\", 0)\n",
    "    interpolator_receivers = Interpolator(u_np1, P0DG)\n",
    "    J_val = 0.0\n",
    "    for t in tape.timestepper(iter(range(total_steps))):\n",
    "        forcing_point.dat.data_wo[:] = ricker_wavelet(model[\"dt\"] * t, model[\"frequency_peak\"])\n",
    "        source_function.assign( 1000 *\n",
    "            assemble(\n",
    "            interpolator_sources.interpolate(forcing_point, transpose=True)\n",
    "            ).riesz_representation(riesz_map='l2')\n",
    "        )\n",
    "        solver.solve()\n",
    "        u_nm1.assign(u_n)\n",
    "        u_n.assign(u_np1)\n",
    "        guess_receiver = assemble(interpolator_receivers.interpolate())\n",
    "        J_val += 0.5 * assemble(\n",
    "            inner(guess_receiver - true_receiver[t], guess_receiver - true_receiver[t]) * dx\n",
    "            )\n",
    "    return J_val"
   ]
  },
  {
   "cell_type": "markdown",
   "metadata": {},
   "source": [
    "Coming code cells show the execution of the FWI solver with automated adjoint and checkpointing. The input for `fwi` is the initial guess `c_guess`. `fwi` returns the function `J_total` and the adjoint-based gradient `dJ_total` for the optimisation process. The optimisation method employed here is the [L-BFGS-B](https://epubs.siam.org/doi/10.1137/0916069) method.\n",
    "\n",
    "So, let us execute an FWI with automated adjoint and checkpointing!"
   ]
  },
  {
   "cell_type": "code",
   "execution_count": 9,
   "metadata": {},
   "outputs": [],
   "source": [
    "# Let us use the checkpointing in FWI!\n",
    "checkpointing = True\n",
    "# Let us choose how many steps we want to keep in memory.\n",
    "checkpoint_in_memory = 10"
   ]
  },
  {
   "cell_type": "markdown",
   "metadata": {},
   "source": [
    "<div class=\"alert alert-block alert-info\">\n",
    "<b>Note:</b> Checkpointing approaches store only the state required to restart the forward calculation from a limited set of steps, which is `checkpoint_in_memory=10` in this example. As the adjoint calculation progresses, the forward computation is progressively rerun from the latest available stored state up to the current adjoint step. This enables less forward state to be stored, at the expense of a higher computational cost as forward steps are run more than once.\n",
    "</div>"
   ]
  },
  {
   "cell_type": "code",
   "execution_count": 10,
   "metadata": {},
   "outputs": [
    {
     "name": "stdout",
     "output_type": "stream",
     "text": [
      "Running source 1 of 3\n"
     ]
    },
    {
     "name": "stderr",
     "output_type": "stream",
     "text": [
      "Taping forward ▣▣▣▣▣▣▣▣▣▣▣▣▣▣▣▣▣▣▣▣▣▣▣▣▣▣▣▣▣▣▣▣▣▣▣▣▣▣▣▣▣▣▣▣▣▣▣▣▣▣ 801/100 [0:00:07]\n",
      "Evaluating Adjoint ▣▣▣▣▣▣▣▣▣▣▣▣▣▣▣▣▣▣▣▣▣▣▣▣▣▣▣▣▣▣▣▣▣▣▣▣▣▣▣▣▣▣▣▣▣▣▣▣▣▣ 801/801 [0:00:46]\n",
      "\u001b[?25h"
     ]
    },
    {
     "name": "stdout",
     "output_type": "stream",
     "text": [
      "Running source 2 of 3\n"
     ]
    },
    {
     "name": "stderr",
     "output_type": "stream",
     "text": [
      "Taping forward ▣▣▣▣▣▣▣▣▣▣▣▣▣▣▣▣▣▣▣▣▣▣▣▣▣▣▣▣▣▣▣▣▣▣▣▣▣▣▣▣▣▣▣▣▣▣▣▣▣▣ 801/100 [0:00:07]\n",
      "Evaluating Adjoint ▣▣▣▣▣▣▣▣▣▣▣▣▣▣▣▣▣▣▣▣▣▣▣▣▣▣▣▣▣▣▣▣▣▣▣▣▣▣▣▣▣▣▣▣▣▣▣▣▣▣ 801/801 [0:00:46]\n",
      "\u001b[?25h"
     ]
    },
    {
     "name": "stdout",
     "output_type": "stream",
     "text": [
      "Running source 3 of 3\n"
     ]
    },
    {
     "name": "stderr",
     "output_type": "stream",
     "text": [
      "Taping forward ▣▣▣▣▣▣▣▣▣▣▣▣▣▣▣▣▣▣▣▣▣▣▣▣▣▣▣▣▣▣▣▣▣▣▣▣▣▣▣▣▣▣▣▣▣▣▣▣▣▣ 801/100 [0:00:07]\n",
      "Evaluating Adjoint ▣▣▣▣▣▣▣▣▣▣▣▣▣▣▣▣▣▣▣▣▣▣▣▣▣▣▣▣▣▣▣▣▣▣▣▣▣▣▣▣▣▣▣▣▣▣▣▣▣▣ 801/801 [0:00:46]\n",
      "Evaluating Functional ▣▢▢▢▢▢▢▢▢▢▢▢▢▢▢▢▢▢▢▢▢▢▢▢▢▢▢▢▢▢▢▢▢▢▢▢▢▢▢▢▢▢▢▢▢▢▢▢▢▢ 25/801 [0:00:00]"
     ]
    },
    {
     "name": "stdout",
     "output_type": "stream",
     "text": [
      "RUNNING THE L-BFGS-B CODE\n",
      "\n",
      "           * * *\n",
      "\n",
      "Machine precision = 2.220D-16\n",
      " N =         6561     M =           10\n",
      "\n",
      "At X0      6561 variables are exactly at the bounds\n",
      "\n",
      "At iterate    0    f=  2.17491D-02    |proj g|=  1.41968D-03\n",
      "Running source 1 of 3\n"
     ]
    },
    {
     "name": "stderr",
     "output_type": "stream",
     "text": [
      "Evaluating Functional ▣▣▣▣▣▣▣▣▣▣▣▣▣▣▣▣▣▣▣▣▣▣▣▣▣▣▣▣▣▣▣▣▣▣▣▣▣▣▣▣▣▣▣▣▣▣▣▣▣▣ 801/801 [0:00:07]\n",
      "Evaluating Adjoint ▣▣▣▣▣▣▣▣▣▣▣▣▣▣▣▣▣▣▣▣▣▣▣▣▣▣▣▣▣▣▣▣▣▣▣▣▣▣▣▣▣▣▣▣▣▣▣▣▣▣ 801/801 [0:00:46]\n",
      "Evaluating Functional ▣▢▢▢▢▢▢▢▢▢▢▢▢▢▢▢▢▢▢▢▢▢▢▢▢▢▢▢▢▢▢▢▢▢▢▢▢▢▢▢▢▢▢▢▢▢▢▢▢▢ 25/801 [0:00:00]"
     ]
    },
    {
     "name": "stdout",
     "output_type": "stream",
     "text": [
      "Running source 2 of 3\n"
     ]
    },
    {
     "name": "stderr",
     "output_type": "stream",
     "text": [
      "Evaluating Functional ▣▣▣▣▣▣▣▣▣▣▣▣▣▣▣▣▣▣▣▣▣▣▣▣▣▣▣▣▣▣▣▣▣▣▣▣▣▣▣▣▣▣▣▣▣▣▣▣▣▣ 801/801 [0:00:06]\n",
      "Evaluating Adjoint ▣▣▣▣▣▣▣▣▣▣▣▣▣▣▣▣▣▣▣▣▣▣▣▣▣▣▣▣▣▣▣▣▣▣▣▣▣▣▣▣▣▣▣▣▣▣▣▣▣▣ 801/801 [0:00:47]\n",
      "Evaluating Functional ▣▢▢▢▢▢▢▢▢▢▢▢▢▢▢▢▢▢▢▢▢▢▢▢▢▢▢▢▢▢▢▢▢▢▢▢▢▢▢▢▢▢▢▢▢▢▢▢▢▢ 25/801 [0:00:00]"
     ]
    },
    {
     "name": "stdout",
     "output_type": "stream",
     "text": [
      "Running source 3 of 3\n"
     ]
    },
    {
     "name": "stderr",
     "output_type": "stream",
     "text": [
      "Evaluating Functional ▣▣▣▣▣▣▣▣▣▣▣▣▣▣▣▣▣▣▣▣▣▣▣▣▣▣▣▣▣▣▣▣▣▣▣▣▣▣▣▣▣▣▣▣▣▣▣▣▣▣ 801/801 [0:00:06]\n",
      "Evaluating Adjoint ▣▣▣▣▣▣▣▣▣▣▣▣▣▣▣▣▣▣▣▣▣▣▣▣▣▣▣▣▣▣▣▣▣▣▣▣▣▣▣▣▣▣▣▣▣▣▣▣▣▣ 801/801 [0:00:47]\n",
      "Evaluating Functional ▣▢▢▢▢▢▢▢▢▢▢▢▢▢▢▢▢▢▢▢▢▢▢▢▢▢▢▢▢▢▢▢▢▢▢▢▢▢▢▢▢▢▢▢▢▢▢▢▢▢ 26/801 [0:00:00]"
     ]
    },
    {
     "name": "stdout",
     "output_type": "stream",
     "text": [
      "\n",
      "At iterate    1    f=  2.17179D-02    |proj g|=  1.41341D-03\n",
      "Running source 1 of 3\n"
     ]
    },
    {
     "name": "stderr",
     "output_type": "stream",
     "text": [
      "Evaluating Functional ▣▣▣▣▣▣▣▣▣▣▣▣▣▣▣▣▣▣▣▣▣▣▣▣▣▣▣▣▣▣▣▣▣▣▣▣▣▣▣▣▣▣▣▣▣▣▣▣▣▣ 801/801 [0:00:07]\n",
      "Evaluating Adjoint ▣▣▣▣▣▣▣▣▣▣▣▣▣▣▣▣▣▣▣▣▣▣▣▣▣▣▣▣▣▣▣▣▣▣▣▣▣▣▣▣▣▣▣▣▣▣▣▣▣▣ 801/801 [0:00:46]\n",
      "Evaluating Functional ▣▢▢▢▢▢▢▢▢▢▢▢▢▢▢▢▢▢▢▢▢▢▢▢▢▢▢▢▢▢▢▢▢▢▢▢▢▢▢▢▢▢▢▢▢▢▢▢▢▢ 25/801 [0:00:00]"
     ]
    },
    {
     "name": "stdout",
     "output_type": "stream",
     "text": [
      "Running source 2 of 3\n"
     ]
    },
    {
     "name": "stderr",
     "output_type": "stream",
     "text": [
      "Evaluating Functional ▣▣▣▣▣▣▣▣▣▣▣▣▣▣▣▣▣▣▣▣▣▣▣▣▣▣▣▣▣▣▣▣▣▣▣▣▣▣▣▣▣▣▣▣▣▣▣▣▣▣ 801/801 [0:00:06]\n",
      "Evaluating Adjoint ▣▣▣▣▣▣▣▣▣▣▣▣▣▣▣▣▣▣▣▣▣▣▣▣▣▣▣▣▣▣▣▣▣▣▣▣▣▣▣▣▣▣▣▣▣▣▣▣▣▣ 801/801 [0:00:46]\n",
      "Evaluating Functional ▣▢▢▢▢▢▢▢▢▢▢▢▢▢▢▢▢▢▢▢▢▢▢▢▢▢▢▢▢▢▢▢▢▢▢▢▢▢▢▢▢▢▢▢▢▢▢▢▢▢ 24/801 [0:00:00]"
     ]
    },
    {
     "name": "stdout",
     "output_type": "stream",
     "text": [
      "Running source 3 of 3\n"
     ]
    },
    {
     "name": "stderr",
     "output_type": "stream",
     "text": [
      "Evaluating Functional ▣▣▣▣▣▣▣▣▣▣▣▣▣▣▣▣▣▣▣▣▣▣▣▣▣▣▣▣▣▣▣▣▣▣▣▣▣▣▣▣▣▣▣▣▣▣▣▣▣▣ 801/801 [0:00:06]\n",
      "Evaluating Adjoint ▣▣▣▣▣▣▣▣▣▣▣▣▣▣▣▣▣▣▣▣▣▣▣▣▣▣▣▣▣▣▣▣▣▣▣▣▣▣▣▣▣▣▣▣▣▣▣▣▣▣ 801/801 [0:00:48]\n",
      "Evaluating Functional ▣▢▢▢▢▢▢▢▢▢▢▢▢▢▢▢▢▢▢▢▢▢▢▢▢▢▢▢▢▢▢▢▢▢▢▢▢▢▢▢▢▢▢▢▢▢▢▢▢▢ 25/801 [0:00:00]"
     ]
    },
    {
     "name": "stdout",
     "output_type": "stream",
     "text": [
      "\n",
      "At iterate    2    f=  1.45318D-02    |proj g|=  4.51828D-04\n",
      "Running source 1 of 3\n"
     ]
    },
    {
     "name": "stderr",
     "output_type": "stream",
     "text": [
      "Evaluating Functional ▣▣▣▣▣▣▣▣▣▣▣▣▣▣▣▣▣▣▣▣▣▣▣▣▣▣▣▣▣▣▣▣▣▣▣▣▣▣▣▣▣▣▣▣▣▣▣▣▣▣ 801/801 [0:00:06]\n",
      "Evaluating Adjoint ▣▣▣▣▣▣▣▣▣▣▣▣▣▣▣▣▣▣▣▣▣▣▣▣▣▣▣▣▣▣▣▣▣▣▣▣▣▣▣▣▣▣▣▣▣▣▣▣▣▣ 801/801 [0:00:46]\n",
      "Evaluating Functional ▣▢▢▢▢▢▢▢▢▢▢▢▢▢▢▢▢▢▢▢▢▢▢▢▢▢▢▢▢▢▢▢▢▢▢▢▢▢▢▢▢▢▢▢▢▢▢▢▢▢ 24/801 [0:00:00]"
     ]
    },
    {
     "name": "stdout",
     "output_type": "stream",
     "text": [
      "Running source 2 of 3\n"
     ]
    },
    {
     "name": "stderr",
     "output_type": "stream",
     "text": [
      "Evaluating Functional ▣▣▣▣▣▣▣▣▣▣▣▣▣▣▣▣▣▣▣▣▣▣▣▣▣▣▣▣▣▣▣▣▣▣▣▣▣▣▣▣▣▣▣▣▣▣▣▣▣▣ 801/801 [0:00:07]\n",
      "Evaluating Adjoint ▣▣▣▣▣▣▣▣▣▣▣▣▣▣▣▣▣▣▣▣▣▣▣▣▣▣▣▣▣▣▣▣▣▣▣▣▣▣▣▣▣▣▣▣▣▣▣▣▣▣ 801/801 [0:00:46]\n",
      "Evaluating Functional ▣▢▢▢▢▢▢▢▢▢▢▢▢▢▢▢▢▢▢▢▢▢▢▢▢▢▢▢▢▢▢▢▢▢▢▢▢▢▢▢▢▢▢▢▢▢▢▢▢▢ 25/801 [0:00:00]"
     ]
    },
    {
     "name": "stdout",
     "output_type": "stream",
     "text": [
      "Running source 3 of 3\n"
     ]
    },
    {
     "name": "stderr",
     "output_type": "stream",
     "text": [
      "Evaluating Functional ▣▣▣▣▣▣▣▣▣▣▣▣▣▣▣▣▣▣▣▣▣▣▣▣▣▣▣▣▣▣▣▣▣▣▣▣▣▣▣▣▣▣▣▣▣▣▣▣▣▣ 801/801 [0:00:07]\n",
      "Evaluating Adjoint ▣▣▣▣▣▣▣▣▣▣▣▣▣▣▣▣▣▣▣▣▣▣▣▣▣▣▣▣▣▣▣▣▣▣▣▣▣▣▣▣▣▣▣▣▣▣▣▣▣▣ 801/801 [0:00:45]\n",
      "Evaluating Functional ▣▢▢▢▢▢▢▢▢▢▢▢▢▢▢▢▢▢▢▢▢▢▢▢▢▢▢▢▢▢▢▢▢▢▢▢▢▢▢▢▢▢▢▢▢▢▢▢▢▢ 25/801 [0:00:00]"
     ]
    },
    {
     "name": "stdout",
     "output_type": "stream",
     "text": [
      "Running source 1 of 3\n",
      "At iterate    3    f=  1.23434D-02    |proj g|=  2.40967D-04\n",
      "\n"
     ]
    },
    {
     "name": "stderr",
     "output_type": "stream",
     "text": [
      "Evaluating Functional ▣▣▣▣▣▣▣▣▣▣▣▣▣▣▣▣▣▣▣▣▣▣▣▣▣▣▣▣▣▣▣▣▣▣▣▣▣▣▣▣▣▣▣▣▣▣▣▣▣▣ 801/801 [0:00:06]\n",
      "Evaluating Adjoint ▣▣▣▣▣▣▣▣▣▣▣▣▣▣▣▣▣▣▣▣▣▣▣▣▣▣▣▣▣▣▣▣▣▣▣▣▣▣▣▣▣▣▣▣▣▣▣▣▣▣ 801/801 [0:00:46]\n",
      "Evaluating Functional ▣▢▢▢▢▢▢▢▢▢▢▢▢▢▢▢▢▢▢▢▢▢▢▢▢▢▢▢▢▢▢▢▢▢▢▢▢▢▢▢▢▢▢▢▢▢▢▢▢▢ 25/801 [0:00:00]"
     ]
    },
    {
     "name": "stdout",
     "output_type": "stream",
     "text": [
      "Running source 2 of 3\n"
     ]
    },
    {
     "name": "stderr",
     "output_type": "stream",
     "text": [
      "Evaluating Functional ▣▣▣▣▣▣▣▣▣▣▣▣▣▣▣▣▣▣▣▣▣▣▣▣▣▣▣▣▣▣▣▣▣▣▣▣▣▣▣▣▣▣▣▣▣▣▣▣▣▣ 801/801 [0:00:06]\n",
      "Evaluating Adjoint ▣▣▣▣▣▣▣▣▣▣▣▣▣▣▣▣▣▣▣▣▣▣▣▣▣▣▣▣▣▣▣▣▣▣▣▣▣▣▣▣▣▣▣▣▣▣▣▣▣▣ 801/801 [0:00:45]\n",
      "Evaluating Functional ▣▢▢▢▢▢▢▢▢▢▢▢▢▢▢▢▢▢▢▢▢▢▢▢▢▢▢▢▢▢▢▢▢▢▢▢▢▢▢▢▢▢▢▢▢▢▢▢▢▢ 24/801 [0:00:00]"
     ]
    },
    {
     "name": "stdout",
     "output_type": "stream",
     "text": [
      "Running source 3 of 3\n"
     ]
    },
    {
     "name": "stderr",
     "output_type": "stream",
     "text": [
      "Evaluating Functional ▣▣▣▣▣▣▣▣▣▣▣▣▣▣▣▣▣▣▣▣▣▣▣▣▣▣▣▣▣▣▣▣▣▣▣▣▣▣▣▣▣▣▣▣▣▣▣▣▣▣ 801/801 [0:00:07]\n",
      "Evaluating Adjoint ▣▣▣▣▣▣▣▣▣▣▣▣▣▣▣▣▣▣▣▣▣▣▣▣▣▣▣▣▣▣▣▣▣▣▣▣▣▣▣▣▣▣▣▣▣▣▣▣▣▣ 801/801 [0:00:46]\n",
      "Evaluating Functional ▣▢▢▢▢▢▢▢▢▢▢▢▢▢▢▢▢▢▢▢▢▢▢▢▢▢▢▢▢▢▢▢▢▢▢▢▢▢▢▢▢▢▢▢▢▢▢▢▢▢ 26/801 [0:00:00]"
     ]
    },
    {
     "name": "stdout",
     "output_type": "stream",
     "text": [
      "\n",
      "At iterate    4    f=  9.15816D-03    |proj g|=  8.51170D-05\n",
      "Running source 1 of 3\n"
     ]
    },
    {
     "name": "stderr",
     "output_type": "stream",
     "text": [
      "Evaluating Functional ▣▣▣▣▣▣▣▣▣▣▣▣▣▣▣▣▣▣▣▣▣▣▣▣▣▣▣▣▣▣▣▣▣▣▣▣▣▣▣▣▣▣▣▣▣▣▣▣▣▣ 801/801 [0:00:06]\n",
      "Evaluating Adjoint ▣▣▣▣▣▣▣▣▣▣▣▣▣▣▣▣▣▣▣▣▣▣▣▣▣▣▣▣▣▣▣▣▣▣▣▣▣▣▣▣▣▣▣▣▣▣▣▣▣▣ 801/801 [0:00:46]\n",
      "Evaluating Functional ▣▢▢▢▢▢▢▢▢▢▢▢▢▢▢▢▢▢▢▢▢▢▢▢▢▢▢▢▢▢▢▢▢▢▢▢▢▢▢▢▢▢▢▢▢▢▢▢▢▢ 25/801 [0:00:00]"
     ]
    },
    {
     "name": "stdout",
     "output_type": "stream",
     "text": [
      "Running source 2 of 3\n"
     ]
    },
    {
     "name": "stderr",
     "output_type": "stream",
     "text": [
      "Evaluating Functional ▣▣▣▣▣▣▣▣▣▣▣▣▣▣▣▣▣▣▣▣▣▣▣▣▣▣▣▣▣▣▣▣▣▣▣▣▣▣▣▣▣▣▣▣▣▣▣▣▣▣ 801/801 [0:00:06]\n",
      "Evaluating Adjoint ▣▣▣▣▣▣▣▣▣▣▣▣▣▣▣▣▣▣▣▣▣▣▣▣▣▣▣▣▣▣▣▣▣▣▣▣▣▣▣▣▣▣▣▣▣▣▣▣▣▣ 801/801 [0:00:47]\n",
      "Evaluating Functional ▣▢▢▢▢▢▢▢▢▢▢▢▢▢▢▢▢▢▢▢▢▢▢▢▢▢▢▢▢▢▢▢▢▢▢▢▢▢▢▢▢▢▢▢▢▢▢▢▢▢ 26/801 [0:00:00]"
     ]
    },
    {
     "name": "stdout",
     "output_type": "stream",
     "text": [
      "Running source 3 of 3\n"
     ]
    },
    {
     "name": "stderr",
     "output_type": "stream",
     "text": [
      "Evaluating Functional ▣▣▣▣▣▣▣▣▣▣▣▣▣▣▣▣▣▣▣▣▣▣▣▣▣▣▣▣▣▣▣▣▣▣▣▣▣▣▣▣▣▣▣▣▣▣▣▣▣▣ 801/801 [0:00:06]\n",
      "Evaluating Adjoint ▣▣▣▣▣▣▣▣▣▣▣▣▣▣▣▣▣▣▣▣▣▣▣▣▣▣▣▣▣▣▣▣▣▣▣▣▣▣▣▣▣▣▣▣▣▣▣▣▣▣ 801/801 [0:00:46]\n",
      "\u001b[?25h"
     ]
    },
    {
     "name": "stdout",
     "output_type": "stream",
     "text": [
      "\n",
      "At iterate    5    f=  4.15523D-03    |proj g|=  8.18119D-05\n",
      "\n",
      "           * * *\n",
      "\n",
      "Tit   = total number of iterations\n",
      "Tnf   = total number of function evaluations\n",
      "Tnint = total number of segments explored during Cauchy searches\n",
      "Skip  = number of BFGS updates skipped\n",
      "Nact  = number of active bounds at final generalized Cauchy point\n",
      "Projg = norm of the final projected gradient\n",
      "F     = final function value\n",
      "\n",
      "           * * *\n",
      "\n",
      "   N    Tit     Tnf  Tnint  Skip  Nact     Projg        F\n",
      " 6561      5      6    987     0  3061   8.181D-05   4.155D-03\n",
      "  F =   4.1552267246020335E-003\n",
      "\n",
      "STOP: TOTAL NO. of ITERATIONS REACHED LIMIT                 \n"
     ]
    },
    {
     "data": {
      "image/png": "[encoded data removed]",
      "text/plain": [
       "<Figure size 640x480 with 2 Axes>"
      ]
     },
     "metadata": {},
     "output_type": "display_data"
    }
   ],
   "source": [
    "from scipy.optimize import minimize as scipy_minimize\n",
    "\n",
    "\n",
    "def recompute_functional(reduced_functional):\n",
    "    # Future backend implementations will have a recompute method. \n",
    "    # For now, we can use the following workaround.\n",
    "    tape = reduced_functional.tape\n",
    "    tape.reset_blocks()\n",
    "    blocks = tape.get_blocks()\n",
    "    with reduced_functional.marked_controls():\n",
    "        if tape._checkpoint_manager:\n",
    "            tape._checkpoint_manager.recompute(reduced_functional.functional)\n",
    "        else:\n",
    "            for i in tape._bar(\"Evaluating functional\").iter(\n",
    "                range(len(blocks))\n",
    "            ):\n",
    "                blocks[i].recompute()\n",
    "    return reduced_functional.functional.block_variable.saved_output\n",
    "\n",
    "J_hat_sources =[]\n",
    "def run_fwi(c_guess):\n",
    "    global checkpointing, iteration\n",
    "    # This function needs still be improved.\n",
    "    J_total = 0.0\n",
    "    dJ_total = Function(V)\n",
    "    num_sources = len(model[\"source_locations\"])\n",
    "    for sn in range(num_sources):\n",
    "        print(f\"Running source {sn + 1} of {len(model['source_locations'])}\")\n",
    "        if iteration == 0:\n",
    "            vp_guess = Function(V)\n",
    "            vp_guess.dat.data_wo[:] = c_guess\n",
    "            Js = J(\n",
    "                vp_guess, u_sol_sources[sn], [model[\"source_locations\"][sn]],\n",
    "                checkpointing=checkpointing\n",
    "                )\n",
    "            J_hat_sources.append(ReducedFunctional(Js, Control(vp_guess)))\n",
    "            set_working_tape(Tape())\n",
    "        else:\n",
    "            with stop_annotating():\n",
    "                J_hat_sources[sn].controls[0].update_numpy(c_guess, 0)\n",
    "                Js = recompute_functional(J_hat_sources[sn])\n",
    "        with stop_annotating():\n",
    "            J_total += Js\n",
    "            dJ_total += J_hat_sources[sn].derivative()\n",
    "    functional_history.append(J_total)\n",
    "    iteration += 1\n",
    "    return J_total, dJ_total.dat.data[:]\n",
    "\n",
    "functional_history = []\n",
    "iteration = 0\n",
    "# The bounds for the optimisation problem.\n",
    "bounds = [(1.5, 3.5)] * len(c_guess.dat.data)\n",
    "result_data = scipy_minimize(run_fwi, c_guess.dat.data[:], method='L-BFGS-B',\n",
    "                             jac=True, tol=1e-15, bounds=bounds,\n",
    "                             options={\"disp\": True, \"eps\": 1e-15,\n",
    "                                      \"gtol\": 1e-15, \"maxiter\": 5})\n",
    "c_predicted = Function(V)\n",
    "c_predicted.dat.data[:] = result_data.x\n",
    "plot_function(c_predicted)"
   ]
  },
  {
   "cell_type": "markdown",
   "metadata": {},
   "source": [
    "Below we have the functional values with respect to the number of iterations."
   ]
  },
  {
   "cell_type": "code",
   "execution_count": 12,
   "metadata": {},
   "outputs": [
    {
     "data": {
      "image/png": "[encoded data removed]",
      "text/plain": [
       "<Figure size 640x480 with 1 Axes>"
      ]
     },
     "metadata": {},
     "output_type": "display_data"
    }
   ],
   "source": [
    "plt.plot(range(len(functional_history)), functional_history, \"o-\")\n",
    "plt.xlabel(\"Iterations\")\n",
    "plt.ylabel(\"Functional\")\n",
    "plt.grid()\n",
    "plt.show()"
   ]
  },
  {
   "cell_type": "markdown",
   "metadata": {},
   "source": [
    "We are using here only five iterations. You can change the number of iterations. \n",
    "You just need to change the `max_iter` in `scipy_minimize` method. "
   ]
  },
  {
   "cell_type": "markdown",
   "metadata": {},
   "source": [
    "## References\n",
    "[1] Tarantola, Albert. Inversion of seismic reflection data in the acoustic approximation. Geophysics 49.8 (1984): 1259-1266."
   ]
  }
 ],
 "metadata": {
  "kernelspec": {
   "display_name": "Python 3 (ipykernel)",
   "language": "python",
   "name": "python3"
  },
  "language_info": {
   "codemirror_mode": {
    "name": "ipython",
    "version": 3
   },
   "file_extension": ".py",
   "mimetype": "text/x-python",
   "name": "python",
   "nbconvert_exporter": "python",
   "pygments_lexer": "ipython3",
   "version": "3.11.2"
  }
 },
 "nbformat": 4,
 "nbformat_minor": 2
}
