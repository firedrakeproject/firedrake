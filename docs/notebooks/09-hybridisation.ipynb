{
 "cells": [
  {
   "cell_type": "markdown",
   "metadata": {},
   "source": [
    "# Static condensation and hybridization\n",
    "\n",
    "In this notebook, we explore the more advanced capabilities of Firedrake which facilitate the global reduction of finite element systems. The procedure, known as element-wise \"static condensation,\" is well-known within the FEM community. This approach requires the algebraic manipulation of locally assembled matrices and vectors. We will apply this within the context of hybridizing a mixed method.\n",
    "\n",
    "As our running example, we consider the following saddle-point system: find $(\\mathbf{u}, D) \\in V \\times U \\subset H(\\text{div}) \\times L^2$ such that\n",
    "\n",
    "$$\n",
    "\\begin{align}\n",
    "    \\color{#800020}{\\int_\\Omega \\mathbf{w}\\cdot\\mathbf{u}\\,\\mathrm{d}x +\n",
    "    \\beta\\int_\\Omega \\mathbf{w}\\cdot f\\mathbf{u}^\\perp\\,\\mathrm{d}x}\n",
    "    - \\color{#2A52BE}{g\\beta\\int_\\Omega D\\nabla\\cdot\\mathbf{w}\\,\\mathrm{d}x} &= -R\\lbrack \\mathbf{w} \\rbrack,\n",
    "    \\quad \\forall \\mathbf{w} \\in V, \\\\\n",
    "    \\color{#2A52BE}{H\\beta\\int_\\Omega \\phi\\nabla\\cdot\\mathbf{u}\\,\\mathrm{d}x}\n",
    "    + \\color{#CC5500}{\\int_\\Omega \\phi D\\,\\mathrm{d}x} &= -R\\lbrack \\phi \\rbrack,\n",
    "    \\quad \\forall \\phi \\in U,\n",
    "\\end{align}\n",
    "$$\n",
    "\n",
    "where the residual co-vectors are defined as:\n",
    "\n",
    "$$\n",
    "\\begin{align}\n",
    "    R\\lbrack \\mathbf{w} \\rbrack &= \\int_\\Omega \\mathbf{w}\\cdot\\mathbf{u}^{0}\\,\\mathrm{d}x -\n",
    "    \\beta\\int_\\Omega \\mathbf{w}\\cdot f\\mathbf{u}^{0\\perp}\\,\\mathrm{d}x +\n",
    "    g\\beta\\int_\\Omega D^{0}\\nabla\\cdot\\mathbf{w}\\,\\mathrm{d}x \\\\\n",
    "    R\\lbrack \\phi \\rbrack &= \\int_\\Omega \\phi D^{0}\\,\\mathrm{d}x -\n",
    "    \\beta\\int_\\Omega \\phi\\nabla\\cdot\\mathbf{u}^{0}\\,\\mathrm{d}x.\n",
    "\\end{align}\n",
    "$$\n",
    "\n",
    "Here, $\\beta$, $g$, and $H$ are parameters. Within the context of fluid flow on a rotating sphere, $f$ is the Coriolis parameter. $\\mathbf{u}^{0}$ and $D^0$ are previous states of the fields.\n",
    "\n",
    "We require the numerical solution to the saddle-point system:\n",
    "\n",
    "$$\n",
    "    \\mathcal{A}\\mathbf{x} \\equiv\n",
    "    \\begin{bmatrix}\n",
    "        \\color{#800020}{A} & -g\\beta\\color{#2A52BE}{B^T} \\\\\n",
    "        H\\beta\\color{#2A52BE}{B} & \\color{#CC5500}{C}\n",
    "    \\end{bmatrix}\n",
    "    \\begin{Bmatrix}\n",
    "        U \\\\\n",
    "        D\n",
    "    \\end{Bmatrix} =\n",
    "    \\begin{Bmatrix}\n",
    "        -R\\lbrack \\mathbf{w} \\rbrack \\\\\n",
    "        -R\\lbrack \\phi \\rbrack\n",
    "    \\end{Bmatrix} \\equiv \\mathbf{b}\n",
    "$$\n",
    "\n",
    "for the coefficent vectors $U$ and $D$. A challenge for systems of this type is finding a parameter-indepedent solver for which we have good convergence. First, let's set up an example."
   ]
  },
  {
   "cell_type": "markdown",
   "metadata": {},
   "source": [
    "## Example implementation\n",
    "\n",
    "For our domain, let's use a spherical mesh with a radius equal to that of the Earth. We begin by importing Firedrake and defining some relevant constants."
   ]
  },
  {
   "cell_type": "code",
   "execution_count": 1,
   "metadata": {},
   "outputs": [],
   "source": [
    "%matplotlib notebook\n",
    "import matplotlib.pyplot as plt\n",
    "from firedrake import *\n",
    "\n",
    "R0 = 6371220.0                  # Radius\n",
    "R = Constant(R0)\n",
    "H = Constant(6000.0)            # Mean depth\n",
    "Omega_f = Constant(1.e-4)       # Angular rotation rate\n",
    "g = Constant(10)                # Acceleration due to gravity"
   ]
  },
  {
   "cell_type": "markdown",
   "metadata": {},
   "source": [
    "Now let's create a mesh with quadrilateral elements. We will want to use Firedrake's `CubedSphereMesh`. As with all builtin meshes, we can find out what arguments we need to pass in:"
   ]
  },
  {
   "cell_type": "code",
   "execution_count": 2,
   "metadata": {},
   "outputs": [
    {
     "name": "stdout",
     "output_type": "stream",
     "text": [
      "Help on function CubedSphereMesh in module firedrake.utility_meshes:\n",
      "\n",
      "CubedSphereMesh(radius, refinement_level=0, degree=1, reorder=None, distribution_parameters=None, comm=<mpi4py.MPI.Intracomm object at 0x11fea5870>)\n",
      "    Generate an cubed approximation to the surface of the\n",
      "    sphere.\n",
      "    \n",
      "    :arg radius: The radius of the sphere to approximate.\n",
      "    :kwarg refinement_level: optional number of refinements (0 is a cube).\n",
      "    :kwarg degree: polynomial degree of coordinate space (defaults\n",
      "        to 1: bilinear quads)\n",
      "    :kwarg reorder: (optional), should the mesh be reordered?\n",
      "    :kwarg comm: Optional communicator to build the mesh on (defaults to\n",
      "        COMM_WORLD).\n",
      "\n"
     ]
    }
   ],
   "source": [
    "help(CubedSphereMesh)"
   ]
  },
  {
   "cell_type": "markdown",
   "metadata": {},
   "source": [
    "So now we need to specify the number of refinements (say 4). Let's also set the mesh `degree` to be cubic. With this choice of coordinate space, we can better resolve the actual curvature of the sphere using bendy quadrilateral elements:"
   ]
  },
  {
   "cell_type": "code",
   "execution_count": 3,
   "metadata": {},
   "outputs": [],
   "source": [
    "mesh = CubedSphereMesh(radius=R0, refinement_level=4, degree=3)"
   ]
  },
  {
   "cell_type": "markdown",
   "metadata": {},
   "source": [
    "And now we just initialize the global normals on this mesh:"
   ]
  },
  {
   "cell_type": "code",
   "execution_count": 4,
   "metadata": {},
   "outputs": [],
   "source": [
    "x = SpatialCoordinate(mesh)\n",
    "mesh.init_cell_orientations(x)"
   ]
  },
  {
   "cell_type": "markdown",
   "metadata": {},
   "source": [
    "Let's take a look at the mesh:"
   ]
  },
  {
   "cell_type": "code",
   "execution_count": 5,
   "metadata": {},
   "outputs": [
    {
     "data": {
      "application/javascript": [
       "/* Put everything inside the global mpl namespace */\n",
       "window.mpl = {};\n",
       "\n",
       "\n",
       "mpl.get_websocket_type = function() {\n",
       "    if (typeof(WebSocket) !== 'undefined') {\n",
       "        return WebSocket;\n",
       "    } else if (typeof(MozWebSocket) !== 'undefined') {\n",
       "        return MozWebSocket;\n",
       "    } else {\n",
       "        alert('Your browser does not have WebSocket support. ' +\n",
       "              'Please try Chrome, Safari or Firefox ≥ 6. ' +\n",
       "              'Firefox 4 and 5 are also supported but you ' +\n",
       "              'have to enable WebSockets in about:config.');\n",
       "    };\n",
       "}\n",
       "\n",
       "mpl.figure = function(figure_id, websocket, ondownload, parent_element) {\n",
       "    this.id = figure_id;\n",
       "\n",
       "    this.ws = websocket;\n",
       "\n",
       "    this.supports_binary = (this.ws.binaryType != undefined);\n",
       "\n",
       "    if (!this.supports_binary) {\n",
       "        var warnings = document.getElementById(\"mpl-warnings\");\n",
       "        if (warnings) {\n",
       "            warnings.style.display = 'block';\n",
       "            warnings.textContent = (\n",
       "                \"This browser does not support binary websocket messages. \" +\n",
       "                    \"Performance may be slow.\");\n",
       "        }\n",
       "    }\n",
       "\n",
       "    this.imageObj = new Image();\n",
       "\n",
       "    this.context = undefined;\n",
       "    this.message = undefined;\n",
       "    this.canvas = undefined;\n",
       "    this.rubberband_canvas = undefined;\n",
       "    this.rubberband_context = undefined;\n",
       "    this.format_dropdown = undefined;\n",
       "\n",
       "    this.image_mode = 'full';\n",
       "\n",
       "    this.root = $('<div/>');\n",
       "    this._root_extra_style(this.root)\n",
       "    this.root.attr('style', 'display: inline-block');\n",
       "\n",
       "    $(parent_element).append(this.root);\n",
       "\n",
       "    this._init_header(this);\n",
       "    this._init_canvas(this);\n",
       "    this._init_toolbar(this);\n",
       "\n",
       "    var fig = this;\n",
       "\n",
       "    this.waiting = false;\n",
       "\n",
       "    this.ws.onopen =  function () {\n",
       "            fig.send_message(\"supports_binary\", {value: fig.supports_binary});\n",
       "            fig.send_message(\"send_image_mode\", {});\n",
       "            if (mpl.ratio != 1) {\n",
       "                fig.send_message(\"set_dpi_ratio\", {'dpi_ratio': mpl.ratio});\n",
       "            }\n",
       "            fig.send_message(\"refresh\", {});\n",
       "        }\n",
       "\n",
       "    this.imageObj.onload = function() {\n",
       "            if (fig.image_mode == 'full') {\n",
       "                // Full images could contain transparency (where diff images\n",
       "                // almost always do), so we need to clear the canvas so that\n",
       "                // there is no ghosting.\n",
       "                fig.context.clearRect(0, 0, fig.canvas.width, fig.canvas.height);\n",
       "            }\n",
       "            fig.context.drawImage(fig.imageObj, 0, 0);\n",
       "        };\n",
       "\n",
       "    this.imageObj.onunload = function() {\n",
       "        fig.ws.close();\n",
       "    }\n",
       "\n",
       "    this.ws.onmessage = this._make_on_message_function(this);\n",
       "\n",
       "    this.ondownload = ondownload;\n",
       "}\n",
       "\n",
       "mpl.figure.prototype._init_header = function() {\n",
       "    var titlebar = $(\n",
       "        '<div class=\"ui-dialog-titlebar ui-widget-header ui-corner-all ' +\n",
       "        'ui-helper-clearfix\"/>');\n",
       "    var titletext = $(\n",
       "        '<div class=\"ui-dialog-title\" style=\"width: 100%; ' +\n",
       "        'text-align: center; padding: 3px;\"/>');\n",
       "    titlebar.append(titletext)\n",
       "    this.root.append(titlebar);\n",
       "    this.header = titletext[0];\n",
       "}\n",
       "\n",
       "\n",
       "\n",
       "mpl.figure.prototype._canvas_extra_style = function(canvas_div) {\n",
       "\n",
       "}\n",
       "\n",
       "\n",
       "mpl.figure.prototype._root_extra_style = function(canvas_div) {\n",
       "\n",
       "}\n",
       "\n",
       "mpl.figure.prototype._init_canvas = function() {\n",
       "    var fig = this;\n",
       "\n",
       "    var canvas_div = $('<div/>');\n",
       "\n",
       "    canvas_div.attr('style', 'position: relative; clear: both; outline: 0');\n",
       "\n",
       "    function canvas_keyboard_event(event) {\n",
       "        return fig.key_event(event, event['data']);\n",
       "    }\n",
       "\n",
       "    canvas_div.keydown('key_press', canvas_keyboard_event);\n",
       "    canvas_div.keyup('key_release', canvas_keyboard_event);\n",
       "    this.canvas_div = canvas_div\n",
       "    this._canvas_extra_style(canvas_div)\n",
       "    this.root.append(canvas_div);\n",
       "\n",
       "    var canvas = $('<canvas/>');\n",
       "    canvas.addClass('mpl-canvas');\n",
       "    canvas.attr('style', \"left: 0; top: 0; z-index: 0; outline: 0\")\n",
       "\n",
       "    this.canvas = canvas[0];\n",
       "    this.context = canvas[0].getContext(\"2d\");\n",
       "\n",
       "    var backingStore = this.context.backingStorePixelRatio ||\n",
       "\tthis.context.webkitBackingStorePixelRatio ||\n",
       "\tthis.context.mozBackingStorePixelRatio ||\n",
       "\tthis.context.msBackingStorePixelRatio ||\n",
       "\tthis.context.oBackingStorePixelRatio ||\n",
       "\tthis.context.backingStorePixelRatio || 1;\n",
       "\n",
       "    mpl.ratio = (window.devicePixelRatio || 1) / backingStore;\n",
       "\n",
       "    var rubberband = $('<canvas/>');\n",
       "    rubberband.attr('style', \"position: absolute; left: 0; top: 0; z-index: 1;\")\n",
       "\n",
       "    var pass_mouse_events = true;\n",
       "\n",
       "    canvas_div.resizable({\n",
       "        start: function(event, ui) {\n",
       "            pass_mouse_events = false;\n",
       "        },\n",
       "        resize: function(event, ui) {\n",
       "            fig.request_resize(ui.size.width, ui.size.height);\n",
       "        },\n",
       "        stop: function(event, ui) {\n",
       "            pass_mouse_events = true;\n",
       "            fig.request_resize(ui.size.width, ui.size.height);\n",
       "        },\n",
       "    });\n",
       "\n",
       "    function mouse_event_fn(event) {\n",
       "        if (pass_mouse_events)\n",
       "            return fig.mouse_event(event, event['data']);\n",
       "    }\n",
       "\n",
       "    rubberband.mousedown('button_press', mouse_event_fn);\n",
       "    rubberband.mouseup('button_release', mouse_event_fn);\n",
       "    // Throttle sequential mouse events to 1 every 20ms.\n",
       "    rubberband.mousemove('motion_notify', mouse_event_fn);\n",
       "\n",
       "    rubberband.mouseenter('figure_enter', mouse_event_fn);\n",
       "    rubberband.mouseleave('figure_leave', mouse_event_fn);\n",
       "\n",
       "    canvas_div.on(\"wheel\", function (event) {\n",
       "        event = event.originalEvent;\n",
       "        event['data'] = 'scroll'\n",
       "        if (event.deltaY < 0) {\n",
       "            event.step = 1;\n",
       "        } else {\n",
       "            event.step = -1;\n",
       "        }\n",
       "        mouse_event_fn(event);\n",
       "    });\n",
       "\n",
       "    canvas_div.append(canvas);\n",
       "    canvas_div.append(rubberband);\n",
       "\n",
       "    this.rubberband = rubberband;\n",
       "    this.rubberband_canvas = rubberband[0];\n",
       "    this.rubberband_context = rubberband[0].getContext(\"2d\");\n",
       "    this.rubberband_context.strokeStyle = \"#000000\";\n",
       "\n",
       "    this._resize_canvas = function(width, height) {\n",
       "        // Keep the size of the canvas, canvas container, and rubber band\n",
       "        // canvas in synch.\n",
       "        canvas_div.css('width', width)\n",
       "        canvas_div.css('height', height)\n",
       "\n",
       "        canvas.attr('width', width * mpl.ratio);\n",
       "        canvas.attr('height', height * mpl.ratio);\n",
       "        canvas.attr('style', 'width: ' + width + 'px; height: ' + height + 'px;');\n",
       "\n",
       "        rubberband.attr('width', width);\n",
       "        rubberband.attr('height', height);\n",
       "    }\n",
       "\n",
       "    // Set the figure to an initial 600x600px, this will subsequently be updated\n",
       "    // upon first draw.\n",
       "    this._resize_canvas(600, 600);\n",
       "\n",
       "    // Disable right mouse context menu.\n",
       "    $(this.rubberband_canvas).bind(\"contextmenu\",function(e){\n",
       "        return false;\n",
       "    });\n",
       "\n",
       "    function set_focus () {\n",
       "        canvas.focus();\n",
       "        canvas_div.focus();\n",
       "    }\n",
       "\n",
       "    window.setTimeout(set_focus, 100);\n",
       "}\n",
       "\n",
       "mpl.figure.prototype._init_toolbar = function() {\n",
       "    var fig = this;\n",
       "\n",
       "    var nav_element = $('<div/>');\n",
       "    nav_element.attr('style', 'width: 100%');\n",
       "    this.root.append(nav_element);\n",
       "\n",
       "    // Define a callback function for later on.\n",
       "    function toolbar_event(event) {\n",
       "        return fig.toolbar_button_onclick(event['data']);\n",
       "    }\n",
       "    function toolbar_mouse_event(event) {\n",
       "        return fig.toolbar_button_onmouseover(event['data']);\n",
       "    }\n",
       "\n",
       "    for(var toolbar_ind in mpl.toolbar_items) {\n",
       "        var name = mpl.toolbar_items[toolbar_ind][0];\n",
       "        var tooltip = mpl.toolbar_items[toolbar_ind][1];\n",
       "        var image = mpl.toolbar_items[toolbar_ind][2];\n",
       "        var method_name = mpl.toolbar_items[toolbar_ind][3];\n",
       "\n",
       "        if (!name) {\n",
       "            // put a spacer in here.\n",
       "            continue;\n",
       "        }\n",
       "        var button = $('<button/>');\n",
       "        button.addClass('ui-button ui-widget ui-state-default ui-corner-all ' +\n",
       "                        'ui-button-icon-only');\n",
       "        button.attr('role', 'button');\n",
       "        button.attr('aria-disabled', 'false');\n",
       "        button.click(method_name, toolbar_event);\n",
       "        button.mouseover(tooltip, toolbar_mouse_event);\n",
       "\n",
       "        var icon_img = $('<span/>');\n",
       "        icon_img.addClass('ui-button-icon-primary ui-icon');\n",
       "        icon_img.addClass(image);\n",
       "        icon_img.addClass('ui-corner-all');\n",
       "\n",
       "        var tooltip_span = $('<span/>');\n",
       "        tooltip_span.addClass('ui-button-text');\n",
       "        tooltip_span.html(tooltip);\n",
       "\n",
       "        button.append(icon_img);\n",
       "        button.append(tooltip_span);\n",
       "\n",
       "        nav_element.append(button);\n",
       "    }\n",
       "\n",
       "    var fmt_picker_span = $('<span/>');\n",
       "\n",
       "    var fmt_picker = $('<select/>');\n",
       "    fmt_picker.addClass('mpl-toolbar-option ui-widget ui-widget-content');\n",
       "    fmt_picker_span.append(fmt_picker);\n",
       "    nav_element.append(fmt_picker_span);\n",
       "    this.format_dropdown = fmt_picker[0];\n",
       "\n",
       "    for (var ind in mpl.extensions) {\n",
       "        var fmt = mpl.extensions[ind];\n",
       "        var option = $(\n",
       "            '<option/>', {selected: fmt === mpl.default_extension}).html(fmt);\n",
       "        fmt_picker.append(option);\n",
       "    }\n",
       "\n",
       "    // Add hover states to the ui-buttons\n",
       "    $( \".ui-button\" ).hover(\n",
       "        function() { $(this).addClass(\"ui-state-hover\");},\n",
       "        function() { $(this).removeClass(\"ui-state-hover\");}\n",
       "    );\n",
       "\n",
       "    var status_bar = $('<span class=\"mpl-message\"/>');\n",
       "    nav_element.append(status_bar);\n",
       "    this.message = status_bar[0];\n",
       "}\n",
       "\n",
       "mpl.figure.prototype.request_resize = function(x_pixels, y_pixels) {\n",
       "    // Request matplotlib to resize the figure. Matplotlib will then trigger a resize in the client,\n",
       "    // which will in turn request a refresh of the image.\n",
       "    this.send_message('resize', {'width': x_pixels, 'height': y_pixels});\n",
       "}\n",
       "\n",
       "mpl.figure.prototype.send_message = function(type, properties) {\n",
       "    properties['type'] = type;\n",
       "    properties['figure_id'] = this.id;\n",
       "    this.ws.send(JSON.stringify(properties));\n",
       "}\n",
       "\n",
       "mpl.figure.prototype.send_draw_message = function() {\n",
       "    if (!this.waiting) {\n",
       "        this.waiting = true;\n",
       "        this.ws.send(JSON.stringify({type: \"draw\", figure_id: this.id}));\n",
       "    }\n",
       "}\n",
       "\n",
       "\n",
       "mpl.figure.prototype.handle_save = function(fig, msg) {\n",
       "    var format_dropdown = fig.format_dropdown;\n",
       "    var format = format_dropdown.options[format_dropdown.selectedIndex].value;\n",
       "    fig.ondownload(fig, format);\n",
       "}\n",
       "\n",
       "\n",
       "mpl.figure.prototype.handle_resize = function(fig, msg) {\n",
       "    var size = msg['size'];\n",
       "    if (size[0] != fig.canvas.width || size[1] != fig.canvas.height) {\n",
       "        fig._resize_canvas(size[0], size[1]);\n",
       "        fig.send_message(\"refresh\", {});\n",
       "    };\n",
       "}\n",
       "\n",
       "mpl.figure.prototype.handle_rubberband = function(fig, msg) {\n",
       "    var x0 = msg['x0'] / mpl.ratio;\n",
       "    var y0 = (fig.canvas.height - msg['y0']) / mpl.ratio;\n",
       "    var x1 = msg['x1'] / mpl.ratio;\n",
       "    var y1 = (fig.canvas.height - msg['y1']) / mpl.ratio;\n",
       "    x0 = Math.floor(x0) + 0.5;\n",
       "    y0 = Math.floor(y0) + 0.5;\n",
       "    x1 = Math.floor(x1) + 0.5;\n",
       "    y1 = Math.floor(y1) + 0.5;\n",
       "    var min_x = Math.min(x0, x1);\n",
       "    var min_y = Math.min(y0, y1);\n",
       "    var width = Math.abs(x1 - x0);\n",
       "    var height = Math.abs(y1 - y0);\n",
       "\n",
       "    fig.rubberband_context.clearRect(\n",
       "        0, 0, fig.canvas.width / mpl.ratio, fig.canvas.height / mpl.ratio);\n",
       "\n",
       "    fig.rubberband_context.strokeRect(min_x, min_y, width, height);\n",
       "}\n",
       "\n",
       "mpl.figure.prototype.handle_figure_label = function(fig, msg) {\n",
       "    // Updates the figure title.\n",
       "    fig.header.textContent = msg['label'];\n",
       "}\n",
       "\n",
       "mpl.figure.prototype.handle_cursor = function(fig, msg) {\n",
       "    var cursor = msg['cursor'];\n",
       "    switch(cursor)\n",
       "    {\n",
       "    case 0:\n",
       "        cursor = 'pointer';\n",
       "        break;\n",
       "    case 1:\n",
       "        cursor = 'default';\n",
       "        break;\n",
       "    case 2:\n",
       "        cursor = 'crosshair';\n",
       "        break;\n",
       "    case 3:\n",
       "        cursor = 'move';\n",
       "        break;\n",
       "    }\n",
       "    fig.rubberband_canvas.style.cursor = cursor;\n",
       "}\n",
       "\n",
       "mpl.figure.prototype.handle_message = function(fig, msg) {\n",
       "    fig.message.textContent = msg['message'];\n",
       "}\n",
       "\n",
       "mpl.figure.prototype.handle_draw = function(fig, msg) {\n",
       "    // Request the server to send over a new figure.\n",
       "    fig.send_draw_message();\n",
       "}\n",
       "\n",
       "mpl.figure.prototype.handle_image_mode = function(fig, msg) {\n",
       "    fig.image_mode = msg['mode'];\n",
       "}\n",
       "\n",
       "mpl.figure.prototype.updated_canvas_event = function() {\n",
       "    // Called whenever the canvas gets updated.\n",
       "    this.send_message(\"ack\", {});\n",
       "}\n",
       "\n",
       "// A function to construct a web socket function for onmessage handling.\n",
       "// Called in the figure constructor.\n",
       "mpl.figure.prototype._make_on_message_function = function(fig) {\n",
       "    return function socket_on_message(evt) {\n",
       "        if (evt.data instanceof Blob) {\n",
       "            /* FIXME: We get \"Resource interpreted as Image but\n",
       "             * transferred with MIME type text/plain:\" errors on\n",
       "             * Chrome.  But how to set the MIME type?  It doesn't seem\n",
       "             * to be part of the websocket stream */\n",
       "            evt.data.type = \"image/png\";\n",
       "\n",
       "            /* Free the memory for the previous frames */\n",
       "            if (fig.imageObj.src) {\n",
       "                (window.URL || window.webkitURL).revokeObjectURL(\n",
       "                    fig.imageObj.src);\n",
       "            }\n",
       "\n",
       "            fig.imageObj.src = (window.URL || window.webkitURL).createObjectURL(\n",
       "                evt.data);\n",
       "            fig.updated_canvas_event();\n",
       "            fig.waiting = false;\n",
       "            return;\n",
       "        }\n",
       "        else if (typeof evt.data === 'string' && evt.data.slice(0, 21) == \"data:image/png;base64\") {\n",
       "            fig.imageObj.src = evt.data;\n",
       "            fig.updated_canvas_event();\n",
       "            fig.waiting = false;\n",
       "            return;\n",
       "        }\n",
       "\n",
       "        var msg = JSON.parse(evt.data);\n",
       "        var msg_type = msg['type'];\n",
       "\n",
       "        // Call the  \"handle_{type}\" callback, which takes\n",
       "        // the figure and JSON message as its only arguments.\n",
       "        try {\n",
       "            var callback = fig[\"handle_\" + msg_type];\n",
       "        } catch (e) {\n",
       "            console.log(\"No handler for the '\" + msg_type + \"' message type: \", msg);\n",
       "            return;\n",
       "        }\n",
       "\n",
       "        if (callback) {\n",
       "            try {\n",
       "                // console.log(\"Handling '\" + msg_type + \"' message: \", msg);\n",
       "                callback(fig, msg);\n",
       "            } catch (e) {\n",
       "                console.log(\"Exception inside the 'handler_\" + msg_type + \"' callback:\", e, e.stack, msg);\n",
       "            }\n",
       "        }\n",
       "    };\n",
       "}\n",
       "\n",
       "// from http://stackoverflow.com/questions/1114465/getting-mouse-location-in-canvas\n",
       "mpl.findpos = function(e) {\n",
       "    //this section is from http://www.quirksmode.org/js/events_properties.html\n",
       "    var targ;\n",
       "    if (!e)\n",
       "        e = window.event;\n",
       "    if (e.target)\n",
       "        targ = e.target;\n",
       "    else if (e.srcElement)\n",
       "        targ = e.srcElement;\n",
       "    if (targ.nodeType == 3) // defeat Safari bug\n",
       "        targ = targ.parentNode;\n",
       "\n",
       "    // jQuery normalizes the pageX and pageY\n",
       "    // pageX,Y are the mouse positions relative to the document\n",
       "    // offset() returns the position of the element relative to the document\n",
       "    var x = e.pageX - $(targ).offset().left;\n",
       "    var y = e.pageY - $(targ).offset().top;\n",
       "\n",
       "    return {\"x\": x, \"y\": y};\n",
       "};\n",
       "\n",
       "/*\n",
       " * return a copy of an object with only non-object keys\n",
       " * we need this to avoid circular references\n",
       " * http://stackoverflow.com/a/24161582/3208463\n",
       " */\n",
       "function simpleKeys (original) {\n",
       "  return Object.keys(original).reduce(function (obj, key) {\n",
       "    if (typeof original[key] !== 'object')\n",
       "        obj[key] = original[key]\n",
       "    return obj;\n",
       "  }, {});\n",
       "}\n",
       "\n",
       "mpl.figure.prototype.mouse_event = function(event, name) {\n",
       "    var canvas_pos = mpl.findpos(event)\n",
       "\n",
       "    if (name === 'button_press')\n",
       "    {\n",
       "        this.canvas.focus();\n",
       "        this.canvas_div.focus();\n",
       "    }\n",
       "\n",
       "    var x = canvas_pos.x * mpl.ratio;\n",
       "    var y = canvas_pos.y * mpl.ratio;\n",
       "\n",
       "    this.send_message(name, {x: x, y: y, button: event.button,\n",
       "                             step: event.step,\n",
       "                             guiEvent: simpleKeys(event)});\n",
       "\n",
       "    /* This prevents the web browser from automatically changing to\n",
       "     * the text insertion cursor when the button is pressed.  We want\n",
       "     * to control all of the cursor setting manually through the\n",
       "     * 'cursor' event from matplotlib */\n",
       "    event.preventDefault();\n",
       "    return false;\n",
       "}\n",
       "\n",
       "mpl.figure.prototype._key_event_extra = function(event, name) {\n",
       "    // Handle any extra behaviour associated with a key event\n",
       "}\n",
       "\n",
       "mpl.figure.prototype.key_event = function(event, name) {\n",
       "\n",
       "    // Prevent repeat events\n",
       "    if (name == 'key_press')\n",
       "    {\n",
       "        if (event.which === this._key)\n",
       "            return;\n",
       "        else\n",
       "            this._key = event.which;\n",
       "    }\n",
       "    if (name == 'key_release')\n",
       "        this._key = null;\n",
       "\n",
       "    var value = '';\n",
       "    if (event.ctrlKey && event.which != 17)\n",
       "        value += \"ctrl+\";\n",
       "    if (event.altKey && event.which != 18)\n",
       "        value += \"alt+\";\n",
       "    if (event.shiftKey && event.which != 16)\n",
       "        value += \"shift+\";\n",
       "\n",
       "    value += 'k';\n",
       "    value += event.which.toString();\n",
       "\n",
       "    this._key_event_extra(event, name);\n",
       "\n",
       "    this.send_message(name, {key: value,\n",
       "                             guiEvent: simpleKeys(event)});\n",
       "    return false;\n",
       "}\n",
       "\n",
       "mpl.figure.prototype.toolbar_button_onclick = function(name) {\n",
       "    if (name == 'download') {\n",
       "        this.handle_save(this, null);\n",
       "    } else {\n",
       "        this.send_message(\"toolbar_button\", {name: name});\n",
       "    }\n",
       "};\n",
       "\n",
       "mpl.figure.prototype.toolbar_button_onmouseover = function(tooltip) {\n",
       "    this.message.textContent = tooltip;\n",
       "};\n",
       "mpl.toolbar_items = [[\"Home\", \"Reset original view\", \"fa fa-home icon-home\", \"home\"], [\"Back\", \"Back to previous view\", \"fa fa-arrow-left icon-arrow-left\", \"back\"], [\"Forward\", \"Forward to next view\", \"fa fa-arrow-right icon-arrow-right\", \"forward\"], [\"\", \"\", \"\", \"\"], [\"Pan\", \"Pan axes with left mouse, zoom with right\", \"fa fa-arrows icon-move\", \"pan\"], [\"Zoom\", \"Zoom to rectangle\", \"fa fa-square-o icon-check-empty\", \"zoom\"], [\"\", \"\", \"\", \"\"], [\"Download\", \"Download plot\", \"fa fa-floppy-o icon-save\", \"download\"]];\n",
       "\n",
       "mpl.extensions = [\"eps\", \"pdf\", \"png\", \"ps\", \"raw\", \"svg\"];\n",
       "\n",
       "mpl.default_extension = \"png\";var comm_websocket_adapter = function(comm) {\n",
       "    // Create a \"websocket\"-like object which calls the given IPython comm\n",
       "    // object with the appropriate methods. Currently this is a non binary\n",
       "    // socket, so there is still some room for performance tuning.\n",
       "    var ws = {};\n",
       "\n",
       "    ws.close = function() {\n",
       "        comm.close()\n",
       "    };\n",
       "    ws.send = function(m) {\n",
       "        //console.log('sending', m);\n",
       "        comm.send(m);\n",
       "    };\n",
       "    // Register the callback with on_msg.\n",
       "    comm.on_msg(function(msg) {\n",
       "        //console.log('receiving', msg['content']['data'], msg);\n",
       "        // Pass the mpl event to the overridden (by mpl) onmessage function.\n",
       "        ws.onmessage(msg['content']['data'])\n",
       "    });\n",
       "    return ws;\n",
       "}\n",
       "\n",
       "mpl.mpl_figure_comm = function(comm, msg) {\n",
       "    // This is the function which gets called when the mpl process\n",
       "    // starts-up an IPython Comm through the \"matplotlib\" channel.\n",
       "\n",
       "    var id = msg.content.data.id;\n",
       "    // Get hold of the div created by the display call when the Comm\n",
       "    // socket was opened in Python.\n",
       "    var element = $(\"#\" + id);\n",
       "    var ws_proxy = comm_websocket_adapter(comm)\n",
       "\n",
       "    function ondownload(figure, format) {\n",
       "        window.open(figure.imageObj.src);\n",
       "    }\n",
       "\n",
       "    var fig = new mpl.figure(id, ws_proxy,\n",
       "                           ondownload,\n",
       "                           element.get(0));\n",
       "\n",
       "    // Call onopen now - mpl needs it, as it is assuming we've passed it a real\n",
       "    // web socket which is closed, not our websocket->open comm proxy.\n",
       "    ws_proxy.onopen();\n",
       "\n",
       "    fig.parent_element = element.get(0);\n",
       "    fig.cell_info = mpl.find_output_cell(\"<div id='\" + id + \"'></div>\");\n",
       "    if (!fig.cell_info) {\n",
       "        console.error(\"Failed to find cell for figure\", id, fig);\n",
       "        return;\n",
       "    }\n",
       "\n",
       "    var output_index = fig.cell_info[2]\n",
       "    var cell = fig.cell_info[0];\n",
       "\n",
       "};\n",
       "\n",
       "mpl.figure.prototype.handle_close = function(fig, msg) {\n",
       "    var width = fig.canvas.width/mpl.ratio\n",
       "    fig.root.unbind('remove')\n",
       "\n",
       "    // Update the output cell to use the data from the current canvas.\n",
       "    fig.push_to_output();\n",
       "    var dataURL = fig.canvas.toDataURL();\n",
       "    // Re-enable the keyboard manager in IPython - without this line, in FF,\n",
       "    // the notebook keyboard shortcuts fail.\n",
       "    IPython.keyboard_manager.enable()\n",
       "    $(fig.parent_element).html('<img src=\"' + dataURL + '\" width=\"' + width + '\">');\n",
       "    fig.close_ws(fig, msg);\n",
       "}\n",
       "\n",
       "mpl.figure.prototype.close_ws = function(fig, msg){\n",
       "    fig.send_message('closing', msg);\n",
       "    // fig.ws.close()\n",
       "}\n",
       "\n",
       "mpl.figure.prototype.push_to_output = function(remove_interactive) {\n",
       "    // Turn the data on the canvas into data in the output cell.\n",
       "    var width = this.canvas.width/mpl.ratio\n",
       "    var dataURL = this.canvas.toDataURL();\n",
       "    this.cell_info[1]['text/html'] = '<img src=\"' + dataURL + '\" width=\"' + width + '\">';\n",
       "}\n",
       "\n",
       "mpl.figure.prototype.updated_canvas_event = function() {\n",
       "    // Tell IPython that the notebook contents must change.\n",
       "    IPython.notebook.set_dirty(true);\n",
       "    this.send_message(\"ack\", {});\n",
       "    var fig = this;\n",
       "    // Wait a second, then push the new image to the DOM so\n",
       "    // that it is saved nicely (might be nice to debounce this).\n",
       "    setTimeout(function () { fig.push_to_output() }, 1000);\n",
       "}\n",
       "\n",
       "mpl.figure.prototype._init_toolbar = function() {\n",
       "    var fig = this;\n",
       "\n",
       "    var nav_element = $('<div/>');\n",
       "    nav_element.attr('style', 'width: 100%');\n",
       "    this.root.append(nav_element);\n",
       "\n",
       "    // Define a callback function for later on.\n",
       "    function toolbar_event(event) {\n",
       "        return fig.toolbar_button_onclick(event['data']);\n",
       "    }\n",
       "    function toolbar_mouse_event(event) {\n",
       "        return fig.toolbar_button_onmouseover(event['data']);\n",
       "    }\n",
       "\n",
       "    for(var toolbar_ind in mpl.toolbar_items){\n",
       "        var name = mpl.toolbar_items[toolbar_ind][0];\n",
       "        var tooltip = mpl.toolbar_items[toolbar_ind][1];\n",
       "        var image = mpl.toolbar_items[toolbar_ind][2];\n",
       "        var method_name = mpl.toolbar_items[toolbar_ind][3];\n",
       "\n",
       "        if (!name) { continue; };\n",
       "\n",
       "        var button = $('<button class=\"btn btn-default\" href=\"#\" title=\"' + name + '\"><i class=\"fa ' + image + ' fa-lg\"></i></button>');\n",
       "        button.click(method_name, toolbar_event);\n",
       "        button.mouseover(tooltip, toolbar_mouse_event);\n",
       "        nav_element.append(button);\n",
       "    }\n",
       "\n",
       "    // Add the status bar.\n",
       "    var status_bar = $('<span class=\"mpl-message\" style=\"text-align:right; float: right;\"/>');\n",
       "    nav_element.append(status_bar);\n",
       "    this.message = status_bar[0];\n",
       "\n",
       "    // Add the close button to the window.\n",
       "    var buttongrp = $('<div class=\"btn-group inline pull-right\"></div>');\n",
       "    var button = $('<button class=\"btn btn-mini btn-primary\" href=\"#\" title=\"Stop Interaction\"><i class=\"fa fa-power-off icon-remove icon-large\"></i></button>');\n",
       "    button.click(function (evt) { fig.handle_close(fig, {}); } );\n",
       "    button.mouseover('Stop Interaction', toolbar_mouse_event);\n",
       "    buttongrp.append(button);\n",
       "    var titlebar = this.root.find($('.ui-dialog-titlebar'));\n",
       "    titlebar.prepend(buttongrp);\n",
       "}\n",
       "\n",
       "mpl.figure.prototype._root_extra_style = function(el){\n",
       "    var fig = this\n",
       "    el.on(\"remove\", function(){\n",
       "\tfig.close_ws(fig, {});\n",
       "    });\n",
       "}\n",
       "\n",
       "mpl.figure.prototype._canvas_extra_style = function(el){\n",
       "    // this is important to make the div 'focusable\n",
       "    el.attr('tabindex', 0)\n",
       "    // reach out to IPython and tell the keyboard manager to turn it's self\n",
       "    // off when our div gets focus\n",
       "\n",
       "    // location in version 3\n",
       "    if (IPython.notebook.keyboard_manager) {\n",
       "        IPython.notebook.keyboard_manager.register_events(el);\n",
       "    }\n",
       "    else {\n",
       "        // location in version 2\n",
       "        IPython.keyboard_manager.register_events(el);\n",
       "    }\n",
       "\n",
       "}\n",
       "\n",
       "mpl.figure.prototype._key_event_extra = function(event, name) {\n",
       "    var manager = IPython.notebook.keyboard_manager;\n",
       "    if (!manager)\n",
       "        manager = IPython.keyboard_manager;\n",
       "\n",
       "    // Check for shift+enter\n",
       "    if (event.shiftKey && event.which == 13) {\n",
       "        this.canvas_div.blur();\n",
       "        event.shiftKey = false;\n",
       "        // Send a \"J\" for go to next cell\n",
       "        event.which = 74;\n",
       "        event.keyCode = 74;\n",
       "        manager.command_mode();\n",
       "        manager.handle_keydown(event);\n",
       "    }\n",
       "}\n",
       "\n",
       "mpl.figure.prototype.handle_save = function(fig, msg) {\n",
       "    fig.ondownload(fig, null);\n",
       "}\n",
       "\n",
       "\n",
       "mpl.find_output_cell = function(html_output) {\n",
       "    // Return the cell and output element which can be found *uniquely* in the notebook.\n",
       "    // Note - this is a bit hacky, but it is done because the \"notebook_saving.Notebook\"\n",
       "    // IPython event is triggered only after the cells have been serialised, which for\n",
       "    // our purposes (turning an active figure into a static one), is too late.\n",
       "    var cells = IPython.notebook.get_cells();\n",
       "    var ncells = cells.length;\n",
       "    for (var i=0; i<ncells; i++) {\n",
       "        var cell = cells[i];\n",
       "        if (cell.cell_type === 'code'){\n",
       "            for (var j=0; j<cell.output_area.outputs.length; j++) {\n",
       "                var data = cell.output_area.outputs[j];\n",
       "                if (data.data) {\n",
       "                    // IPython >= 3 moved mimebundle to data attribute of output\n",
       "                    data = data.data;\n",
       "                }\n",
       "                if (data['text/html'] == html_output) {\n",
       "                    return [cell, data, j];\n",
       "                }\n",
       "            }\n",
       "        }\n",
       "    }\n",
       "}\n",
       "\n",
       "// Register the function which deals with the matplotlib target/channel.\n",
       "// The kernel may be null if the page has been refreshed.\n",
       "if (IPython.notebook.kernel != null) {\n",
       "    IPython.notebook.kernel.comm_manager.register_target('matplotlib', mpl.mpl_figure_comm);\n",
       "}\n"
      ],
      "text/plain": [
       "<IPython.core.display.Javascript object>"
      ]
     },
     "metadata": {},
     "output_type": "display_data"
    },
    {
     "data": {
      "text/html": [
       "<img src=\"data:image/png;base64,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\" width=\"640\">"
      ],
      "text/plain": [
       "<IPython.core.display.HTML object>"
      ]
     },
     "metadata": {},
     "output_type": "display_data"
    }
   ],
   "source": [
    "fig = plt.figure()\n",
    "axes = fig.add_subplot(111, projection='3d')\n",
    "triplot(mesh, axes=axes);"
   ]
  },
  {
   "cell_type": "markdown",
   "metadata": {},
   "source": [
    "Now let's define our discrete function spaces. We use a Raviart-Thomas (RT) mixed method on quadrilaterals, taking $V = RTCF_2$ and $U = DQ_1$:"
   ]
  },
  {
   "cell_type": "markdown",
   "metadata": {},
   "source": [
    "<figure>\n",
    "  <center><img src=\"image/rtcf2_dg1.png\" alt=\"rtcf_dg\" style=\"width: 400px;\"/></center>\n",
    "  <center><figcaption>$RTCF_2$ (left) and $DQ_1 (right)$.\n",
    "      Source: <a href=\"http://femtable.org/\">periodic table of finite elements</a>\n",
    "      </figcaption></center>\n",
    "</figure>"
   ]
  },
  {
   "cell_type": "code",
   "execution_count": 6,
   "metadata": {},
   "outputs": [],
   "source": [
    "V = FunctionSpace(mesh, \"RTCF\", 2)\n",
    "U = FunctionSpace(mesh, \"DQ\", 1)\n",
    "W = V * U"
   ]
  },
  {
   "cell_type": "markdown",
   "metadata": {},
   "source": [
    "And create an expression for the Coriolis term:"
   ]
  },
  {
   "cell_type": "code",
   "execution_count": 7,
   "metadata": {},
   "outputs": [],
   "source": [
    "f = 2 * Omega_f * x[2] / R"
   ]
  },
  {
   "cell_type": "markdown",
   "metadata": {},
   "source": [
    "For our initial profiles for $\\mathbf{u}$ and $D$, we set them in steady rotating state:\n",
    "\n",
    "$$\n",
    "\\begin{align}\n",
    "    \\mathbf{u}^0 &= \\frac{u_{\\text{max}}}{R}\\left( -y, x, 0\\right), \\\\\n",
    "    D^0 &= H - \\left(R\\Omega_f u_{\\text{max}} + \\frac{u_{\\text{max}}^2}{2}\\right)\\frac{z^2}{gR^2}\n",
    "\\end{align}\n",
    "$$\n",
    "\n",
    "where $u_{\\text{max}} = 40.0 \\text{m}\\text{s}^{-1}$ and $\\Omega_f$ is the planetary rotation rate. In Firedrake, we simply define the expressions in UFL and project/interpolate into the relevant finite element spaces:"
   ]
  },
  {
   "cell_type": "code",
   "execution_count": 8,
   "metadata": {},
   "outputs": [],
   "source": [
    "u_max = Constant(40)\n",
    "u_expr = as_vector([-u_max * x[1] / R, u_max * x[0] / R, 0.0])\n",
    "D_expr = H -  (R * Omega_f * u_max + u_max**2 / 2.0) * (x[2]**2 / (g * R**2))\n",
    "u0 = Function(V).project(u_expr)\n",
    "D0 = Function(U).interpolate(D_expr)"
   ]
  },
  {
   "cell_type": "markdown",
   "metadata": {},
   "source": [
    "We also need solution functions for $\\mathbf{u}$ and $D$:"
   ]
  },
  {
   "cell_type": "code",
   "execution_count": 9,
   "metadata": {},
   "outputs": [],
   "source": [
    "wh = Function(W, name=\"w_h\")    # Fields in a mixed function"
   ]
  },
  {
   "cell_type": "markdown",
   "metadata": {},
   "source": [
    "Now we set the coefficient parameter $\\beta$ and define some test/trial functions:"
   ]
  },
  {
   "cell_type": "code",
   "execution_count": 10,
   "metadata": {},
   "outputs": [],
   "source": [
    "beta = Constant(2000.0)\n",
    "u, D = TrialFunctions(W)\n",
    "w, phi = TestFunctions(W)"
   ]
  },
  {
   "cell_type": "markdown",
   "metadata": {},
   "source": [
    "UFL has all the right objects to specify our problem. However, for the integral:\n",
    "$$\n",
    "\\begin{equation*}\n",
    "\\int_\\Omega \\mathbf{w}\\cdot f\\mathbf{u}^\\perp\\,\\mathrm{d}x,\n",
    "\\end{equation*}\n",
    "$$\n",
    "we need to be a bit careful. UFL does indeed have a `perp` operator, but it does not work for embedded manifolds. That is okay! Since UFL is all in Python, we can create our own `perp` via a Python function which returns a UFL expression:"
   ]
  },
  {
   "cell_type": "code",
   "execution_count": 11,
   "metadata": {},
   "outputs": [],
   "source": [
    "perp = lambda u: cross(CellNormal(mesh), u)"
   ]
  },
  {
   "cell_type": "markdown",
   "metadata": {},
   "source": [
    "Finally, we can define our finite element problem in residual form and create a `LinearVariationalProblem`. Here is the problem in residual form:\n",
    "\n",
    "$$\n",
    "\\begin{align}\n",
    "    0 = F(\\mathbf{u}, D; \\mathbf{w}, \\phi) &=\n",
    "    \\color{#800020}{\\int_\\Omega \\mathbf{w}\\cdot\\mathbf{u}\\,\\mathrm{d}x +\n",
    "    \\beta\\int_\\Omega \\mathbf{w}\\cdot f\\mathbf{u}^\\perp\\,\\mathrm{d}x} \\\\\n",
    "    &- \\color{#2A52BE}{g\\beta\\int_\\Omega D\\nabla\\cdot\\mathbf{w}\\,\\mathrm{d}x} \\\\\n",
    "    &- \\int_\\Omega \\mathbf{w}\\cdot\\mathbf{u}^{0}\\,\\mathrm{d}x\n",
    "    + \\beta\\int_\\Omega \\mathbf{w}\\cdot f\\mathbf{u}^{0\\perp}\\,\\mathrm{d}x \\\\\n",
    "    &- g\\beta\\int_\\Omega D^{0}\\nabla\\cdot\\mathbf{w}\\,\\mathrm{d}x \\\\\n",
    "    &+ \\color{#CC5500}{\\int_\\Omega \\phi D\\,\\mathrm{d}x} +\n",
    "    \\color{#2A52BE}{H\\beta\\int_\\Omega \\phi\\nabla\\cdot\\mathbf{u}\\,\\mathrm{d}x} \\\\\n",
    "    &- \\int_\\Omega \\phi D^{0}\\,\\mathrm{d}x +\n",
    "    \\beta\\int_\\Omega \\phi\\nabla\\cdot\\mathbf{u}^{0}\\,\\mathrm{d}x,\n",
    "\\end{align}\n",
    "$$\n",
    "\n",
    "and in UFL:"
   ]
  },
  {
   "cell_type": "code",
   "execution_count": 12,
   "metadata": {},
   "outputs": [],
   "source": [
    "uD_eqn = (inner(w, u) + beta*inner(w, f*perp(u))\n",
    "          - g*beta*div(w)*D\n",
    "          - inner(w, u0) + beta*inner(w, f*perp(u0))\n",
    "          - g*beta*div(w)*D0\n",
    "          + phi*D + H*beta*phi*div(u)\n",
    "          - phi*D0 + H*beta*phi*div(u0))*dx\n",
    "a = lhs(uD_eqn)\n",
    "L = rhs(uD_eqn)\n",
    "\n",
    "uD_problem = LinearVariationalProblem(a, L, wh, constant_jacobian=False)"
   ]
  },
  {
   "cell_type": "markdown",
   "metadata": {},
   "source": [
    "## An approximate Schur-complement preconditioner\n",
    "\n",
    "In exact arithmetic, the inverse of the Schur-complement factorization of $\\mathcal{A}$ is:\n",
    "\n",
    "$$\n",
    "   \\mathcal{A}^{-1} =\n",
    "   \\begin{bmatrix}\n",
    "       I & g\\beta \\color{#800020}{A^{-1}}\\color{#2A52BE}{B^T} \\\\\n",
    "       0 & I\n",
    "   \\end{bmatrix}\n",
    "   \\begin{bmatrix}\n",
    "       \\color{#800020}{A^{-1}} & 0 \\\\\n",
    "       0 & \\color{#CC5500}{S}^{-1}\n",
    "   \\end{bmatrix}\n",
    "   \\begin{bmatrix}\n",
    "       I & 0 \\\\\n",
    "       -H\\beta \\color{#2A52BE}{B}\\color{#800020}{A^{-1}} & I\n",
    "   \\end{bmatrix},\n",
    "$$\n",
    "where $\\color{#CC5500}{S}$ is the Schur-complement:\n",
    "\n",
    "$$\n",
    "\\begin{equation}\n",
    "    \\color{#CC5500}{S} = \\color{#CC5500}{C} + gH\\beta^2\\color{#2A52BE}{B}\\color{#800020}{A^{-1}}\\color{#2A52BE}{B^T}.\n",
    "\\end{equation}\n",
    "$$\n",
    "\n",
    "Problem: $\\color{#800020}{A^{-1}}$ is _dense_! Instead, let's construct a sparse approximation by using the diagonal of $\\color{#800020}{A}$ to form:\n",
    "\n",
    "$$\n",
    "\\begin{equation}\n",
    "    \\color{#CC5500}{\\tilde{S}} = \\color{#CC5500}{C} + gH\\beta^2\\color{#2A52BE}{B}\\text{Diag}(\\color{#800020}{A})^{-1}\\color{#2A52BE}{B^T}.\n",
    "\\end{equation}\n",
    "$$"
   ]
  },
  {
   "cell_type": "markdown",
   "metadata": {},
   "source": [
    "Here, we use a block-preconditioner (centered around a full factorization) and approximately invert both $\\color{#800020}{A}$ and $\\color{#CC5500}{\\tilde{S}}$:"
   ]
  },
  {
   "cell_type": "code",
   "execution_count": 13,
   "metadata": {},
   "outputs": [],
   "source": [
    "solver_parameters = {'ksp_type': 'gmres',\n",
    "                     'ksp_rtol': 1.0e-7,\n",
    "                     'ksp_max_it': 1500,\n",
    "                     'pc_type': 'fieldsplit',\n",
    "                     'pc_fieldsplit': {'type': 'schur',\n",
    "                                       'schur_fact_type': 'full',\n",
    "                                       'schur_precondition': 'selfp'},\n",
    "                     'fieldsplit_0': {'ksp_type': 'preonly',\n",
    "                                      'pc_type': 'bjacobi',\n",
    "                                      'sub_pc_type': 'ilu'},\n",
    "                     'fieldsplit_1': {'ksp_type': 'preonly',\n",
    "                                      'pc_type': 'gamg',\n",
    "                                      'mg_levels': {'ksp_type': 'chebyshev',\n",
    "                                                    'ksp_max_it': 5,\n",
    "                                                    'pc_type': 'bjacobi',\n",
    "                                                    'sub_pc_type': 'ilu'}}}\n",
    "uD_solver_gmres = LinearVariationalSolver(uD_problem,\n",
    "                                          solver_parameters=solver_parameters)"
   ]
  },
  {
   "cell_type": "markdown",
   "metadata": {},
   "source": [
    "Now we just call solve, store our results, and take a look at the reduction in the residual:"
   ]
  },
  {
   "cell_type": "code",
   "execution_count": 14,
   "metadata": {},
   "outputs": [
    {
     "name": "stdout",
     "output_type": "stream",
     "text": [
      "reduction in residual: 3.682334248701547e-10\n"
     ]
    }
   ],
   "source": [
    "wh.assign(0.0)\n",
    "uD_solver_gmres.solve()\n",
    "r = assemble(action(a, wh) - L)\n",
    "b = assemble(L)\n",
    "print(\"reduction in residual: %s\" % (r.dat.norm / b.dat.norm))"
   ]
  },
  {
   "cell_type": "markdown",
   "metadata": {},
   "source": [
    "### Solver convergence\n",
    "\n",
    "Although the code we wrote above works fine, let's take a closer look by inspecting solver."
   ]
  },
  {
   "cell_type": "code",
   "execution_count": 15,
   "metadata": {},
   "outputs": [
    {
     "name": "stdout",
     "output_type": "stream",
     "text": [
      "gmres iterations = 5, converged reason = CONVERGED_RTOL\n"
     ]
    }
   ],
   "source": [
    "def gmres_solver_conv(solver):\n",
    "    from firedrake.solving_utils import KSPReasons\n",
    "\n",
    "    print(\"gmres iterations = {}, converged reason = {}\".format(\n",
    "           solver.snes.ksp.getIterationNumber(), \n",
    "           KSPReasons[solver.snes.ksp.getConvergedReason()]))\n",
    "\n",
    "gmres_solver_conv(uD_solver_gmres)"
   ]
  },
  {
   "cell_type": "markdown",
   "metadata": {},
   "source": [
    "Okay. But what happens if we change the parameters a bit? For example, increasing $\\beta$:"
   ]
  },
  {
   "cell_type": "code",
   "execution_count": 16,
   "metadata": {},
   "outputs": [
    {
     "name": "stdout",
     "output_type": "stream",
     "text": [
      "gmres iterations = 7, converged reason = CONVERGED_RTOL\n"
     ]
    }
   ],
   "source": [
    "beta.assign(4000.0)\n",
    "wh.assign(0.0)        # re-initialize solution vector\n",
    "uD_solver_gmres.solve()\n",
    "gmres_solver_conv(uD_solver_gmres)"
   ]
  },
  {
   "cell_type": "code",
   "execution_count": 17,
   "metadata": {},
   "outputs": [
    {
     "name": "stdout",
     "output_type": "stream",
     "text": [
      "gmres iterations = 12, converged reason = CONVERGED_RTOL\n"
     ]
    }
   ],
   "source": [
    "beta.assign(8000.0)\n",
    "wh.assign(0.0)\n",
    "uD_solver_gmres.solve()\n",
    "gmres_solver_conv(uD_solver_gmres)"
   ]
  },
  {
   "cell_type": "code",
   "execution_count": 18,
   "metadata": {
    "scrolled": true
   },
   "outputs": [
    {
     "name": "stdout",
     "output_type": "stream",
     "text": [
      "gmres iterations = 27, converged reason = CONVERGED_RTOL\n"
     ]
    }
   ],
   "source": [
    "beta.assign(16000.0)\n",
    "wh.assign(0.0)\n",
    "uD_solver_gmres.solve()\n",
    "gmres_solver_conv(uD_solver_gmres)"
   ]
  },
  {
   "cell_type": "code",
   "execution_count": 19,
   "metadata": {},
   "outputs": [
    {
     "name": "stdout",
     "output_type": "stream",
     "text": [
      "gmres iterations = 74, converged reason = CONVERGED_RTOL\n"
     ]
    }
   ],
   "source": [
    "beta.assign(32000.0)\n",
    "wh.assign(0.0)\n",
    "uD_solver_gmres.solve()\n",
    "gmres_solver_conv(uD_solver_gmres)"
   ]
  },
  {
   "cell_type": "code",
   "execution_count": 20,
   "metadata": {},
   "outputs": [
    {
     "name": "stdout",
     "output_type": "stream",
     "text": [
      "gmres iterations = 589, converged reason = CONVERGED_RTOL\n"
     ]
    }
   ],
   "source": [
    "beta.assign(64000.0)\n",
    "wh.assign(0.0)\n",
    "uD_solver_gmres.solve()\n",
    "gmres_solver_conv(uD_solver_gmres)"
   ]
  },
  {
   "cell_type": "markdown",
   "metadata": {},
   "source": [
    "Yikes. Can we do better?"
   ]
  },
  {
   "cell_type": "markdown",
   "metadata": {},
   "source": [
    "## The hybridized mixed method\n",
    "\n",
    "Hybridizing the mixed formulation is an alternative approach which avoids building a global dense operator. We seek approximations $\\hat{\\mathbf{u}}, D, \\lambda \\in \\widehat{V} \\times U \\times T$, where $\\widehat{V}$ is a _discontinuous_ version of $V$ and $T$ is the _trace_ of $V$."
   ]
  },
  {
   "cell_type": "markdown",
   "metadata": {},
   "source": [
    "$V = RTCF_2$ is continuous in the sense that nodes on the facets shared between cells are topologically identical. The result of rendering $V$ discontinuous removes this association:\n",
    "\n",
    "<ul class=\"list-unstyled list-inline text-center\">\n",
    "  <li>\n",
    "    <img src='image/w2.png' alt='w2' style=\"width: 275px;\"/>\n",
    "    <figcaption>$V$: continuous between facets.</figcaption>\n",
    "  </li>\n",
    "    &#160; &#160; &#160; &#160; &#160; &#160; &#160; &#160;\n",
    "  <li>\n",
    "    <img src='image/w2b.png' alt='w2b' style=\"width: 320px;\"/>\n",
    "    <figcaption>$\\widehat{V}$: no continuity across cell facets.</figcaption>\n",
    "  </li>\n",
    "</ul>"
   ]
  },
  {
   "cell_type": "markdown",
   "metadata": {},
   "source": [
    "The trace of $V$ is a scalar-valued function space defined only on the mesh skeleton, $\\mathcal{E}$. It is constructed such that function in $T$ belong to the _same_ polynomial space as $\\mathbf{w}\\cdot\\mathbf{n}$, $\\mathbf{w} \\in V$:\n",
    "\n",
    "<figure>\n",
    "    <center><img src='image/w2t.png' alt='w2t' style=\"width: 250px;\"/></center>\n",
    "    <center><figcaption>The space of traces, $T$. Functions in this space are discontinuous across vertices.</figcaption></center>\n",
    "</figure>"
   ]
  },
  {
   "cell_type": "markdown",
   "metadata": {},
   "source": [
    "The approximations $\\hat{\\mathbf{u}}, D, \\lambda$ satisfy the following variational problem:\n",
    "\n",
    "$$\n",
    "\\begin{align}\n",
    "    \\color{#800020}{\\int_\\Omega \\hat{\\mathbf{w}}\\cdot\\hat{\\mathbf{u}}\\,\\mathrm{d}x +\n",
    "    \\beta\\int_\\Omega \\hat{\\mathbf{w}}\\cdot f\\hat{\\mathbf{u}}^\\perp\\,\\mathrm{d}x}\n",
    "    - \\color{#2A52BE}{g\\beta\\int_\\Omega D\\nabla\\cdot\\hat{\\mathbf{w}}\\,\\mathrm{d}x} +\n",
    "    \\color{#50404D}{\\sum_{K \\in \\Omega} \\int_{\\partial K} \\lambda \\hat{\\mathbf{w}}\\cdot\\mathbf{n}\\,\\mathrm{d}s}\n",
    "    &= -R\\lbrack \\hat{\\mathbf{u}} \\rbrack,\n",
    "    \\quad \\forall \\hat{\\mathbf{w}} \\in \\widehat{V}, \\\\\n",
    "    \\color{#CC5500}{\\int_\\Omega \\phi D\\,\\mathrm{d}x} +\n",
    "    \\color{#2A52BE}{H\\beta\\int_\\Omega \\phi\\nabla\\cdot\\hat{\\mathbf{u}}\\,\\mathrm{d}x} &= -R\\lbrack \\phi \\rbrack,\n",
    "    \\quad \\forall \\phi \\in U, \\\\\n",
    "    \\color{#50404D}{\\sum_{K \\in \\Omega} \\int_{\\partial K} \\gamma \\hat{\\mathbf{u}}\\cdot\\mathbf{n}\\,\\mathrm{d}s}\n",
    "    &= 0, \\quad\\quad\\quad \\forall \\gamma \\in T.\n",
    "\\end{align}\n",
    "$$\n",
    "\n",
    "This is the \"hybridized\" mixed method, resulting in an augmented system with an additional unknown $\\lambda$. This system is solving the same PDE."
   ]
  },
  {
   "cell_type": "markdown",
   "metadata": {},
   "source": [
    "### The discrete hybridized system\n",
    "\n",
    "The resulting discrete system is:\n",
    "\n",
    "$$\n",
    "\\begin{bmatrix}\n",
    "    \\color{#800020}{\\hat{A}} & -g\\beta\\color{#2A52BE}{B^T} & \\color{#50404D}{E^T} \\\\\n",
    "    H\\beta\\color{#2A52BE}{B} & \\color{#CC5500}{C} & 0 \\\\\n",
    "    \\color{#50404D}{E} & 0 & 0\n",
    "\\end{bmatrix}\n",
    "\\begin{Bmatrix}\n",
    "    \\hat{U} \\\\\n",
    "    D \\\\\n",
    "    \\Lambda\n",
    "\\end{Bmatrix} =\n",
    "\\begin{Bmatrix}\n",
    "    -R^n\\lbrack \\hat{\\mathbf{w}} \\rbrack \\\\\n",
    "    -R^n\\lbrack \\phi \\rbrack \\\\\n",
    "    0\n",
    "\\end{Bmatrix}.\n",
    "$$\n",
    "\n",
    "Upon initial inspection, it may appear that hybridizing the mixed problem is counter-productive. However, since $\\hat{U}$ and $D$ coupled within the cell interiors only, both can be **eliminated cell-wise** via static condensation!\n",
    "\n",
    "<ul class=\"list-unstyled list-inline text-center\">\n",
    "  <li>\n",
    "    <img src='image/global_mixed_sparsity.png' alt='sparsemat_mixed' style=\"width: 275px;\"/>\n",
    "    <figcaption>Sparsity pattern for the original mixed system.</figcaption>\n",
    "  </li>\n",
    "    &#160; &#160; &#160; &#160; &#160; &#160; &#160; &#160;\n",
    "  <li>\n",
    "    <img src='image/global_hybridized_sparsity.png' alt='sparsemat_mixed' style=\"width: 275px;\"/>\n",
    "    <figcaption>Sparsity pattern for the hybridizable system.</figcaption>\n",
    "  </li>\n",
    "</ul>\n",
    "\n",
    "A reduced problem for $\\Lambda$ can be formed:\n",
    "\n",
    "$$\n",
    "\\begin{bmatrix}\n",
    "    \\color{#50404D}{E} & 0\n",
    "\\end{bmatrix}\n",
    "\\begin{bmatrix}\n",
    "    \\color{#800020}{\\hat{A}} & -g\\beta\\color{#2A52BE}{B^T}\\\\\n",
    "    H\\beta\\color{#2A52BE}{B} & \\color{#CC5500}{C}\n",
    "\\end{bmatrix}^{-1}\n",
    "\\begin{bmatrix}\n",
    "    \\color{#50404D}{E^T} \\\\\n",
    "    0\n",
    "\\end{bmatrix}\n",
    "\\Lambda =\n",
    "\\begin{bmatrix}\n",
    "    \\color{#50404D}{E} & 0\n",
    "\\end{bmatrix}\n",
    "\\begin{bmatrix}\n",
    "    \\color{#800020}{\\hat{A}} & -g\\beta\\color{#2A52BE}{B^T}\\\\\n",
    "    H\\beta\\color{#2A52BE}{B} & \\color{#CC5500}{C}\n",
    "\\end{bmatrix}^{-1}\n",
    "\\begin{Bmatrix}\n",
    "    -R^n\\lbrack \\hat{\\mathbf{w}} \\rbrack \\\\\n",
    "    -R^n\\lbrack \\phi \\rbrack\n",
    "\\end{Bmatrix}.\n",
    "$$\n",
    "\n",
    "There are a number of advantages to inverting the $\\Lambda$ system over the original mixed problem.\n",
    "* The full hybridized system is **never** explicitly assembled;\n",
    "\n",
    "* The block operator:\n",
    "$$\n",
    "\\begin{bmatrix}\n",
    "    \\color{#800020}{\\hat{A}} & -g\\beta\\color{#2A52BE}{B^T}\\\\\n",
    "    H\\beta\\color{#2A52BE}{B} & \\color{#CC5500}{C}\n",
    "\\end{bmatrix}\n",
    "$$\n",
    "can be inverted cell-wise.\n",
    "\n",
    "* Once $\\Lambda$ is determined, $\\hat{U}$ and $D$ can be **recovered cell-wise** by inverting the local systems:\n",
    "$$\n",
    "\\begin{Bmatrix}\n",
    "    \\hat{U} \\\\\n",
    "    D\n",
    "\\end{Bmatrix}\n",
    "=\n",
    "\\begin{bmatrix}\n",
    "    \\color{#800020}{\\hat{A}} & -g\\beta\\color{#2A52BE}{B^T}\\\\\n",
    "    H\\beta\\color{#2A52BE}{B} & \\color{#CC5500}{C}\n",
    "\\end{bmatrix}^{-1}\n",
    "\\left(\n",
    "\\begin{Bmatrix}\n",
    "    -R^n\\lbrack \\hat{\\mathbf{w}} \\rbrack \\\\\n",
    "    -R^n\\lbrack \\phi \\rbrack\n",
    "\\end{Bmatrix}\n",
    "-\n",
    "\\begin{bmatrix}\n",
    "    \\color{#50404D}{E^T}\\\\\n",
    "    0\n",
    "\\end{bmatrix}\n",
    "\\Lambda\\right).\n",
    "$$"
   ]
  },
  {
   "cell_type": "markdown",
   "metadata": {},
   "source": [
    "People are often dissuaded from hybridized finite element solvers for their tedious implementation stages. However, Firedrake possesses an abstraction layer for automatically generating element-local dense linear algebra kernels (Slate).\n",
    "In Firedrake, you can write out the dense linear algebra expressions directly:"
   ]
  },
  {
   "cell_type": "code",
   "execution_count": 21,
   "metadata": {},
   "outputs": [
    {
     "name": "stdout",
     "output_type": "stream",
     "text": [
      "M_1[(2, range(0, 1))]_0 * (PartialPivLU(M_1[(range(0, 1), range(0, 1))]_3)_2).inv * M_1[(range(0, 1), 2)]_4\n"
     ]
    }
   ],
   "source": [
    "Vhat = FunctionSpace(mesh, BrokenElement(V.ufl_element()))\n",
    "Uhat = FunctionSpace(mesh, U.ufl_element())\n",
    "T = FunctionSpace(mesh, FiniteElement(\"HDiv Trace\", mesh.ufl_cell(), 1))\n",
    "Whybrid = Vhat * Uhat * T\n",
    "\n",
    "n = FacetNormal(mesh)\n",
    "uhat, Dhat, lambdar = TrialFunctions(Whybrid)\n",
    "what, phihat, gammar = TestFunctions(Whybrid)\n",
    "\n",
    "# bilinear form (hybrid-mixed system)\n",
    "a_hybrid = ((inner(what, uhat) + beta*inner(what, f*perp(uhat))\n",
    "            - g*beta*div(what)*Dhat\n",
    "            + phihat*Dhat + H*beta*phihat*div(uhat))*dx\n",
    "            + jump(what, n=n)*lambdar('+')*dS\n",
    "            + jump(uhat, n=n)*gammar('+')*dS)\n",
    "\n",
    "# Slate expression for element-wise static condensation\n",
    "AA = Tensor(a_hybrid)\n",
    "A = AA.blocks\n",
    "S = A[2, 0:1] * A[0:1, 0:1].inv * A[0:1, 2]\n",
    "print(S)"
   ]
  },
  {
   "cell_type": "markdown",
   "metadata": {},
   "source": [
    "## Firedrake's hybridization interface\n",
    "\n",
    "Using Firedrake's symbolic reasoning capability, we can automate the hybridization and static condensation operations using the Python-based preconditioner: `HybridizationPC`. It can be configured through usual PETSc options:"
   ]
  },
  {
   "cell_type": "code",
   "execution_count": 22,
   "metadata": {},
   "outputs": [],
   "source": [
    "hybrid_parameters = {'ksp_type': 'preonly',\n",
    "                     'mat_type': 'matfree',\n",
    "                     'pc_type': 'python',\n",
    "                     'pc_python_type': 'firedrake.HybridizationPC',\n",
    "                     # Solver for the trace system\n",
    "                     'hybridization': {'ksp_type': 'gmres',\n",
    "                                       'pc_type': 'gamg',\n",
    "                                       'pc_gamg_sym_graph': True,\n",
    "                                       'ksp_rtol': 1e-7,\n",
    "                                       'mg_levels': {'ksp_type': 'richardson',\n",
    "                                                     'ksp_max_it': 5,\n",
    "                                                     'pc_type': 'bjacobi',\n",
    "                                                     'sub_pc_type': 'ilu'}}}"
   ]
  },
  {
   "cell_type": "markdown",
   "metadata": {},
   "source": [
    "Now one can run the simulation just as before:"
   ]
  },
  {
   "cell_type": "code",
   "execution_count": 23,
   "metadata": {},
   "outputs": [
    {
     "name": "stdout",
     "output_type": "stream",
     "text": [
      "reduction in residual: 8.401132933543049e-09\n"
     ]
    }
   ],
   "source": [
    "beta.assign(2000.0)      # set beta back to initial value\n",
    "wh.assign(0.0)\n",
    "uD_solver_hybrid = LinearVariationalSolver(uD_problem,\n",
    "                                           solver_parameters=hybrid_parameters)\n",
    "uD_solver_hybrid.solve()\n",
    "r = assemble(action(a, wh) - L)\n",
    "b = assemble(L)\n",
    "print(\"reduction in residual: %s\" % (r.dat.norm / b.dat.norm))"
   ]
  },
  {
   "cell_type": "markdown",
   "metadata": {},
   "source": [
    "Great! Now how about a closer look at the solver."
   ]
  },
  {
   "cell_type": "markdown",
   "metadata": {},
   "source": [
    "### Solver convergence for the hybridized system\n",
    "\n",
    "Let's stress out the hybridization solver a bit. As before, we write a convenience function for viewing solver convergence:"
   ]
  },
  {
   "cell_type": "code",
   "execution_count": 24,
   "metadata": {},
   "outputs": [],
   "source": [
    "def hybrid_solver_conv(solver):\n",
    "    from firedrake.solving_utils import KSPReasons\n",
    "\n",
    "    # get the ksp associated with the trace system\n",
    "    trace_ksp = solver.snes.ksp.getPC().getPythonContext().trace_ksp\n",
    "\n",
    "    print(\"gmres iterations (trace sys) = {}, converged reason = {}\".format(\n",
    "          trace_ksp.getIterationNumber(), \n",
    "          KSPReasons[trace_ksp.getConvergedReason()]))"
   ]
  },
  {
   "cell_type": "markdown",
   "metadata": {},
   "source": [
    "Just as we previously did with our approximate Schur-complement preconditioner, let's go ahead and start a sequence $\\beta$-parametrized runs:"
   ]
  },
  {
   "cell_type": "code",
   "execution_count": 25,
   "metadata": {},
   "outputs": [
    {
     "name": "stdout",
     "output_type": "stream",
     "text": [
      "gmres iterations (trace sys) = 4, converged reason = CONVERGED_RTOL\n"
     ]
    }
   ],
   "source": [
    "beta.assign(4000.0)\n",
    "wh.assign(0.0)\n",
    "uD_solver_hybrid.solve()\n",
    "hybrid_solver_conv(uD_solver_hybrid)"
   ]
  },
  {
   "cell_type": "code",
   "execution_count": 26,
   "metadata": {},
   "outputs": [
    {
     "name": "stdout",
     "output_type": "stream",
     "text": [
      "gmres iterations (trace sys) = 6, converged reason = CONVERGED_RTOL\n"
     ]
    }
   ],
   "source": [
    "beta.assign(8000.0)\n",
    "wh.assign(0.0)\n",
    "uD_solver_hybrid.solve()\n",
    "hybrid_solver_conv(uD_solver_hybrid)"
   ]
  },
  {
   "cell_type": "code",
   "execution_count": 27,
   "metadata": {},
   "outputs": [
    {
     "name": "stdout",
     "output_type": "stream",
     "text": [
      "gmres iterations (trace sys) = 9, converged reason = CONVERGED_RTOL\n"
     ]
    }
   ],
   "source": [
    "beta.assign(16000.0)\n",
    "wh.assign(0.0)\n",
    "uD_solver_hybrid.solve()\n",
    "hybrid_solver_conv(uD_solver_hybrid)"
   ]
  },
  {
   "cell_type": "code",
   "execution_count": 28,
   "metadata": {},
   "outputs": [
    {
     "name": "stdout",
     "output_type": "stream",
     "text": [
      "gmres iterations (trace sys) = 18, converged reason = CONVERGED_RTOL\n"
     ]
    }
   ],
   "source": [
    "beta.assign(32000.0)\n",
    "wh.assign(0.0)\n",
    "uD_solver_hybrid.solve()\n",
    "hybrid_solver_conv(uD_solver_hybrid)"
   ]
  },
  {
   "cell_type": "code",
   "execution_count": 29,
   "metadata": {},
   "outputs": [
    {
     "name": "stdout",
     "output_type": "stream",
     "text": [
      "gmres iterations (trace sys) = 41, converged reason = CONVERGED_RTOL\n"
     ]
    }
   ],
   "source": [
    "beta.assign(64000.0)\n",
    "wh.assign(0.0)\n",
    "uD_solver_hybrid.solve()\n",
    "hybrid_solver_conv(uD_solver_hybrid)"
   ]
  },
  {
   "cell_type": "markdown",
   "metadata": {},
   "source": [
    "### Solver time comparison"
   ]
  },
  {
   "cell_type": "markdown",
   "metadata": {},
   "source": [
    "Let's set up a problem and solve using preconditioned GMRES and with hybridization. Taking a modest value for $\\beta$, we can use builtin notebook magic to time the execution of the solve:"
   ]
  },
  {
   "cell_type": "code",
   "execution_count": 30,
   "metadata": {},
   "outputs": [],
   "source": [
    "beta.assign(32000.0);"
   ]
  },
  {
   "cell_type": "markdown",
   "metadata": {},
   "source": [
    "Now let's time it:"
   ]
  },
  {
   "cell_type": "code",
   "execution_count": 31,
   "metadata": {},
   "outputs": [
    {
     "name": "stdout",
     "output_type": "stream",
     "text": [
      "429 ms ± 18 ms per loop (mean ± std. dev. of 7 runs, 1 loop each)\n"
     ]
    }
   ],
   "source": [
    "%%timeit\n",
    "wh.assign(0.0)\n",
    "uD_solver_gmres.solve()"
   ]
  },
  {
   "cell_type": "markdown",
   "metadata": {},
   "source": [
    "And now for hybridization:"
   ]
  },
  {
   "cell_type": "code",
   "execution_count": 32,
   "metadata": {},
   "outputs": [
    {
     "name": "stdout",
     "output_type": "stream",
     "text": [
      "205 ms ± 4.88 ms per loop (mean ± std. dev. of 7 runs, 1 loop each)\n"
     ]
    }
   ],
   "source": [
    "%%timeit\n",
    "wh.assign(0.0)\n",
    "uD_solver_hybrid.solve()"
   ]
  }
 ],
 "metadata": {
  "kernelspec": {
   "display_name": "Python 3",
   "language": "python",
   "name": "python3"
  },
  "language_info": {
   "codemirror_mode": {
    "name": "ipython",
    "version": 3
   },
   "file_extension": ".py",
   "mimetype": "text/x-python",
   "name": "python",
   "nbconvert_exporter": "python",
   "pygments_lexer": "ipython3",
   "version": "3.7.4"
  }
 },
 "nbformat": 4,
 "nbformat_minor": 1
}
